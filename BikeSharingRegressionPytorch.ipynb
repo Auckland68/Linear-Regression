{
 "cells": [
  {
   "cell_type": "markdown",
   "metadata": {},
   "source": [
    "# Bike Sharing Regression with Pytorch"
   ]
  },
  {
   "cell_type": "markdown",
   "metadata": {},
   "source": [
    "This notebook uses the bike sharing dataset to perform regression using a neural network with Pytorch. The work is based on the tutorial by Janani Ravi.\n",
    "\n",
    "Download link: https://www.kaggle.com/marklvl/bike-sharing-dataset"
   ]
  },
  {
   "cell_type": "markdown",
   "metadata": {},
   "source": [
    "* instant: Record index\n",
    "* dteday: Date\n",
    "* season: Season (1:springer, 2:summer, 3:fall, 4:winter)\n",
    "* yr: Year (0: 2011, 1:2012)\n",
    "* mnth: Month (1 to 12)\n",
    "* hr: Hour (0 to 23)\n",
    "* holiday: weather day is holiday or not (extracted from Holiday Schedule)\n",
    "* weekday: Day of the week\n",
    "* workingday: If day is neither weekend nor holiday is 1, otherwise is 0.\n",
    "* weathersit: (extracted from Freemeteo)\n",
    " -  1: Clear, Few clouds, Partly cloudy, Partly cloudy\n",
    " -  2: Mist + Cloudy, Mist + Broken clouds, Mist + Few clouds, Mist\n",
    " -  3: Light Snow, Light Rain + Thunderstorm + Scattered clouds, Light Rain + Scattered clouds\n",
    " -  4: Heavy Rain + Ice Pallets + Thunderstorm + Mist, Snow + Fog\n",
    "* temp: Normalized temperature in Celsius. The values are derived via (t-tmin)/(tmax-tmin), tmin=-8, t_max=+39 (only in hourly scale)\n",
    "* atemp: Normalized feeling temperature in Celsius. The values are derived via (t-tmin)/(tmax-tmin), tmin=-16, t_max=+50 (only in hourly scale)\n",
    "* hum: Normalized humidity. The values are divided to 100 (max)\n",
    "* windspeed: Normalized wind speed. The values are divided to 67 (max)\n",
    "* casual: count of casual users\n",
    "* registered: count of registered users\n",
    "* cnt: count of total rental bikes including both casual and registered"
   ]
  },
  {
   "cell_type": "markdown",
   "metadata": {},
   "source": [
    "# 1.0 Import Libraries and Data"
   ]
  },
  {
   "cell_type": "code",
   "execution_count": 1,
   "metadata": {},
   "outputs": [],
   "source": [
    "# Torch\n",
    "import torch\n",
    "import hiddenlayer as hl\n",
    "import torch.utils.data as data_utils # for creating batches\n",
    "\n",
    "# Python\n",
    "import pandas as pd\n",
    "import numpy as np\n",
    "\n",
    "# Visualisation\n",
    "import seaborn as sns\n",
    "import matplotlib.pyplot as plt\n",
    "\n",
    "# Data Science\n",
    "import sklearn\n",
    "from sklearn.model_selection import train_test_split"
   ]
  },
  {
   "cell_type": "code",
   "execution_count": 2,
   "metadata": {},
   "outputs": [],
   "source": [
    "data = pd.read_csv('C:/Users/imoge/Projects/Datasets/bike_sharing', index_col=0)                        "
   ]
  },
  {
   "cell_type": "code",
   "execution_count": 3,
   "metadata": {
    "scrolled": true
   },
   "outputs": [
    {
     "data": {
      "text/html": [
       "<div>\n",
       "<style scoped>\n",
       "    .dataframe tbody tr th:only-of-type {\n",
       "        vertical-align: middle;\n",
       "    }\n",
       "\n",
       "    .dataframe tbody tr th {\n",
       "        vertical-align: top;\n",
       "    }\n",
       "\n",
       "    .dataframe thead th {\n",
       "        text-align: right;\n",
       "    }\n",
       "</style>\n",
       "<table border=\"1\" class=\"dataframe\">\n",
       "  <thead>\n",
       "    <tr style=\"text-align: right;\">\n",
       "      <th></th>\n",
       "      <th>instant</th>\n",
       "      <th>dteday</th>\n",
       "      <th>season</th>\n",
       "      <th>yr</th>\n",
       "      <th>mnth</th>\n",
       "      <th>holiday</th>\n",
       "      <th>weekday</th>\n",
       "      <th>workingday</th>\n",
       "      <th>weathersit</th>\n",
       "      <th>temp</th>\n",
       "      <th>atemp</th>\n",
       "      <th>hum</th>\n",
       "      <th>windspeed</th>\n",
       "      <th>casual</th>\n",
       "      <th>registered</th>\n",
       "      <th>cnt</th>\n",
       "    </tr>\n",
       "  </thead>\n",
       "  <tbody>\n",
       "    <tr>\n",
       "      <th>0</th>\n",
       "      <td>1</td>\n",
       "      <td>2011-01-01</td>\n",
       "      <td>spring</td>\n",
       "      <td>0</td>\n",
       "      <td>1</td>\n",
       "      <td>0</td>\n",
       "      <td>6</td>\n",
       "      <td>0</td>\n",
       "      <td>2</td>\n",
       "      <td>0.344167</td>\n",
       "      <td>0.363625</td>\n",
       "      <td>0.805833</td>\n",
       "      <td>0.160446</td>\n",
       "      <td>331</td>\n",
       "      <td>654</td>\n",
       "      <td>985</td>\n",
       "    </tr>\n",
       "    <tr>\n",
       "      <th>1</th>\n",
       "      <td>2</td>\n",
       "      <td>2011-01-02</td>\n",
       "      <td>spring</td>\n",
       "      <td>0</td>\n",
       "      <td>1</td>\n",
       "      <td>0</td>\n",
       "      <td>0</td>\n",
       "      <td>0</td>\n",
       "      <td>2</td>\n",
       "      <td>0.363478</td>\n",
       "      <td>0.353739</td>\n",
       "      <td>0.696087</td>\n",
       "      <td>0.248539</td>\n",
       "      <td>131</td>\n",
       "      <td>670</td>\n",
       "      <td>801</td>\n",
       "    </tr>\n",
       "    <tr>\n",
       "      <th>2</th>\n",
       "      <td>3</td>\n",
       "      <td>2011-01-03</td>\n",
       "      <td>spring</td>\n",
       "      <td>0</td>\n",
       "      <td>1</td>\n",
       "      <td>0</td>\n",
       "      <td>1</td>\n",
       "      <td>1</td>\n",
       "      <td>1</td>\n",
       "      <td>0.196364</td>\n",
       "      <td>0.189405</td>\n",
       "      <td>0.437273</td>\n",
       "      <td>0.248309</td>\n",
       "      <td>120</td>\n",
       "      <td>1229</td>\n",
       "      <td>1349</td>\n",
       "    </tr>\n",
       "    <tr>\n",
       "      <th>3</th>\n",
       "      <td>4</td>\n",
       "      <td>2011-01-04</td>\n",
       "      <td>spring</td>\n",
       "      <td>0</td>\n",
       "      <td>1</td>\n",
       "      <td>0</td>\n",
       "      <td>2</td>\n",
       "      <td>1</td>\n",
       "      <td>1</td>\n",
       "      <td>0.200000</td>\n",
       "      <td>0.212122</td>\n",
       "      <td>0.590435</td>\n",
       "      <td>0.160296</td>\n",
       "      <td>108</td>\n",
       "      <td>1454</td>\n",
       "      <td>1562</td>\n",
       "    </tr>\n",
       "    <tr>\n",
       "      <th>4</th>\n",
       "      <td>5</td>\n",
       "      <td>2011-01-05</td>\n",
       "      <td>spring</td>\n",
       "      <td>0</td>\n",
       "      <td>1</td>\n",
       "      <td>0</td>\n",
       "      <td>3</td>\n",
       "      <td>1</td>\n",
       "      <td>1</td>\n",
       "      <td>0.226957</td>\n",
       "      <td>0.229270</td>\n",
       "      <td>0.436957</td>\n",
       "      <td>0.186900</td>\n",
       "      <td>82</td>\n",
       "      <td>1518</td>\n",
       "      <td>1600</td>\n",
       "    </tr>\n",
       "  </tbody>\n",
       "</table>\n",
       "</div>"
      ],
      "text/plain": [
       "   instant      dteday  season  yr  mnth  holiday  weekday  workingday  \\\n",
       "0        1  2011-01-01  spring   0     1        0        6           0   \n",
       "1        2  2011-01-02  spring   0     1        0        0           0   \n",
       "2        3  2011-01-03  spring   0     1        0        1           1   \n",
       "3        4  2011-01-04  spring   0     1        0        2           1   \n",
       "4        5  2011-01-05  spring   0     1        0        3           1   \n",
       "\n",
       "   weathersit      temp     atemp       hum  windspeed  casual  registered  \\\n",
       "0           2  0.344167  0.363625  0.805833   0.160446     331         654   \n",
       "1           2  0.363478  0.353739  0.696087   0.248539     131         670   \n",
       "2           1  0.196364  0.189405  0.437273   0.248309     120        1229   \n",
       "3           1  0.200000  0.212122  0.590435   0.160296     108        1454   \n",
       "4           1  0.226957  0.229270  0.436957   0.186900      82        1518   \n",
       "\n",
       "    cnt  \n",
       "0   985  \n",
       "1   801  \n",
       "2  1349  \n",
       "3  1562  \n",
       "4  1600  "
      ]
     },
     "execution_count": 3,
     "metadata": {},
     "output_type": "execute_result"
    }
   ],
   "source": [
    "data.head()"
   ]
  },
  {
   "cell_type": "code",
   "execution_count": 4,
   "metadata": {},
   "outputs": [
    {
     "data": {
      "text/plain": [
       "(731, 16)"
      ]
     },
     "execution_count": 4,
     "metadata": {},
     "output_type": "execute_result"
    }
   ],
   "source": [
    "data.shape"
   ]
  },
  {
   "cell_type": "code",
   "execution_count": 5,
   "metadata": {},
   "outputs": [
    {
     "name": "stdout",
     "output_type": "stream",
     "text": [
      "<class 'pandas.core.frame.DataFrame'>\n",
      "Int64Index: 731 entries, 0 to 730\n",
      "Data columns (total 16 columns):\n",
      " #   Column      Non-Null Count  Dtype  \n",
      "---  ------      --------------  -----  \n",
      " 0   instant     731 non-null    int64  \n",
      " 1   dteday      731 non-null    object \n",
      " 2   season      731 non-null    object \n",
      " 3   yr          731 non-null    int64  \n",
      " 4   mnth        731 non-null    int64  \n",
      " 5   holiday     731 non-null    int64  \n",
      " 6   weekday     731 non-null    int64  \n",
      " 7   workingday  731 non-null    int64  \n",
      " 8   weathersit  731 non-null    int64  \n",
      " 9   temp        731 non-null    float64\n",
      " 10  atemp       731 non-null    float64\n",
      " 11  hum         731 non-null    float64\n",
      " 12  windspeed   731 non-null    float64\n",
      " 13  casual      731 non-null    int64  \n",
      " 14  registered  731 non-null    int64  \n",
      " 15  cnt         731 non-null    int64  \n",
      "dtypes: float64(4), int64(10), object(2)\n",
      "memory usage: 97.1+ KB\n"
     ]
    }
   ],
   "source": [
    "data.info()"
   ]
  },
  {
   "cell_type": "markdown",
   "metadata": {},
   "source": [
    "# 2.0 Data Exploration"
   ]
  },
  {
   "cell_type": "markdown",
   "metadata": {},
   "source": [
    "## Bike Rentals by Year and Season"
   ]
  },
  {
   "cell_type": "code",
   "execution_count": 6,
   "metadata": {},
   "outputs": [
    {
     "data": {
      "image/png": "[encoded data removed]",
      "text/plain": [
       "<Figure size 576x432 with 1 Axes>"
      ]
     },
     "metadata": {
      "needs_background": "light"
     },
     "output_type": "display_data"
    }
   ],
   "source": [
    "# Plot the bike rentals by season for each of the two years\n",
    "\n",
    "fig, ax = plt.subplots( figsize = (8,6))\n",
    "sns.barplot(data = data, x = 'yr', y = 'cnt',hue = 'season',ci = None, ec = 'k')\n",
    "plt.legend(loc = 'upper right', bbox_to_anchor=(1.2,0.5))\n",
    "plt.xlabel('Year',fontsize = 12)\n",
    "plt.ylabel('Number of bikes rented',labelpad = 15, fontsize = 12)\n",
    "plt.title('Bikes rented per season', fontsize = 15);"
   ]
  },
  {
   "cell_type": "markdown",
   "metadata": {},
   "source": [
    "* Bike rentals increased in the second year\n",
    "* Bike rentals are greatest in autumn and the least in spring"
   ]
  },
  {
   "cell_type": "markdown",
   "metadata": {},
   "source": [
    "## Bike Rentals by Month and By Working Day"
   ]
  },
  {
   "cell_type": "code",
   "execution_count": 7,
   "metadata": {},
   "outputs": [
    {
     "data": {
      "image/png": "[encoded data removed]",
      "text/plain": [
       "<Figure size 576x432 with 1 Axes>"
      ]
     },
     "metadata": {
      "needs_background": "light"
     },
     "output_type": "display_data"
    }
   ],
   "source": [
    "# Plot rentals by month\n",
    "fig, ax = plt.subplots( figsize = (8,6))\n",
    "sns.barplot(data = data,x = 'mnth', y = 'cnt',hue = 'workingday', ci = None)\n",
    "plt.xlabel(\"Month\", fontsize = 12, labelpad = 10)\n",
    "plt.ylabel(\"Number of Bikes\", fontsize = 12, labelpad = 12)\n",
    "plt.title('Bikes rented per month', fontsize = 15);"
   ]
  },
  {
   "cell_type": "markdown",
   "metadata": {},
   "source": [
    "* Most bikes are rented in the summer months between May and September\n",
    "* More bikes are rented on weekends and holidays than working days (Working Days are coded as 1 and holidays and weekends as 0)"
   ]
  },
  {
   "cell_type": "markdown",
   "metadata": {},
   "source": [
    "# Bike Rentals by Temperature"
   ]
  },
  {
   "cell_type": "code",
   "execution_count": 8,
   "metadata": {},
   "outputs": [
    {
     "data": {
      "image/png": "[encoded data removed]",
      "text/plain": [
       "<Figure size 576x432 with 1 Axes>"
      ]
     },
     "metadata": {
      "needs_background": "light"
     },
     "output_type": "display_data"
    }
   ],
   "source": [
    "# Bike rentals by temperature\n",
    "fig, ax = plt.subplots( figsize = (8,6))\n",
    "fig = sns.scatterplot(x = 'temp', y = 'cnt', data = data, alpha = 0.6, ec = 'b', s= 50)\n",
    "plt.xlabel('Temperature', fontsize = 12, labelpad = 10)\n",
    "plt.ylabel('Number of bikes rented', fontsize = 12, labelpad = 10)\n",
    "plt.title(\"Number of Bikes Rented by Temperature\");"
   ]
  },
  {
   "cell_type": "markdown",
   "metadata": {},
   "source": [
    "* More bikes are rented in hotter weather"
   ]
  },
  {
   "cell_type": "markdown",
   "metadata": {},
   "source": [
    "# Relationship Between Bike Rentals and Each Variable"
   ]
  },
  {
   "cell_type": "code",
   "execution_count": 9,
   "metadata": {},
   "outputs": [
    {
     "data": {
      "image/png": "[encoded data removed]",
      "text/plain": [
       "<Figure size 720x720 with 2 Axes>"
      ]
     },
     "metadata": {
      "needs_background": "light"
     },
     "output_type": "display_data"
    }
   ],
   "source": [
    "fig, ax = plt.subplots( figsize = (10,10))\n",
    "sns.heatmap(data.corr(), annot=True, linewidths=0.05, fmt= '.2f')\n",
    "plt.title(\"Heatmap for Bike Rentals\", fontsize = 15);"
   ]
  },
  {
   "cell_type": "markdown",
   "metadata": {},
   "source": [
    "# 3.0 Data Preparation"
   ]
  },
  {
   "cell_type": "code",
   "execution_count": 10,
   "metadata": {},
   "outputs": [
    {
     "name": "stdout",
     "output_type": "stream",
     "text": [
      "<class 'pandas.core.frame.DataFrame'>\n",
      "Int64Index: 731 entries, 0 to 730\n",
      "Data columns (total 16 columns):\n",
      " #   Column      Non-Null Count  Dtype  \n",
      "---  ------      --------------  -----  \n",
      " 0   instant     731 non-null    int64  \n",
      " 1   dteday      731 non-null    object \n",
      " 2   season      731 non-null    object \n",
      " 3   yr          731 non-null    int64  \n",
      " 4   mnth        731 non-null    int64  \n",
      " 5   holiday     731 non-null    int64  \n",
      " 6   weekday     731 non-null    int64  \n",
      " 7   workingday  731 non-null    int64  \n",
      " 8   weathersit  731 non-null    int64  \n",
      " 9   temp        731 non-null    float64\n",
      " 10  atemp       731 non-null    float64\n",
      " 11  hum         731 non-null    float64\n",
      " 12  windspeed   731 non-null    float64\n",
      " 13  casual      731 non-null    int64  \n",
      " 14  registered  731 non-null    int64  \n",
      " 15  cnt         731 non-null    int64  \n",
      "dtypes: float64(4), int64(10), object(2)\n",
      "memory usage: 113.2+ KB\n"
     ]
    }
   ],
   "source": [
    "data.info()"
   ]
  },
  {
   "cell_type": "code",
   "execution_count": 11,
   "metadata": {
    "scrolled": true
   },
   "outputs": [
    {
     "data": {
      "text/html": [
       "<div>\n",
       "<style scoped>\n",
       "    .dataframe tbody tr th:only-of-type {\n",
       "        vertical-align: middle;\n",
       "    }\n",
       "\n",
       "    .dataframe tbody tr th {\n",
       "        vertical-align: top;\n",
       "    }\n",
       "\n",
       "    .dataframe thead th {\n",
       "        text-align: right;\n",
       "    }\n",
       "</style>\n",
       "<table border=\"1\" class=\"dataframe\">\n",
       "  <thead>\n",
       "    <tr style=\"text-align: right;\">\n",
       "      <th></th>\n",
       "      <th>instant</th>\n",
       "      <th>dteday</th>\n",
       "      <th>yr</th>\n",
       "      <th>mnth</th>\n",
       "      <th>holiday</th>\n",
       "      <th>weekday</th>\n",
       "      <th>workingday</th>\n",
       "      <th>weathersit</th>\n",
       "      <th>temp</th>\n",
       "      <th>atemp</th>\n",
       "      <th>hum</th>\n",
       "      <th>windspeed</th>\n",
       "      <th>casual</th>\n",
       "      <th>registered</th>\n",
       "      <th>cnt</th>\n",
       "      <th>season_fall</th>\n",
       "      <th>season_spring</th>\n",
       "      <th>season_summer</th>\n",
       "      <th>season_winter</th>\n",
       "    </tr>\n",
       "  </thead>\n",
       "  <tbody>\n",
       "    <tr>\n",
       "      <th>682</th>\n",
       "      <td>683</td>\n",
       "      <td>2012-11-13</td>\n",
       "      <td>1</td>\n",
       "      <td>11</td>\n",
       "      <td>0</td>\n",
       "      <td>2</td>\n",
       "      <td>1</td>\n",
       "      <td>2</td>\n",
       "      <td>0.343333</td>\n",
       "      <td>0.323225</td>\n",
       "      <td>0.662917</td>\n",
       "      <td>0.342046</td>\n",
       "      <td>327</td>\n",
       "      <td>3767</td>\n",
       "      <td>4094</td>\n",
       "      <td>0</td>\n",
       "      <td>0</td>\n",
       "      <td>0</td>\n",
       "      <td>1</td>\n",
       "    </tr>\n",
       "    <tr>\n",
       "      <th>584</th>\n",
       "      <td>585</td>\n",
       "      <td>2012-08-07</td>\n",
       "      <td>1</td>\n",
       "      <td>8</td>\n",
       "      <td>0</td>\n",
       "      <td>2</td>\n",
       "      <td>1</td>\n",
       "      <td>2</td>\n",
       "      <td>0.735833</td>\n",
       "      <td>0.697621</td>\n",
       "      <td>0.703750</td>\n",
       "      <td>0.116908</td>\n",
       "      <td>1278</td>\n",
       "      <td>5995</td>\n",
       "      <td>7273</td>\n",
       "      <td>1</td>\n",
       "      <td>0</td>\n",
       "      <td>0</td>\n",
       "      <td>0</td>\n",
       "    </tr>\n",
       "    <tr>\n",
       "      <th>110</th>\n",
       "      <td>111</td>\n",
       "      <td>2011-04-21</td>\n",
       "      <td>0</td>\n",
       "      <td>4</td>\n",
       "      <td>0</td>\n",
       "      <td>4</td>\n",
       "      <td>1</td>\n",
       "      <td>1</td>\n",
       "      <td>0.459167</td>\n",
       "      <td>0.453892</td>\n",
       "      <td>0.407083</td>\n",
       "      <td>0.325258</td>\n",
       "      <td>745</td>\n",
       "      <td>3444</td>\n",
       "      <td>4189</td>\n",
       "      <td>0</td>\n",
       "      <td>0</td>\n",
       "      <td>1</td>\n",
       "      <td>0</td>\n",
       "    </tr>\n",
       "    <tr>\n",
       "      <th>192</th>\n",
       "      <td>193</td>\n",
       "      <td>2011-07-12</td>\n",
       "      <td>0</td>\n",
       "      <td>7</td>\n",
       "      <td>0</td>\n",
       "      <td>2</td>\n",
       "      <td>1</td>\n",
       "      <td>1</td>\n",
       "      <td>0.794167</td>\n",
       "      <td>0.739275</td>\n",
       "      <td>0.559167</td>\n",
       "      <td>0.200254</td>\n",
       "      <td>662</td>\n",
       "      <td>3596</td>\n",
       "      <td>4258</td>\n",
       "      <td>1</td>\n",
       "      <td>0</td>\n",
       "      <td>0</td>\n",
       "      <td>0</td>\n",
       "    </tr>\n",
       "    <tr>\n",
       "      <th>515</th>\n",
       "      <td>516</td>\n",
       "      <td>2012-05-30</td>\n",
       "      <td>1</td>\n",
       "      <td>5</td>\n",
       "      <td>0</td>\n",
       "      <td>3</td>\n",
       "      <td>1</td>\n",
       "      <td>2</td>\n",
       "      <td>0.656667</td>\n",
       "      <td>0.611129</td>\n",
       "      <td>0.670000</td>\n",
       "      <td>0.134329</td>\n",
       "      <td>745</td>\n",
       "      <td>6110</td>\n",
       "      <td>6855</td>\n",
       "      <td>0</td>\n",
       "      <td>0</td>\n",
       "      <td>1</td>\n",
       "      <td>0</td>\n",
       "    </tr>\n",
       "  </tbody>\n",
       "</table>\n",
       "</div>"
      ],
      "text/plain": [
       "     instant      dteday  yr  mnth  holiday  weekday  workingday  weathersit  \\\n",
       "682      683  2012-11-13   1    11        0        2           1           2   \n",
       "584      585  2012-08-07   1     8        0        2           1           2   \n",
       "110      111  2011-04-21   0     4        0        4           1           1   \n",
       "192      193  2011-07-12   0     7        0        2           1           1   \n",
       "515      516  2012-05-30   1     5        0        3           1           2   \n",
       "\n",
       "         temp     atemp       hum  windspeed  casual  registered   cnt  \\\n",
       "682  0.343333  0.323225  0.662917   0.342046     327        3767  4094   \n",
       "584  0.735833  0.697621  0.703750   0.116908    1278        5995  7273   \n",
       "110  0.459167  0.453892  0.407083   0.325258     745        3444  4189   \n",
       "192  0.794167  0.739275  0.559167   0.200254     662        3596  4258   \n",
       "515  0.656667  0.611129  0.670000   0.134329     745        6110  6855   \n",
       "\n",
       "     season_fall  season_spring  season_summer  season_winter  \n",
       "682            0              0              0              1  \n",
       "584            1              0              0              0  \n",
       "110            0              0              1              0  \n",
       "192            1              0              0              0  \n",
       "515            0              0              1              0  "
      ]
     },
     "execution_count": 11,
     "metadata": {},
     "output_type": "execute_result"
    }
   ],
   "source": [
    "# Convert season using one-hot encoding\n",
    "data = pd.get_dummies(data, columns= ['season'])\n",
    "data.sample(5)"
   ]
  },
  {
   "cell_type": "code",
   "execution_count": 12,
   "metadata": {},
   "outputs": [],
   "source": [
    "# Choose features of interest\n",
    "columns = ['registered', 'holiday', 'weekday', \n",
    "           'weathersit', 'temp', 'atemp',\n",
    "           'season_fall', 'season_spring', \n",
    "           'season_summer', 'season_winter']\n",
    "\n",
    "\n",
    "X = data[columns]"
   ]
  },
  {
   "cell_type": "code",
   "execution_count": 13,
   "metadata": {},
   "outputs": [
    {
     "data": {
      "text/html": [
       "<div>\n",
       "<style scoped>\n",
       "    .dataframe tbody tr th:only-of-type {\n",
       "        vertical-align: middle;\n",
       "    }\n",
       "\n",
       "    .dataframe tbody tr th {\n",
       "        vertical-align: top;\n",
       "    }\n",
       "\n",
       "    .dataframe thead th {\n",
       "        text-align: right;\n",
       "    }\n",
       "</style>\n",
       "<table border=\"1\" class=\"dataframe\">\n",
       "  <thead>\n",
       "    <tr style=\"text-align: right;\">\n",
       "      <th></th>\n",
       "      <th>registered</th>\n",
       "      <th>holiday</th>\n",
       "      <th>weekday</th>\n",
       "      <th>weathersit</th>\n",
       "      <th>temp</th>\n",
       "      <th>atemp</th>\n",
       "      <th>season_fall</th>\n",
       "      <th>season_spring</th>\n",
       "      <th>season_summer</th>\n",
       "      <th>season_winter</th>\n",
       "    </tr>\n",
       "  </thead>\n",
       "  <tbody>\n",
       "    <tr>\n",
       "      <th>0</th>\n",
       "      <td>654</td>\n",
       "      <td>0</td>\n",
       "      <td>6</td>\n",
       "      <td>2</td>\n",
       "      <td>0.344167</td>\n",
       "      <td>0.363625</td>\n",
       "      <td>0</td>\n",
       "      <td>1</td>\n",
       "      <td>0</td>\n",
       "      <td>0</td>\n",
       "    </tr>\n",
       "    <tr>\n",
       "      <th>1</th>\n",
       "      <td>670</td>\n",
       "      <td>0</td>\n",
       "      <td>0</td>\n",
       "      <td>2</td>\n",
       "      <td>0.363478</td>\n",
       "      <td>0.353739</td>\n",
       "      <td>0</td>\n",
       "      <td>1</td>\n",
       "      <td>0</td>\n",
       "      <td>0</td>\n",
       "    </tr>\n",
       "    <tr>\n",
       "      <th>2</th>\n",
       "      <td>1229</td>\n",
       "      <td>0</td>\n",
       "      <td>1</td>\n",
       "      <td>1</td>\n",
       "      <td>0.196364</td>\n",
       "      <td>0.189405</td>\n",
       "      <td>0</td>\n",
       "      <td>1</td>\n",
       "      <td>0</td>\n",
       "      <td>0</td>\n",
       "    </tr>\n",
       "    <tr>\n",
       "      <th>3</th>\n",
       "      <td>1454</td>\n",
       "      <td>0</td>\n",
       "      <td>2</td>\n",
       "      <td>1</td>\n",
       "      <td>0.200000</td>\n",
       "      <td>0.212122</td>\n",
       "      <td>0</td>\n",
       "      <td>1</td>\n",
       "      <td>0</td>\n",
       "      <td>0</td>\n",
       "    </tr>\n",
       "    <tr>\n",
       "      <th>4</th>\n",
       "      <td>1518</td>\n",
       "      <td>0</td>\n",
       "      <td>3</td>\n",
       "      <td>1</td>\n",
       "      <td>0.226957</td>\n",
       "      <td>0.229270</td>\n",
       "      <td>0</td>\n",
       "      <td>1</td>\n",
       "      <td>0</td>\n",
       "      <td>0</td>\n",
       "    </tr>\n",
       "  </tbody>\n",
       "</table>\n",
       "</div>"
      ],
      "text/plain": [
       "   registered  holiday  weekday  weathersit      temp     atemp  season_fall  \\\n",
       "0         654        0        6           2  0.344167  0.363625            0   \n",
       "1         670        0        0           2  0.363478  0.353739            0   \n",
       "2        1229        0        1           1  0.196364  0.189405            0   \n",
       "3        1454        0        2           1  0.200000  0.212122            0   \n",
       "4        1518        0        3           1  0.226957  0.229270            0   \n",
       "\n",
       "   season_spring  season_summer  season_winter  \n",
       "0              1              0              0  \n",
       "1              1              0              0  \n",
       "2              1              0              0  \n",
       "3              1              0              0  \n",
       "4              1              0              0  "
      ]
     },
     "execution_count": 13,
     "metadata": {},
     "output_type": "execute_result"
    }
   ],
   "source": [
    "X.head()"
   ]
  },
  {
   "cell_type": "code",
   "execution_count": 14,
   "metadata": {},
   "outputs": [],
   "source": [
    "# Target values\n",
    "y = data[['cnt']]"
   ]
  },
  {
   "cell_type": "code",
   "execution_count": 15,
   "metadata": {},
   "outputs": [
    {
     "data": {
      "text/html": [
       "<div>\n",
       "<style scoped>\n",
       "    .dataframe tbody tr th:only-of-type {\n",
       "        vertical-align: middle;\n",
       "    }\n",
       "\n",
       "    .dataframe tbody tr th {\n",
       "        vertical-align: top;\n",
       "    }\n",
       "\n",
       "    .dataframe thead th {\n",
       "        text-align: right;\n",
       "    }\n",
       "</style>\n",
       "<table border=\"1\" class=\"dataframe\">\n",
       "  <thead>\n",
       "    <tr style=\"text-align: right;\">\n",
       "      <th></th>\n",
       "      <th>cnt</th>\n",
       "    </tr>\n",
       "  </thead>\n",
       "  <tbody>\n",
       "    <tr>\n",
       "      <th>0</th>\n",
       "      <td>985</td>\n",
       "    </tr>\n",
       "    <tr>\n",
       "      <th>1</th>\n",
       "      <td>801</td>\n",
       "    </tr>\n",
       "    <tr>\n",
       "      <th>2</th>\n",
       "      <td>1349</td>\n",
       "    </tr>\n",
       "    <tr>\n",
       "      <th>3</th>\n",
       "      <td>1562</td>\n",
       "    </tr>\n",
       "    <tr>\n",
       "      <th>4</th>\n",
       "      <td>1600</td>\n",
       "    </tr>\n",
       "  </tbody>\n",
       "</table>\n",
       "</div>"
      ],
      "text/plain": [
       "    cnt\n",
       "0   985\n",
       "1   801\n",
       "2  1349\n",
       "3  1562\n",
       "4  1600"
      ]
     },
     "execution_count": 15,
     "metadata": {},
     "output_type": "execute_result"
    }
   ],
   "source": [
    "y.head()"
   ]
  },
  {
   "cell_type": "code",
   "execution_count": 16,
   "metadata": {},
   "outputs": [],
   "source": [
    "# Create training and test sets\n",
    "X_train, x_test, y_train, y_test = train_test_split(X,\n",
    "                                                    y,\n",
    "                                                    test_size=0.2)"
   ]
  },
  {
   "cell_type": "code",
   "execution_count": 17,
   "metadata": {},
   "outputs": [],
   "source": [
    "# Create tensors\n",
    "X_train_tensor = torch.tensor(X_train.values, dtype = torch.float)\n",
    "x_test_tensor = torch.tensor(x_test.values, dtype = torch.float)\n",
    "\n",
    "y_train_tensor = torch.tensor(y_train.values, dtype = torch.float)\n",
    "y_test_tensor = torch.tensor(y_test.values, dtype = torch.float)"
   ]
  },
  {
   "cell_type": "code",
   "execution_count": 18,
   "metadata": {},
   "outputs": [
    {
     "name": "stdout",
     "output_type": "stream",
     "text": [
      "torch.Size([584, 10]) torch.Size([584, 1])\n"
     ]
    }
   ],
   "source": [
    "print(X_train_tensor.shape, y_train_tensor.shape)"
   ]
  },
  {
   "cell_type": "code",
   "execution_count": 19,
   "metadata": {},
   "outputs": [
    {
     "data": {
      "text/plain": [
       "tensor([[5.0380e+03, 0.0000e+00, 6.0000e+00,  ..., 0.0000e+00, 0.0000e+00,\n",
       "         0.0000e+00],\n",
       "        [5.9950e+03, 0.0000e+00, 2.0000e+00,  ..., 0.0000e+00, 0.0000e+00,\n",
       "         0.0000e+00],\n",
       "        [3.5050e+03, 0.0000e+00, 6.0000e+00,  ..., 0.0000e+00, 0.0000e+00,\n",
       "         0.0000e+00],\n",
       "        ...,\n",
       "        [2.3480e+03, 0.0000e+00, 5.0000e+00,  ..., 1.0000e+00, 0.0000e+00,\n",
       "         0.0000e+00],\n",
       "        [5.1470e+03, 0.0000e+00, 0.0000e+00,  ..., 0.0000e+00, 1.0000e+00,\n",
       "         0.0000e+00],\n",
       "        [3.6950e+03, 0.0000e+00, 2.0000e+00,  ..., 0.0000e+00, 0.0000e+00,\n",
       "         0.0000e+00]])"
      ]
     },
     "execution_count": 19,
     "metadata": {},
     "output_type": "execute_result"
    }
   ],
   "source": [
    "X_train_tensor"
   ]
  },
  {
   "cell_type": "code",
   "execution_count": 20,
   "metadata": {},
   "outputs": [
    {
     "data": {
      "text/plain": [
       "tensor([[7865.],\n",
       "        [7273.],\n",
       "        [5923.],\n",
       "        [3894.],\n",
       "        [5805.],\n",
       "        [4205.],\n",
       "        [7216.],\n",
       "        [7446.],\n",
       "        [5992.],\n",
       "        [3403.],\n",
       "        [7286.],\n",
       "        [3117.],\n",
       "        [5585.],\n",
       "        [4792.],\n",
       "        [7410.],\n",
       "        [3204.],\n",
       "        [5611.],\n",
       "        [3372.],\n",
       "        [7282.],\n",
       "        [5115.],\n",
       "        [7444.],\n",
       "        [7713.],\n",
       "        [7605.],\n",
       "        [6203.],\n",
       "        [2368.],\n",
       "        [1162.],\n",
       "        [5375.],\n",
       "        [4378.],\n",
       "        [1096.],\n",
       "        [5046.],\n",
       "        [1495.],\n",
       "        [2429.],\n",
       "        [5191.],\n",
       "        [6660.],\n",
       "        [3855.],\n",
       "        [4509.],\n",
       "        [6207.],\n",
       "        [1416.],\n",
       "        [2843.],\n",
       "        [8294.],\n",
       "        [3190.],\n",
       "        [7582.],\n",
       "        [6536.],\n",
       "        [1301.],\n",
       "        [6786.],\n",
       "        [3249.],\n",
       "        [4058.],\n",
       "        [6770.],\n",
       "        [1851.],\n",
       "        [1349.],\n",
       "        [6855.],\n",
       "        [1543.],\n",
       "        [1204.],\n",
       "        [2475.],\n",
       "        [7261.],\n",
       "        [4906.],\n",
       "        [3926.],\n",
       "        [6133.],\n",
       "        [2710.],\n",
       "        [5740.],\n",
       "        [7421.],\n",
       "        [5180.],\n",
       "        [3867.],\n",
       "        [6192.],\n",
       "        [7030.],\n",
       "        [ 605.],\n",
       "        [2311.],\n",
       "        [1807.],\n",
       "        [6825.],\n",
       "        [6597.],\n",
       "        [5532.],\n",
       "        [4339.],\n",
       "        [6569.],\n",
       "        [5035.],\n",
       "        [4563.],\n",
       "        [8009.],\n",
       "        [7461.],\n",
       "        [5305.],\n",
       "        [4094.],\n",
       "        [2832.],\n",
       "        [4220.],\n",
       "        [4669.],\n",
       "        [6196.],\n",
       "        [5099.],\n",
       "        [6034.],\n",
       "        [1115.],\n",
       "        [4785.],\n",
       "        [4352.],\n",
       "        [2935.],\n",
       "        [ 506.],\n",
       "        [2729.],\n",
       "        [5729.],\n",
       "        [1635.],\n",
       "        [6830.],\n",
       "        [7001.],\n",
       "        [4978.],\n",
       "        [1951.],\n",
       "        [6869.],\n",
       "        [4036.],\n",
       "        [1872.],\n",
       "        [4966.],\n",
       "        [2402.],\n",
       "        [3982.],\n",
       "        [4390.],\n",
       "        [5062.],\n",
       "        [3272.],\n",
       "        [5302.],\n",
       "        [2895.],\n",
       "        [7720.],\n",
       "        [4294.],\n",
       "        [5409.],\n",
       "        [1098.],\n",
       "        [1450.],\n",
       "        [3285.],\n",
       "        [7442.],\n",
       "        [7436.],\n",
       "        [4274.],\n",
       "        [7665.],\n",
       "        [5026.],\n",
       "        [4154.],\n",
       "        [7580.],\n",
       "        [4153.],\n",
       "        [2744.],\n",
       "        [2792.],\n",
       "        [6685.],\n",
       "        [1263.],\n",
       "        [3598.],\n",
       "        [  22.],\n",
       "        [1607.],\n",
       "        [4677.],\n",
       "        [7691.],\n",
       "        [5312.],\n",
       "        [3267.],\n",
       "        [1406.],\n",
       "        [4073.],\n",
       "        [6169.],\n",
       "        [5102.],\n",
       "        [4270.],\n",
       "        [4835.],\n",
       "        [4127.],\n",
       "        [2802.],\n",
       "        [1461.],\n",
       "        [4486.],\n",
       "        [4905.],\n",
       "        [4123.],\n",
       "        [7907.],\n",
       "        [1842.],\n",
       "        [5936.],\n",
       "        [2077.],\n",
       "        [4539.],\n",
       "        [2743.],\n",
       "        [5342.],\n",
       "        [4023.],\n",
       "        [1605.],\n",
       "        [5087.],\n",
       "        [1317.],\n",
       "        [1796.],\n",
       "        [4714.],\n",
       "        [6606.],\n",
       "        [3649.],\n",
       "        [4917.],\n",
       "        [2485.],\n",
       "        [3422.],\n",
       "        [ 920.],\n",
       "        [6290.],\n",
       "        [6392.],\n",
       "        [4590.],\n",
       "        [1600.],\n",
       "        [3348.],\n",
       "        [1167.],\n",
       "        [5336.],\n",
       "        [1944.],\n",
       "        [1891.],\n",
       "        [7494.],\n",
       "        [4332.],\n",
       "        [4318.],\n",
       "        [4118.],\n",
       "        [4972.],\n",
       "        [5499.],\n",
       "        [5478.],\n",
       "        [4035.],\n",
       "        [1530.],\n",
       "        [2376.],\n",
       "        [4665.],\n",
       "        [6233.],\n",
       "        [4630.],\n",
       "        [2732.],\n",
       "        [4990.],\n",
       "        [4553.],\n",
       "        [1526.],\n",
       "        [1812.],\n",
       "        [7702.],\n",
       "        [4968.],\n",
       "        [6312.],\n",
       "        [3767.],\n",
       "        [5495.],\n",
       "        [5319.],\n",
       "        [7175.],\n",
       "        [3368.],\n",
       "        [5464.],\n",
       "        [3194.],\n",
       "        [4985.],\n",
       "        [2933.],\n",
       "        [4475.],\n",
       "        [7350.],\n",
       "        [2227.],\n",
       "        [3873.],\n",
       "        [7384.],\n",
       "        [4456.],\n",
       "        [8167.],\n",
       "        [4150.],\n",
       "        [3872.],\n",
       "        [6041.],\n",
       "        [3784.],\n",
       "        [4367.],\n",
       "        [5255.],\n",
       "        [2121.],\n",
       "        [3068.],\n",
       "        [7040.],\n",
       "        [6227.],\n",
       "        [4687.],\n",
       "        [7055.],\n",
       "        [3659.],\n",
       "        [3915.],\n",
       "        [2703.],\n",
       "        [4661.],\n",
       "        [4401.],\n",
       "        [4334.],\n",
       "        [3641.],\n",
       "        [3389.],\n",
       "        [3322.],\n",
       "        [4694.],\n",
       "        [4333.],\n",
       "        [ 986.],\n",
       "        [2028.],\n",
       "        [3387.],\n",
       "        [7733.],\n",
       "        [4362.],\n",
       "        [5713.],\n",
       "        [6118.],\n",
       "        [4845.],\n",
       "        [3717.],\n",
       "        [4833.],\n",
       "        [7058.],\n",
       "        [1360.],\n",
       "        [4187.],\n",
       "        [1027.],\n",
       "        [3747.],\n",
       "        [2424.],\n",
       "        [6864.],\n",
       "        [7264.],\n",
       "        [3523.],\n",
       "        [4109.],\n",
       "        [4649.],\n",
       "        [3974.],\n",
       "        [5566.],\n",
       "        [6299.],\n",
       "        [ 985.],\n",
       "        [2114.],\n",
       "        [1446.],\n",
       "        [5847.],\n",
       "        [7429.],\n",
       "        [7697.],\n",
       "        [4086.],\n",
       "        [ 795.],\n",
       "        [5119.],\n",
       "        [6043.],\n",
       "        [4639.],\n",
       "        [3239.],\n",
       "        [5020.],\n",
       "        [5267.],\n",
       "        [1623.],\n",
       "        [3623.],\n",
       "        [5895.],\n",
       "        [5698.],\n",
       "        [1000.],\n",
       "        [4342.],\n",
       "        [5117.],\n",
       "        [4363.],\n",
       "        [4569.],\n",
       "        [3392.],\n",
       "        [5169.],\n",
       "        [3115.],\n",
       "        [3624.],\n",
       "        [1913.],\n",
       "        [2115.],\n",
       "        [4916.],\n",
       "        [2455.],\n",
       "        [4484.],\n",
       "        [7129.],\n",
       "        [5629.],\n",
       "        [2496.],\n",
       "        [6879.],\n",
       "        [4765.],\n",
       "        [3974.],\n",
       "        [7509.],\n",
       "        [1421.],\n",
       "        [4067.],\n",
       "        [4066.],\n",
       "        [2808.],\n",
       "        [3068.],\n",
       "        [4338.],\n",
       "        [1589.],\n",
       "        [1969.],\n",
       "        [2689.],\n",
       "        [5582.],\n",
       "        [4586.],\n",
       "        [5786.],\n",
       "        [4940.],\n",
       "        [4521.],\n",
       "        [4105.],\n",
       "        [1501.],\n",
       "        [1746.],\n",
       "        [1708.],\n",
       "        [6784.],\n",
       "        [6572.],\n",
       "        [ 431.],\n",
       "        [7538.],\n",
       "        [6883.],\n",
       "        [3331.],\n",
       "        [4996.],\n",
       "        [3744.],\n",
       "        [1107.],\n",
       "        [6871.],\n",
       "        [2034.],\n",
       "        [4760.],\n",
       "        [3544.],\n",
       "        [6852.],\n",
       "        [4151.],\n",
       "        [ 623.],\n",
       "        [7592.],\n",
       "        [3487.],\n",
       "        [4725.],\n",
       "        [6457.],\n",
       "        [5259.],\n",
       "        [5976.],\n",
       "        [6591.],\n",
       "        [2566.],\n",
       "        [4186.],\n",
       "        [3351.],\n",
       "        [1510.],\n",
       "        [5892.],\n",
       "        [6889.],\n",
       "        [5362.],\n",
       "        [4511.],\n",
       "        [4881.],\n",
       "        [5847.],\n",
       "        [2739.],\n",
       "        [7570.],\n",
       "        [3614.],\n",
       "        [4866.],\n",
       "        [4302.],\n",
       "        [5225.],\n",
       "        [7836.],\n",
       "        [3053.],\n",
       "        [6544.],\n",
       "        [3425.],\n",
       "        [5463.],\n",
       "        [1529.],\n",
       "        [3922.],\n",
       "        [1865.],\n",
       "        [6891.],\n",
       "        [4748.],\n",
       "        [7736.],\n",
       "        [4649.],\n",
       "        [4570.],\n",
       "        [ 683.],\n",
       "        [ 981.],\n",
       "        [6778.],\n",
       "        [5687.],\n",
       "        [6772.],\n",
       "        [7328.],\n",
       "        [1248.],\n",
       "        [6296.],\n",
       "        [6978.],\n",
       "        [4864.],\n",
       "        [6536.],\n",
       "        [8555.],\n",
       "        [3351.],\n",
       "        [8714.],\n",
       "        [3669.],\n",
       "        [5217.],\n",
       "        [3376.],\n",
       "        [4660.],\n",
       "        [5202.],\n",
       "        [3613.],\n",
       "        [4098.],\n",
       "        [3292.],\n",
       "        [4266.],\n",
       "        [5170.],\n",
       "        [2252.],\n",
       "        [4541.],\n",
       "        [6043.],\n",
       "        [6273.],\n",
       "        [5409.],\n",
       "        [4451.],\n",
       "        [3423.],\n",
       "        [4579.],\n",
       "        [5084.],\n",
       "        [2918.],\n",
       "        [8395.],\n",
       "        [6691.],\n",
       "        [4098.],\n",
       "        [5870.],\n",
       "        [4840.],\n",
       "        [2765.],\n",
       "        [3456.],\n",
       "        [1005.],\n",
       "        [4648.],\n",
       "        [5511.],\n",
       "        [2134.],\n",
       "        [4433.],\n",
       "        [1927.],\n",
       "        [8227.],\n",
       "        [3429.],\n",
       "        [ 801.],\n",
       "        [4128.],\n",
       "        [7498.],\n",
       "        [4549.],\n",
       "        [2056.],\n",
       "        [2046.],\n",
       "        [3840.],\n",
       "        [7458.],\n",
       "        [3214.],\n",
       "        [5918.],\n",
       "        [5423.],\n",
       "        [5260.],\n",
       "        [4507.],\n",
       "        [3409.],\n",
       "        [7965.],\n",
       "        [2425.],\n",
       "        [2077.],\n",
       "        [1013.],\n",
       "        [4891.],\n",
       "        [2395.],\n",
       "        [2660.],\n",
       "        [4592.],\n",
       "        [3542.],\n",
       "        [4708.],\n",
       "        [6624.],\n",
       "        [3129.],\n",
       "        [5130.],\n",
       "        [3644.],\n",
       "        [4780.],\n",
       "        [7504.],\n",
       "        [2132.],\n",
       "        [4010.],\n",
       "        [ 959.],\n",
       "        [5743.],\n",
       "        [3510.],\n",
       "        [4274.],\n",
       "        [3577.],\n",
       "        [6031.],\n",
       "        [4758.],\n",
       "        [6304.],\n",
       "        [8173.],\n",
       "        [5008.],\n",
       "        [6436.],\n",
       "        [3784.],\n",
       "        [4862.],\n",
       "        [1550.],\n",
       "        [4585.],\n",
       "        [5686.],\n",
       "        [6211.],\n",
       "        [8362.],\n",
       "        [1815.],\n",
       "        [1562.],\n",
       "        [5905.],\n",
       "        [3956.],\n",
       "        [7006.],\n",
       "        [5445.],\n",
       "        [3958.],\n",
       "        [5047.],\n",
       "        [6234.],\n",
       "        [1096.],\n",
       "        [2209.],\n",
       "        [ 627.],\n",
       "        [1650.],\n",
       "        [7112.],\n",
       "        [7363.],\n",
       "        [2162.],\n",
       "        [6241.],\n",
       "        [4046.],\n",
       "        [4073.],\n",
       "        [7148.],\n",
       "        [1162.],\n",
       "        [2431.],\n",
       "        [6398.],\n",
       "        [2169.],\n",
       "        [7347.],\n",
       "        [3805.],\n",
       "        [6140.],\n",
       "        [5345.],\n",
       "        [2594.],\n",
       "        [1795.],\n",
       "        [ 754.],\n",
       "        [3333.],\n",
       "        [3574.],\n",
       "        [3940.],\n",
       "        [6093.],\n",
       "        [4460.],\n",
       "        [6824.],\n",
       "        [1011.],\n",
       "        [5323.],\n",
       "        [3786.],\n",
       "        [4195.],\n",
       "        [2298.],\n",
       "        [1471.],\n",
       "        [5010.],\n",
       "        [4401.],\n",
       "        [3785.],\n",
       "        [3750.],\n",
       "        [7693.],\n",
       "        [6565.],\n",
       "        [5119.],\n",
       "        [5538.],\n",
       "        [6969.],\n",
       "        [1977.],\n",
       "        [7804.],\n",
       "        [1341.],\n",
       "        [2947.],\n",
       "        [4040.],\n",
       "        [3620.],\n",
       "        [7499.],\n",
       "        [6269.],\n",
       "        [5515.],\n",
       "        [7525.],\n",
       "        [2177.],\n",
       "        [4326.],\n",
       "        [4763.],\n",
       "        [5041.],\n",
       "        [3910.],\n",
       "        [3811.],\n",
       "        [7109.],\n",
       "        [4672.],\n",
       "        [1977.],\n",
       "        [4304.],\n",
       "        [3520.],\n",
       "        [4120.],\n",
       "        [4911.],\n",
       "        [2277.],\n",
       "        [4839.],\n",
       "        [2133.],\n",
       "        [4795.],\n",
       "        [2417.],\n",
       "        [4189.],\n",
       "        [2913.],\n",
       "        [1985.],\n",
       "        [4308.],\n",
       "        [7013.],\n",
       "        [6904.],\n",
       "        [3761.],\n",
       "        [4634.],\n",
       "        [2302.],\n",
       "        [2914.],\n",
       "        [6460.],\n",
       "        [4459.],\n",
       "        [7639.],\n",
       "        [4191.],\n",
       "        [4595.],\n",
       "        [6966.],\n",
       "        [4717.],\n",
       "        [7290.],\n",
       "        [6883.],\n",
       "        [4575.],\n",
       "        [2236.],\n",
       "        [1693.],\n",
       "        [6779.],\n",
       "        [7335.],\n",
       "        [3959.],\n",
       "        [2423.],\n",
       "        [2210.],\n",
       "        [2432.],\n",
       "        [3907.],\n",
       "        [7132.],\n",
       "        [4258.],\n",
       "        [4097.],\n",
       "        [1749.],\n",
       "        [2999.],\n",
       "        [3214.],\n",
       "        [6639.],\n",
       "        [2927.],\n",
       "        [7641.],\n",
       "        [4602.]])"
      ]
     },
     "execution_count": 20,
     "metadata": {},
     "output_type": "execute_result"
    }
   ],
   "source": [
    "y_train_tensor"
   ]
  },
  {
   "cell_type": "code",
   "execution_count": 21,
   "metadata": {},
   "outputs": [],
   "source": [
    "# Create train data tensor dataset\n",
    "train_data = data_utils.TensorDataset(X_train_tensor, y_train_tensor)"
   ]
  },
  {
   "cell_type": "code",
   "execution_count": 22,
   "metadata": {},
   "outputs": [],
   "source": [
    "# Create data loader object on train data specifying batch size\n",
    "train_loader = data_utils.DataLoader(train_data, batch_size=100, shuffle=True)"
   ]
  },
  {
   "cell_type": "code",
   "execution_count": 23,
   "metadata": {},
   "outputs": [
    {
     "data": {
      "text/plain": [
       "6"
      ]
     },
     "execution_count": 23,
     "metadata": {},
     "output_type": "execute_result"
    }
   ],
   "source": [
    "# Number of batches (each with 100 samples except for the last batch)\n",
    "len(train_loader)"
   ]
  },
  {
   "cell_type": "code",
   "execution_count": 24,
   "metadata": {},
   "outputs": [],
   "source": [
    "# Iterate through the batches\n",
    "features_batch, target_batch = iter(train_loader).next()"
   ]
  },
  {
   "cell_type": "code",
   "execution_count": 25,
   "metadata": {},
   "outputs": [
    {
     "data": {
      "text/plain": [
       "torch.Size([100, 10])"
      ]
     },
     "execution_count": 25,
     "metadata": {},
     "output_type": "execute_result"
    }
   ],
   "source": [
    "# Check the batch size matches\n",
    "features_batch.shape"
   ]
  },
  {
   "cell_type": "code",
   "execution_count": 26,
   "metadata": {},
   "outputs": [
    {
     "data": {
      "text/plain": [
       "torch.Size([100, 1])"
      ]
     },
     "execution_count": 26,
     "metadata": {},
     "output_type": "execute_result"
    }
   ],
   "source": [
    "# Check the batch size matches\n",
    "target_batch.shape"
   ]
  },
  {
   "cell_type": "markdown",
   "metadata": {},
   "source": [
    "# 4.0 Set up the Neural Network and Train"
   ]
  },
  {
   "cell_type": "code",
   "execution_count": 27,
   "metadata": {},
   "outputs": [],
   "source": [
    "# Specify parameters for the network\n",
    "inp = X_train_tensor.shape[1]  # depends on the number of features\n",
    "out = 1 # predict one output - demand for bikes\n",
    "hid = 10 # 10 neurons per hidden layer\n",
    "loss_fn = torch.nn.MSELoss() # loss function for regression"
   ]
  },
  {
   "cell_type": "markdown",
   "metadata": {},
   "source": [
    "## Model 1"
   ]
  },
  {
   "cell_type": "code",
   "execution_count": 28,
   "metadata": {},
   "outputs": [],
   "source": [
    "# Build Model 1\n",
    "model1 = torch.nn.Sequential(torch.nn.Linear(inp, hid),\n",
    "                             torch.nn.Linear(hid, out))"
   ]
  },
  {
   "cell_type": "code",
   "execution_count": 29,
   "metadata": {},
   "outputs": [
    {
     "name": "stderr",
     "output_type": "stream",
     "text": [
      "\n",
      "(process:16080): Pango-WARNING **: 18:46:01.698: couldn't load font \"Times Not-Rotated 10\", falling back to \"Sans Not-Rotated 10\", expect ugly output.\n"
     ]
    },
    {
     "data": {
      "image/svg+xml": [
       "<?xml version=\"1.0\" encoding=\"UTF-8\" standalone=\"no\"?>\n",
       "<!DOCTYPE svg PUBLIC \"-//W3C//DTD SVG 1.1//EN\"\n",
       " \"http://www.w3.org/Graphics/SVG/1.1/DTD/svg11.dtd\">\n",
       "<!-- Generated by graphviz version 2.50.0 (0)\n",
       " -->\n",
       "<!-- Pages: 1 -->\n",
       "<svg width=\"198pt\" height=\"116pt\"\n",
       " viewBox=\"0.00 0.00 198.00 116.00\" xmlns=\"http://www.w3.org/2000/svg\" xmlns:xlink=\"http://www.w3.org/1999/xlink\">\n",
       "<g id=\"graph0\" class=\"graph\" transform=\"scale(1 1) rotate(0) translate(72 80)\">\n",
       "<polygon fill=\"#ffffff\" stroke=\"transparent\" points=\"-72,36 -72,-80 126,-80 126,36 -72,36\"/>\n",
       "<!-- 14561829291589228395 -->\n",
       "<g id=\"node1\" class=\"node\">\n",
       "<title>14561829291589228395</title>\n",
       "<polygon fill=\"#e8e8e8\" stroke=\"#000000\" points=\"54,-44 0,-44 0,0 54,0 54,-44\"/>\n",
       "<text text-anchor=\"start\" x=\"13\" y=\"-28\" font-family=\"Times\" font-size=\"10.00\" fill=\"#000000\">Linear</text>\n",
       "<text text-anchor=\"start\" x=\"34\" y=\"-7\" font-family=\"Times\" font-size=\"10.00\" fill=\"#000000\">x2</text>\n",
       "</g>\n",
       "</g>\n",
       "</svg>\n"
      ],
      "text/plain": [
       "<graphviz.graphs.Digraph at 0x2b2b50be4f0>"
      ]
     },
     "execution_count": 29,
     "metadata": {},
     "output_type": "execute_result"
    }
   ],
   "source": [
    "# Visualise model\n",
    "hl.build_graph(model1, torch.zeros([10,inp])).build_dot()"
   ]
  },
  {
   "cell_type": "code",
   "execution_count": 30,
   "metadata": {},
   "outputs": [],
   "source": [
    "# Define optimizer and learning rate\n",
    "optimizer = torch.optim.Adam(model1.parameters(), lr = 0.001)"
   ]
  },
  {
   "cell_type": "code",
   "execution_count": 31,
   "metadata": {},
   "outputs": [],
   "source": [
    "# Train the model\n",
    "def train_model(mod):\n",
    "    \n",
    "    total_step = len(train_loader) # number of batches\n",
    "    num_epochs = 10000 # number of epochs\n",
    "\n",
    "    for epoch in range(num_epochs + 1):\n",
    "        for i, (X, y) in enumerate(train_loader): # feed in the training data in batches\n",
    "        \n",
    "            output = mod(X) # forward pass through the network\n",
    "            loss = loss_fn(output, y) # current loss\n",
    "        \n",
    "            optimizer.zero_grad() # start from zero gradient\n",
    "        \n",
    "            loss.backward() # calculate gradients \n",
    "        \n",
    "            optimizer.step() # update model parameters\n",
    "        \n",
    "            if epoch % 2000 == 0:\n",
    "                print ('Epoch [{}/{}], Step [{}/{}], Loss: {:.4f}' \n",
    "                       .format(epoch+1, num_epochs, i+1, total_step, loss.item())) # print loss for each 2000 epochs"
   ]
  },
  {
   "cell_type": "code",
   "execution_count": 32,
   "metadata": {},
   "outputs": [
    {
     "name": "stdout",
     "output_type": "stream",
     "text": [
      "Epoch [1/10000], Step [1/6], Loss: 18323496.0000\n",
      "Epoch [1/10000], Step [2/6], Loss: 19848870.0000\n",
      "Epoch [1/10000], Step [3/6], Loss: 19095302.0000\n",
      "Epoch [1/10000], Step [4/6], Loss: 18948294.0000\n",
      "Epoch [1/10000], Step [5/6], Loss: 19820884.0000\n",
      "Epoch [1/10000], Step [6/6], Loss: 18102202.0000\n",
      "Epoch [2001/10000], Step [1/6], Loss: 297988.0938\n",
      "Epoch [2001/10000], Step [2/6], Loss: 354331.6250\n",
      "Epoch [2001/10000], Step [3/6], Loss: 332357.9062\n",
      "Epoch [2001/10000], Step [4/6], Loss: 438424.7500\n",
      "Epoch [2001/10000], Step [5/6], Loss: 372770.1875\n",
      "Epoch [2001/10000], Step [6/6], Loss: 486573.2812\n",
      "Epoch [4001/10000], Step [1/6], Loss: 340583.4375\n",
      "Epoch [4001/10000], Step [2/6], Loss: 374360.0312\n",
      "Epoch [4001/10000], Step [3/6], Loss: 216661.5781\n",
      "Epoch [4001/10000], Step [4/6], Loss: 353796.9688\n",
      "Epoch [4001/10000], Step [5/6], Loss: 400864.7188\n",
      "Epoch [4001/10000], Step [6/6], Loss: 306453.7500\n",
      "Epoch [6001/10000], Step [1/6], Loss: 315436.1562\n",
      "Epoch [6001/10000], Step [2/6], Loss: 215507.7969\n",
      "Epoch [6001/10000], Step [3/6], Loss: 310141.3125\n",
      "Epoch [6001/10000], Step [4/6], Loss: 398437.4688\n",
      "Epoch [6001/10000], Step [5/6], Loss: 404946.8125\n",
      "Epoch [6001/10000], Step [6/6], Loss: 243494.6406\n",
      "Epoch [8001/10000], Step [1/6], Loss: 430761.8438\n",
      "Epoch [8001/10000], Step [2/6], Loss: 343673.5938\n",
      "Epoch [8001/10000], Step [3/6], Loss: 336350.0938\n",
      "Epoch [8001/10000], Step [4/6], Loss: 218761.5625\n",
      "Epoch [8001/10000], Step [5/6], Loss: 270252.4062\n",
      "Epoch [8001/10000], Step [6/6], Loss: 232484.0312\n",
      "Epoch [10001/10000], Step [1/6], Loss: 293736.2500\n",
      "Epoch [10001/10000], Step [2/6], Loss: 331140.0312\n",
      "Epoch [10001/10000], Step [3/6], Loss: 265973.2812\n",
      "Epoch [10001/10000], Step [4/6], Loss: 297698.5625\n",
      "Epoch [10001/10000], Step [5/6], Loss: 265499.6562\n",
      "Epoch [10001/10000], Step [6/6], Loss: 391984.7188\n"
     ]
    }
   ],
   "source": [
    "train_model(model1)"
   ]
  },
  {
   "cell_type": "markdown",
   "metadata": {},
   "source": [
    "# 5.0 Evaluation of Model"
   ]
  },
  {
   "cell_type": "code",
   "execution_count": 33,
   "metadata": {},
   "outputs": [],
   "source": [
    "# Switch to evaluation mode - required as dropout and batch normalisation can behave differently between training and evaluation\n",
    "model1.eval()\n",
    "\n",
    "with torch.no_grad():  # turn off gradients\n",
    "    y_pred = model1(x_test_tensor)"
   ]
  },
  {
   "cell_type": "code",
   "execution_count": 34,
   "metadata": {},
   "outputs": [
    {
     "data": {
      "text/plain": [
       "registered       5520.000000\n",
       "holiday             0.000000\n",
       "weekday             4.000000\n",
       "weathersit          2.000000\n",
       "temp                0.365833\n",
       "atemp               0.369942\n",
       "season_fall         0.000000\n",
       "season_spring       0.000000\n",
       "season_summer       0.000000\n",
       "season_winter       1.000000\n",
       "Name: 670, dtype: float64"
      ]
     },
     "execution_count": 34,
     "metadata": {},
     "output_type": "execute_result"
    }
   ],
   "source": [
    "# Take a sample from the test dataset\n",
    "samp = x_test.iloc[30]\n",
    "samp"
   ]
  },
  {
   "cell_type": "code",
   "execution_count": 35,
   "metadata": {},
   "outputs": [
    {
     "data": {
      "text/plain": [
       "tensor([5.5200e+03, 0.0000e+00, 4.0000e+00, 2.0000e+00, 3.6583e-01, 3.6994e-01,\n",
       "        0.0000e+00, 0.0000e+00, 0.0000e+00, 1.0000e+00])"
      ]
     },
     "execution_count": 35,
     "metadata": {},
     "output_type": "execute_result"
    }
   ],
   "source": [
    "# Convert to tensor\n",
    "samp_tensor = torch.tensor(samp.values, \n",
    "                             dtype = torch.float)\n",
    "samp_tensor"
   ]
  },
  {
   "cell_type": "code",
   "execution_count": 36,
   "metadata": {},
   "outputs": [
    {
     "name": "stdout",
     "output_type": "stream",
     "text": [
      "Predicted count :  6124.78076171875\n",
      "Actual count :  cnt    5986\n",
      "Name: 670, dtype: int64\n"
     ]
    }
   ],
   "source": [
    "# Predict the output of the sample datapoint\n",
    "with torch.no_grad():\n",
    "    y_pred = model1(samp_tensor)\n",
    "\n",
    "print(\"Predicted count : \", (y_pred.item()))\n",
    "print(\"Actual count : \", (y_test.iloc[30]))"
   ]
  },
  {
   "cell_type": "code",
   "execution_count": 37,
   "metadata": {},
   "outputs": [],
   "source": [
    "# Predict against all the test set\n",
    "with torch.no_grad():\n",
    "    y_pred_tensor = model1(x_test_tensor)"
   ]
  },
  {
   "cell_type": "code",
   "execution_count": 38,
   "metadata": {},
   "outputs": [
    {
     "data": {
      "text/plain": [
       "(147, 1)"
      ]
     },
     "execution_count": 38,
     "metadata": {},
     "output_type": "execute_result"
    }
   ],
   "source": [
    "# Convert to numpy array\n",
    "y_pred = y_pred_tensor.detach().numpy()\n",
    "y_pred.shape"
   ]
  },
  {
   "cell_type": "code",
   "execution_count": 39,
   "metadata": {},
   "outputs": [
    {
     "data": {
      "text/html": [
       "<div>\n",
       "<style scoped>\n",
       "    .dataframe tbody tr th:only-of-type {\n",
       "        vertical-align: middle;\n",
       "    }\n",
       "\n",
       "    .dataframe tbody tr th {\n",
       "        vertical-align: top;\n",
       "    }\n",
       "\n",
       "    .dataframe thead th {\n",
       "        text-align: right;\n",
       "    }\n",
       "</style>\n",
       "<table border=\"1\" class=\"dataframe\">\n",
       "  <thead>\n",
       "    <tr style=\"text-align: right;\">\n",
       "      <th></th>\n",
       "      <th>actual</th>\n",
       "      <th>predicted</th>\n",
       "    </tr>\n",
       "  </thead>\n",
       "  <tbody>\n",
       "    <tr>\n",
       "      <th>88</th>\n",
       "      <td>1321</td>\n",
       "      <td>1401.0</td>\n",
       "    </tr>\n",
       "    <tr>\n",
       "      <th>128</th>\n",
       "      <td>6053</td>\n",
       "      <td>5286.0</td>\n",
       "    </tr>\n",
       "    <tr>\n",
       "      <th>19</th>\n",
       "      <td>4679</td>\n",
       "      <td>5093.0</td>\n",
       "    </tr>\n",
       "    <tr>\n",
       "      <th>39</th>\n",
       "      <td>1685</td>\n",
       "      <td>1810.0</td>\n",
       "    </tr>\n",
       "    <tr>\n",
       "      <th>145</th>\n",
       "      <td>5138</td>\n",
       "      <td>4660.0</td>\n",
       "    </tr>\n",
       "    <tr>\n",
       "      <th>142</th>\n",
       "      <td>1606</td>\n",
       "      <td>1781.0</td>\n",
       "    </tr>\n",
       "    <tr>\n",
       "      <th>105</th>\n",
       "      <td>5058</td>\n",
       "      <td>5531.0</td>\n",
       "    </tr>\n",
       "    <tr>\n",
       "      <th>79</th>\n",
       "      <td>4744</td>\n",
       "      <td>4082.0</td>\n",
       "    </tr>\n",
       "    <tr>\n",
       "      <th>99</th>\n",
       "      <td>2471</td>\n",
       "      <td>1688.0</td>\n",
       "    </tr>\n",
       "    <tr>\n",
       "      <th>61</th>\n",
       "      <td>4844</td>\n",
       "      <td>5243.0</td>\n",
       "    </tr>\n",
       "  </tbody>\n",
       "</table>\n",
       "</div>"
      ],
      "text/plain": [
       "     actual  predicted\n",
       "88     1321     1401.0\n",
       "128    6053     5286.0\n",
       "19     4679     5093.0\n",
       "39     1685     1810.0\n",
       "145    5138     4660.0\n",
       "142    1606     1781.0\n",
       "105    5058     5531.0\n",
       "79     4744     4082.0\n",
       "99     2471     1688.0\n",
       "61     4844     5243.0"
      ]
     },
     "execution_count": 39,
     "metadata": {},
     "output_type": "execute_result"
    }
   ],
   "source": [
    "# Put results in a dataframe\n",
    "results = pd.DataFrame({'actual': np.squeeze(y_test.values), 'predicted': np.squeeze(y_pred)})\n",
    "results = round(results,0)\n",
    "results.sample(10)"
   ]
  },
  {
   "cell_type": "code",
   "execution_count": 40,
   "metadata": {},
   "outputs": [
    {
     "data": {
      "image/png": "[encoded data removed]",
      "text/plain": [
       "<Figure size 576x432 with 1 Axes>"
      ]
     },
     "metadata": {
      "needs_background": "light"
     },
     "output_type": "display_data"
    }
   ],
   "source": [
    "fig, ax = plt.subplots(figsize = (8,6))\n",
    "plt.scatter(x = results.actual,y = results.predicted, c= \"crimson\")\n",
    "plt.xlabel(\"Actual Number of Bikes\", labelpad = 10)\n",
    "plt.ylabel(\"Predicted Number of Bikes\", labelpad = 10)\n",
    "plt.title(\"Model 1: Actual Against Predicted Number of Bike Rentals\");"
   ]
  },
  {
   "cell_type": "code",
   "execution_count": 41,
   "metadata": {},
   "outputs": [
    {
     "data": {
      "text/plain": [
       "0.9155218262404211"
      ]
     },
     "execution_count": 41,
     "metadata": {},
     "output_type": "execute_result"
    }
   ],
   "source": [
    "# Get r2 score - how much of the variance is captured by our model \n",
    "sklearn.metrics.r2_score(y_test, y_pred)"
   ]
  },
  {
   "cell_type": "markdown",
   "metadata": {},
   "source": [
    "## Model 2 - With ReLU Activation"
   ]
  },
  {
   "cell_type": "code",
   "execution_count": 42,
   "metadata": {},
   "outputs": [],
   "source": [
    "# Build Model 2\n",
    "model2 = torch.nn.Sequential(torch.nn.Linear(inp, hid),\n",
    "                             torch.nn.ReLU(),\n",
    "                             torch.nn.Linear(hid, out))"
   ]
  },
  {
   "cell_type": "code",
   "execution_count": 43,
   "metadata": {},
   "outputs": [
    {
     "name": "stderr",
     "output_type": "stream",
     "text": [
      "\n",
      "(process:7872): Pango-WARNING **: 18:47:00.584: couldn't load font \"Times Not-Rotated 10\", falling back to \"Sans Not-Rotated 10\", expect ugly output.\n"
     ]
    },
    {
     "data": {
      "image/svg+xml": [
       "<?xml version=\"1.0\" encoding=\"UTF-8\" standalone=\"no\"?>\n",
       "<!DOCTYPE svg PUBLIC \"-//W3C//DTD SVG 1.1//EN\"\n",
       " \"http://www.w3.org/Graphics/SVG/1.1/DTD/svg11.dtd\">\n",
       "<!-- Generated by graphviz version 2.50.0 (0)\n",
       " -->\n",
       "<!-- Pages: 1 -->\n",
       "<svg width=\"310pt\" height=\"108pt\"\n",
       " viewBox=\"0.00 0.00 310.00 108.00\" xmlns=\"http://www.w3.org/2000/svg\" xmlns:xlink=\"http://www.w3.org/1999/xlink\">\n",
       "<g id=\"graph0\" class=\"graph\" transform=\"scale(1 1) rotate(0) translate(72 72)\">\n",
       "<polygon fill=\"#ffffff\" stroke=\"transparent\" points=\"-72,36 -72,-72 238,-72 238,36 -72,36\"/>\n",
       "<!-- /outputs/7 -->\n",
       "<g id=\"node1\" class=\"node\">\n",
       "<title>/outputs/7</title>\n",
       "<polygon fill=\"#e8e8e8\" stroke=\"#000000\" points=\"166,-36 112,-36 112,0 166,0 166,-36\"/>\n",
       "<text text-anchor=\"start\" x=\"125\" y=\"-15\" font-family=\"Times\" font-size=\"10.00\" fill=\"#000000\">Linear</text>\n",
       "</g>\n",
       "<!-- 9995704877484387428 -->\n",
       "<g id=\"node2\" class=\"node\">\n",
       "<title>9995704877484387428</title>\n",
       "<polygon fill=\"#e8e8e8\" stroke=\"#000000\" points=\"76,-36 0,-36 0,0 76,0 76,-36\"/>\n",
       "<text text-anchor=\"start\" x=\"8\" y=\"-15\" font-family=\"Times\" font-size=\"10.00\" fill=\"#000000\">Linear &gt; Relu</text>\n",
       "</g>\n",
       "<!-- 9995704877484387428&#45;&gt;/outputs/7 -->\n",
       "<g id=\"edge1\" class=\"edge\">\n",
       "<title>9995704877484387428&#45;&gt;/outputs/7</title>\n",
       "<path fill=\"none\" stroke=\"#000000\" d=\"M76.15,-18C84.48,-18 93.31,-18 101.61,-18\"/>\n",
       "<polygon fill=\"#000000\" stroke=\"#000000\" points=\"101.77,-21.5 111.77,-18 101.77,-14.5 101.77,-21.5\"/>\n",
       "</g>\n",
       "</g>\n",
       "</svg>\n"
      ],
      "text/plain": [
       "<graphviz.graphs.Digraph at 0x2b2b52817f0>"
      ]
     },
     "execution_count": 43,
     "metadata": {},
     "output_type": "execute_result"
    }
   ],
   "source": [
    "# Visualise model\n",
    "hl.build_graph(model2, torch.zeros([10,inp])).build_dot()"
   ]
  },
  {
   "cell_type": "code",
   "execution_count": 44,
   "metadata": {},
   "outputs": [],
   "source": [
    "# Define optimizer and learning rate\n",
    "optimizer = torch.optim.Adam(model2.parameters(), lr = 0.001)"
   ]
  },
  {
   "cell_type": "code",
   "execution_count": 45,
   "metadata": {},
   "outputs": [
    {
     "name": "stdout",
     "output_type": "stream",
     "text": [
      "Epoch [1/10000], Step [1/6], Loss: 21074426.0000\n",
      "Epoch [1/10000], Step [2/6], Loss: 24032702.0000\n",
      "Epoch [1/10000], Step [3/6], Loss: 24415148.0000\n",
      "Epoch [1/10000], Step [4/6], Loss: 22615196.0000\n",
      "Epoch [1/10000], Step [5/6], Loss: 18379612.0000\n",
      "Epoch [1/10000], Step [6/6], Loss: 21712918.0000\n",
      "Epoch [2001/10000], Step [1/6], Loss: 458425.1562\n",
      "Epoch [2001/10000], Step [2/6], Loss: 403243.5312\n",
      "Epoch [2001/10000], Step [3/6], Loss: 352519.4688\n",
      "Epoch [2001/10000], Step [4/6], Loss: 383154.7500\n",
      "Epoch [2001/10000], Step [5/6], Loss: 334364.8125\n",
      "Epoch [2001/10000], Step [6/6], Loss: 422995.1562\n",
      "Epoch [4001/10000], Step [1/6], Loss: 325196.0000\n",
      "Epoch [4001/10000], Step [2/6], Loss: 427008.5938\n",
      "Epoch [4001/10000], Step [3/6], Loss: 459071.7500\n",
      "Epoch [4001/10000], Step [4/6], Loss: 349825.1875\n",
      "Epoch [4001/10000], Step [5/6], Loss: 322171.8125\n",
      "Epoch [4001/10000], Step [6/6], Loss: 294159.0312\n",
      "Epoch [6001/10000], Step [1/6], Loss: 242032.3594\n",
      "Epoch [6001/10000], Step [2/6], Loss: 260762.2656\n",
      "Epoch [6001/10000], Step [3/6], Loss: 420736.1875\n",
      "Epoch [6001/10000], Step [4/6], Loss: 302846.7188\n",
      "Epoch [6001/10000], Step [5/6], Loss: 371045.3125\n",
      "Epoch [6001/10000], Step [6/6], Loss: 419397.3438\n",
      "Epoch [8001/10000], Step [1/6], Loss: 239471.4531\n",
      "Epoch [8001/10000], Step [2/6], Loss: 260673.9062\n",
      "Epoch [8001/10000], Step [3/6], Loss: 416865.0312\n",
      "Epoch [8001/10000], Step [4/6], Loss: 337966.0000\n",
      "Epoch [8001/10000], Step [5/6], Loss: 334567.2500\n",
      "Epoch [8001/10000], Step [6/6], Loss: 328001.7500\n",
      "Epoch [10001/10000], Step [1/6], Loss: 303295.4688\n",
      "Epoch [10001/10000], Step [2/6], Loss: 293543.1250\n",
      "Epoch [10001/10000], Step [3/6], Loss: 329490.1250\n",
      "Epoch [10001/10000], Step [4/6], Loss: 299458.1250\n",
      "Epoch [10001/10000], Step [5/6], Loss: 330718.3750\n",
      "Epoch [10001/10000], Step [6/6], Loss: 311790.1562\n"
     ]
    }
   ],
   "source": [
    "train_model(model2)"
   ]
  },
  {
   "cell_type": "code",
   "execution_count": 46,
   "metadata": {},
   "outputs": [
    {
     "data": {
      "text/html": [
       "<div>\n",
       "<style scoped>\n",
       "    .dataframe tbody tr th:only-of-type {\n",
       "        vertical-align: middle;\n",
       "    }\n",
       "\n",
       "    .dataframe tbody tr th {\n",
       "        vertical-align: top;\n",
       "    }\n",
       "\n",
       "    .dataframe thead th {\n",
       "        text-align: right;\n",
       "    }\n",
       "</style>\n",
       "<table border=\"1\" class=\"dataframe\">\n",
       "  <thead>\n",
       "    <tr style=\"text-align: right;\">\n",
       "      <th></th>\n",
       "      <th>actual</th>\n",
       "      <th>predicted</th>\n",
       "    </tr>\n",
       "  </thead>\n",
       "  <tbody>\n",
       "    <tr>\n",
       "      <th>108</th>\n",
       "      <td>5572</td>\n",
       "      <td>5808.0</td>\n",
       "    </tr>\n",
       "    <tr>\n",
       "      <th>118</th>\n",
       "      <td>4400</td>\n",
       "      <td>4891.0</td>\n",
       "    </tr>\n",
       "    <tr>\n",
       "      <th>18</th>\n",
       "      <td>8090</td>\n",
       "      <td>6190.0</td>\n",
       "    </tr>\n",
       "    <tr>\n",
       "      <th>134</th>\n",
       "      <td>5382</td>\n",
       "      <td>5601.0</td>\n",
       "    </tr>\n",
       "    <tr>\n",
       "      <th>11</th>\n",
       "      <td>5146</td>\n",
       "      <td>5223.0</td>\n",
       "    </tr>\n",
       "    <tr>\n",
       "      <th>100</th>\n",
       "      <td>5298</td>\n",
       "      <td>5017.0</td>\n",
       "    </tr>\n",
       "    <tr>\n",
       "      <th>138</th>\n",
       "      <td>4322</td>\n",
       "      <td>4517.0</td>\n",
       "    </tr>\n",
       "    <tr>\n",
       "      <th>83</th>\n",
       "      <td>3727</td>\n",
       "      <td>4167.0</td>\n",
       "    </tr>\n",
       "    <tr>\n",
       "      <th>35</th>\n",
       "      <td>6591</td>\n",
       "      <td>7051.0</td>\n",
       "    </tr>\n",
       "    <tr>\n",
       "      <th>54</th>\n",
       "      <td>1538</td>\n",
       "      <td>1689.0</td>\n",
       "    </tr>\n",
       "  </tbody>\n",
       "</table>\n",
       "</div>"
      ],
      "text/plain": [
       "     actual  predicted\n",
       "108    5572     5808.0\n",
       "118    4400     4891.0\n",
       "18     8090     6190.0\n",
       "134    5382     5601.0\n",
       "11     5146     5223.0\n",
       "100    5298     5017.0\n",
       "138    4322     4517.0\n",
       "83     3727     4167.0\n",
       "35     6591     7051.0\n",
       "54     1538     1689.0"
      ]
     },
     "execution_count": 46,
     "metadata": {},
     "output_type": "execute_result"
    }
   ],
   "source": [
    "# Switch to evaluation mode - required as dropout and batch normalisation can behave differently between training and evaluation\n",
    "model2.eval()\n",
    "\n",
    "with torch.no_grad():  # turn off gradients\n",
    "    y_pred = model2(x_test_tensor)\n",
    "    \n",
    "# Predict against all the test set\n",
    "with torch.no_grad():\n",
    "    y_pred_tensor = model2(x_test_tensor)\n",
    "    \n",
    "# Convert to numpy array\n",
    "y_pred = y_pred_tensor.detach().numpy()\n",
    "\n",
    "# Put results in a dataframe\n",
    "results2 = pd.DataFrame({'actual': np.squeeze(y_test.values), 'predicted': np.squeeze(y_pred)})\n",
    "results2 = round(results,0)\n",
    "results2.sample(10)"
   ]
  },
  {
   "cell_type": "code",
   "execution_count": 47,
   "metadata": {},
   "outputs": [
    {
     "data": {
      "text/plain": [
       "0.913288186076765"
      ]
     },
     "execution_count": 47,
     "metadata": {},
     "output_type": "execute_result"
    }
   ],
   "source": [
    "# Get r2 score - how much of the variance is captured by our model \n",
    "sklearn.metrics.r2_score(y_test, y_pred)"
   ]
  },
  {
   "cell_type": "markdown",
   "metadata": {},
   "source": [
    "## Model 3 - With Dropout"
   ]
  },
  {
   "cell_type": "code",
   "execution_count": 48,
   "metadata": {},
   "outputs": [],
   "source": [
    "# Build Model 3\n",
    "model3 = torch.nn.Sequential(torch.nn.Linear(inp, hid),\n",
    "                             torch.nn.ReLU(),\n",
    "                             torch.nn.Dropout(p=0.2), # probability a neuron is turned off\n",
    "                             torch.nn.Linear(hid, out))"
   ]
  },
  {
   "cell_type": "code",
   "execution_count": 49,
   "metadata": {},
   "outputs": [
    {
     "name": "stderr",
     "output_type": "stream",
     "text": [
      "C:\\Users\\imoge\\Anaconda3\\envs\\PYTORCH\\lib\\site-packages\\torch\\onnx\\symbolic_opset9.py:1630: UserWarning: Dropout is a training op and should not be exported in inference mode. For inference, make sure to call eval() on the model and to export it with param training=False.\n",
      "  warnings.warn(\"Dropout is a training op and should not be exported in inference mode. \"\n",
      "\n",
      "(process:21616): Pango-WARNING **: 18:48:00.772: couldn't load font \"Times Not-Rotated 10\", falling back to \"Sans Not-Rotated 10\", expect ugly output.\n"
     ]
    },
    {
     "data": {
      "image/svg+xml": [
       "<?xml version=\"1.0\" encoding=\"UTF-8\" standalone=\"no\"?>\n",
       "<!DOCTYPE svg PUBLIC \"-//W3C//DTD SVG 1.1//EN\"\n",
       " \"http://www.w3.org/Graphics/SVG/1.1/DTD/svg11.dtd\">\n",
       "<!-- Generated by graphviz version 2.50.0 (0)\n",
       " -->\n",
       "<!-- Pages: 1 -->\n",
       "<svg width=\"400pt\" height=\"108pt\"\n",
       " viewBox=\"0.00 0.00 400.00 108.00\" xmlns=\"http://www.w3.org/2000/svg\" xmlns:xlink=\"http://www.w3.org/1999/xlink\">\n",
       "<g id=\"graph0\" class=\"graph\" transform=\"scale(1 1) rotate(0) translate(72 72)\">\n",
       "<polygon fill=\"#ffffff\" stroke=\"transparent\" points=\"-72,36 -72,-72 328,-72 328,36 -72,36\"/>\n",
       "<!-- /outputs/7/8 -->\n",
       "<g id=\"node1\" class=\"node\">\n",
       "<title>/outputs/7/8</title>\n",
       "<polygon fill=\"#e8e8e8\" stroke=\"#000000\" points=\"166,-36 112,-36 112,0 166,0 166,-36\"/>\n",
       "<text text-anchor=\"start\" x=\"122\" y=\"-15\" font-family=\"Times\" font-size=\"10.00\" fill=\"#000000\">Dropout</text>\n",
       "</g>\n",
       "<!-- /outputs/9 -->\n",
       "<g id=\"node2\" class=\"node\">\n",
       "<title>/outputs/9</title>\n",
       "<polygon fill=\"#e8e8e8\" stroke=\"#000000\" points=\"256,-36 202,-36 202,0 256,0 256,-36\"/>\n",
       "<text text-anchor=\"start\" x=\"215\" y=\"-15\" font-family=\"Times\" font-size=\"10.00\" fill=\"#000000\">Linear</text>\n",
       "</g>\n",
       "<!-- /outputs/7/8&#45;&gt;/outputs/9 -->\n",
       "<g id=\"edge1\" class=\"edge\">\n",
       "<title>/outputs/7/8&#45;&gt;/outputs/9</title>\n",
       "<path fill=\"none\" stroke=\"#000000\" d=\"M166.4,-18C174.39,-18 183.31,-18 191.82,-18\"/>\n",
       "<polygon fill=\"#000000\" stroke=\"#000000\" points=\"191.92,-21.5 201.92,-18 191.92,-14.5 191.92,-21.5\"/>\n",
       "</g>\n",
       "<!-- 11844880902521658742 -->\n",
       "<g id=\"node3\" class=\"node\">\n",
       "<title>11844880902521658742</title>\n",
       "<polygon fill=\"#e8e8e8\" stroke=\"#000000\" points=\"76,-36 0,-36 0,0 76,0 76,-36\"/>\n",
       "<text text-anchor=\"start\" x=\"8\" y=\"-15\" font-family=\"Times\" font-size=\"10.00\" fill=\"#000000\">Linear &gt; Relu</text>\n",
       "</g>\n",
       "<!-- 11844880902521658742&#45;&gt;/outputs/7/8 -->\n",
       "<g id=\"edge2\" class=\"edge\">\n",
       "<title>11844880902521658742&#45;&gt;/outputs/7/8</title>\n",
       "<path fill=\"none\" stroke=\"#000000\" d=\"M76.15,-18C84.48,-18 93.31,-18 101.61,-18\"/>\n",
       "<polygon fill=\"#000000\" stroke=\"#000000\" points=\"101.77,-21.5 111.77,-18 101.77,-14.5 101.77,-21.5\"/>\n",
       "</g>\n",
       "</g>\n",
       "</svg>\n"
      ],
      "text/plain": [
       "<graphviz.graphs.Digraph at 0x2b2b58e1070>"
      ]
     },
     "execution_count": 49,
     "metadata": {},
     "output_type": "execute_result"
    }
   ],
   "source": [
    "# Visualise model\n",
    "hl.build_graph(model3, torch.zeros([10,inp])).build_dot()"
   ]
  },
  {
   "cell_type": "code",
   "execution_count": 50,
   "metadata": {},
   "outputs": [],
   "source": [
    "# Define optimizer and learning rate\n",
    "optimizer = torch.optim.Adam(model3.parameters(), lr = 0.001)"
   ]
  },
  {
   "cell_type": "code",
   "execution_count": 51,
   "metadata": {},
   "outputs": [
    {
     "name": "stdout",
     "output_type": "stream",
     "text": [
      "Epoch [1/10000], Step [1/6], Loss: 27487132.0000\n",
      "Epoch [1/10000], Step [2/6], Loss: 21640412.0000\n",
      "Epoch [1/10000], Step [3/6], Loss: 27326882.0000\n",
      "Epoch [1/10000], Step [4/6], Loss: 21095512.0000\n",
      "Epoch [1/10000], Step [5/6], Loss: 24018338.0000\n",
      "Epoch [1/10000], Step [6/6], Loss: 26198046.0000\n",
      "Epoch [2001/10000], Step [1/6], Loss: 2112183.0000\n",
      "Epoch [2001/10000], Step [2/6], Loss: 3342674.5000\n",
      "Epoch [2001/10000], Step [3/6], Loss: 2998620.2500\n",
      "Epoch [2001/10000], Step [4/6], Loss: 3634644.5000\n",
      "Epoch [2001/10000], Step [5/6], Loss: 2699336.0000\n",
      "Epoch [2001/10000], Step [6/6], Loss: 4087289.2500\n",
      "Epoch [4001/10000], Step [1/6], Loss: 3012100.5000\n",
      "Epoch [4001/10000], Step [2/6], Loss: 1850486.7500\n",
      "Epoch [4001/10000], Step [3/6], Loss: 2357018.0000\n",
      "Epoch [4001/10000], Step [4/6], Loss: 2504462.5000\n",
      "Epoch [4001/10000], Step [5/6], Loss: 2840936.2500\n",
      "Epoch [4001/10000], Step [6/6], Loss: 2892099.0000\n",
      "Epoch [6001/10000], Step [1/6], Loss: 2134902.7500\n",
      "Epoch [6001/10000], Step [2/6], Loss: 2053608.0000\n",
      "Epoch [6001/10000], Step [3/6], Loss: 2743598.0000\n",
      "Epoch [6001/10000], Step [4/6], Loss: 3381345.5000\n",
      "Epoch [6001/10000], Step [5/6], Loss: 3795691.0000\n",
      "Epoch [6001/10000], Step [6/6], Loss: 3717574.5000\n",
      "Epoch [8001/10000], Step [1/6], Loss: 1971106.2500\n",
      "Epoch [8001/10000], Step [2/6], Loss: 2703147.0000\n",
      "Epoch [8001/10000], Step [3/6], Loss: 3434079.7500\n",
      "Epoch [8001/10000], Step [4/6], Loss: 3224915.2500\n",
      "Epoch [8001/10000], Step [5/6], Loss: 2123844.7500\n",
      "Epoch [8001/10000], Step [6/6], Loss: 1887185.0000\n",
      "Epoch [10001/10000], Step [1/6], Loss: 3571286.0000\n",
      "Epoch [10001/10000], Step [2/6], Loss: 3270441.0000\n",
      "Epoch [10001/10000], Step [3/6], Loss: 3128535.7500\n",
      "Epoch [10001/10000], Step [4/6], Loss: 3297468.2500\n",
      "Epoch [10001/10000], Step [5/6], Loss: 2978018.0000\n",
      "Epoch [10001/10000], Step [6/6], Loss: 1943367.3750\n"
     ]
    }
   ],
   "source": [
    "train_model(model3)"
   ]
  },
  {
   "cell_type": "code",
   "execution_count": 52,
   "metadata": {},
   "outputs": [
    {
     "data": {
      "text/html": [
       "<div>\n",
       "<style scoped>\n",
       "    .dataframe tbody tr th:only-of-type {\n",
       "        vertical-align: middle;\n",
       "    }\n",
       "\n",
       "    .dataframe tbody tr th {\n",
       "        vertical-align: top;\n",
       "    }\n",
       "\n",
       "    .dataframe thead th {\n",
       "        text-align: right;\n",
       "    }\n",
       "</style>\n",
       "<table border=\"1\" class=\"dataframe\">\n",
       "  <thead>\n",
       "    <tr style=\"text-align: right;\">\n",
       "      <th></th>\n",
       "      <th>actual</th>\n",
       "      <th>predicted</th>\n",
       "    </tr>\n",
       "  </thead>\n",
       "  <tbody>\n",
       "    <tr>\n",
       "      <th>88</th>\n",
       "      <td>1321</td>\n",
       "      <td>1401.0</td>\n",
       "    </tr>\n",
       "    <tr>\n",
       "      <th>45</th>\n",
       "      <td>4576</td>\n",
       "      <td>4812.0</td>\n",
       "    </tr>\n",
       "    <tr>\n",
       "      <th>69</th>\n",
       "      <td>3141</td>\n",
       "      <td>3570.0</td>\n",
       "    </tr>\n",
       "    <tr>\n",
       "      <th>130</th>\n",
       "      <td>6598</td>\n",
       "      <td>5602.0</td>\n",
       "    </tr>\n",
       "    <tr>\n",
       "      <th>113</th>\n",
       "      <td>6230</td>\n",
       "      <td>6121.0</td>\n",
       "    </tr>\n",
       "    <tr>\n",
       "      <th>0</th>\n",
       "      <td>4195</td>\n",
       "      <td>4500.0</td>\n",
       "    </tr>\n",
       "    <tr>\n",
       "      <th>23</th>\n",
       "      <td>5558</td>\n",
       "      <td>5808.0</td>\n",
       "    </tr>\n",
       "    <tr>\n",
       "      <th>54</th>\n",
       "      <td>1538</td>\n",
       "      <td>1689.0</td>\n",
       "    </tr>\n",
       "    <tr>\n",
       "      <th>18</th>\n",
       "      <td>8090</td>\n",
       "      <td>6190.0</td>\n",
       "    </tr>\n",
       "    <tr>\n",
       "      <th>107</th>\n",
       "      <td>4758</td>\n",
       "      <td>3990.0</td>\n",
       "    </tr>\n",
       "  </tbody>\n",
       "</table>\n",
       "</div>"
      ],
      "text/plain": [
       "     actual  predicted\n",
       "88     1321     1401.0\n",
       "45     4576     4812.0\n",
       "69     3141     3570.0\n",
       "130    6598     5602.0\n",
       "113    6230     6121.0\n",
       "0      4195     4500.0\n",
       "23     5558     5808.0\n",
       "54     1538     1689.0\n",
       "18     8090     6190.0\n",
       "107    4758     3990.0"
      ]
     },
     "execution_count": 52,
     "metadata": {},
     "output_type": "execute_result"
    }
   ],
   "source": [
    "# Switch to evaluation mode - required as dropout and batch normalisation can behave differently between training and evaluation\n",
    "model3.eval()\n",
    "\n",
    "with torch.no_grad():  # turn off gradients\n",
    "    y_pred = model3(x_test_tensor)\n",
    "    \n",
    "# Predict against all the test set\n",
    "with torch.no_grad():\n",
    "    y_pred_tensor = model3(x_test_tensor)\n",
    "    \n",
    "# Convert to numpy array\n",
    "y_pred = y_pred_tensor.detach().numpy()\n",
    "\n",
    "# Put results in a dataframe\n",
    "results3= pd.DataFrame({'actual': np.squeeze(y_test.values), 'predicted': np.squeeze(y_pred)})\n",
    "results3 = round(results,0)\n",
    "results3.sample(10)"
   ]
  },
  {
   "cell_type": "code",
   "execution_count": 53,
   "metadata": {},
   "outputs": [
    {
     "data": {
      "text/plain": [
       "0.8394873124876104"
      ]
     },
     "execution_count": 53,
     "metadata": {},
     "output_type": "execute_result"
    }
   ],
   "source": [
    "# Get r2 score - how much of the variance is captured by our model \n",
    "sklearn.metrics.r2_score(y_test, y_pred)"
   ]
  },
  {
   "cell_type": "code",
   "execution_count": 56,
   "metadata": {},
   "outputs": [
    {
     "data": {
      "image/png": "[encoded data removed]",
      "text/plain": [
       "<Figure size 720x288 with 1 Axes>"
      ]
     },
     "metadata": {
      "needs_background": "light"
     },
     "output_type": "display_data"
    }
   ],
   "source": [
    "plt.figure(figsize=(10,4))\n",
    "\n",
    "plt.plot(y_pred, label='Predicted count')\n",
    "plt.plot(y_test.values, label='Actual count')\n",
    "plt.title(\"Predicted and Actual Bike Rentals\")\n",
    "plt.legend()\n",
    "plt.show()"
   ]
  },
  {
   "cell_type": "markdown",
   "metadata": {},
   "source": [
    "# 6.0 Saving the Model"
   ]
  },
  {
   "cell_type": "code",
   "execution_count": 55,
   "metadata": {},
   "outputs": [],
   "source": [
    "#torch.save(model, 'my_model')"
   ]
  },
  {
   "cell_type": "code",
   "execution_count": null,
   "metadata": {},
   "outputs": [],
   "source": [
    "#saved_model = torch.load('my_model')"
   ]
  },
  {
   "cell_type": "code",
   "execution_count": null,
   "metadata": {},
   "outputs": [],
   "source": [
    "#y_pred_tensor = saved_model(x_test_tensor)"
   ]
  },
  {
   "cell_type": "code",
   "execution_count": null,
   "metadata": {},
   "outputs": [],
   "source": [
    "#y_pred = y_pred_tensor.detach().numpy()"
   ]
  }
 ],
 "metadata": {
  "kernelspec": {
   "display_name": "Python 3 (ipykernel)",
   "language": "python",
   "name": "python3"
  },
  "language_info": {
   "codemirror_mode": {
    "name": "ipython",
    "version": 3
   },
   "file_extension": ".py",
   "mimetype": "text/x-python",
   "name": "python",
   "nbconvert_exporter": "python",
   "pygments_lexer": "ipython3",
   "version": "3.8.12"
  }
 },
 "nbformat": 4,
 "nbformat_minor": 2
}
