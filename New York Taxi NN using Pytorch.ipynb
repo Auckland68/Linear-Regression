{
 "cells": [
  {
   "cell_type": "code",
   "execution_count": 273,
   "id": "45129b76",
   "metadata": {},
   "outputs": [],
   "source": [
    "import torch\n",
    "import torch.nn as nn\n",
    "import numpy as np\n",
    "import pandas as pd\n",
    "import matplotlib.pyplot as plt\n",
    "import seaborn as sns\n",
    "sns.set(style=\"darkgrid\")\n",
    "import geopy.distance"
   ]
  },
  {
   "cell_type": "markdown",
   "id": "81284e0d",
   "metadata": {},
   "source": [
    "This notebook uses data relating to taxi fares in New York to build a regression model to predict taxi fares based on distance travelled, fare class and other features. The model uses Pytorch and is based on the course by Jose Portilla on Udemy. The original dataset has 55 million rows but this model uses just 120,000 rows.\n",
    "\n",
    "https://www.kaggle.com/c/new-york-city-taxi-fare-prediction"
   ]
  },
  {
   "cell_type": "code",
   "execution_count": 219,
   "id": "0ecf0ad5",
   "metadata": {},
   "outputs": [],
   "source": [
    "df = pd.read_csv('C:/Users/imoge/Projects/Datasets/NYCTaxiFares.csv')"
   ]
  },
  {
   "cell_type": "code",
   "execution_count": 220,
   "id": "26b17c14",
   "metadata": {},
   "outputs": [
    {
     "data": {
      "text/plain": [
       "(120000, 8)"
      ]
     },
     "execution_count": 220,
     "metadata": {},
     "output_type": "execute_result"
    }
   ],
   "source": [
    "df.shape"
   ]
  },
  {
   "cell_type": "code",
   "execution_count": 221,
   "id": "49cfbdb1",
   "metadata": {},
   "outputs": [
    {
     "name": "stdout",
     "output_type": "stream",
     "text": [
      "<class 'pandas.core.frame.DataFrame'>\n",
      "RangeIndex: 120000 entries, 0 to 119999\n",
      "Data columns (total 8 columns):\n",
      " #   Column             Non-Null Count   Dtype  \n",
      "---  ------             --------------   -----  \n",
      " 0   pickup_datetime    120000 non-null  object \n",
      " 1   fare_amount        120000 non-null  float64\n",
      " 2   fare_class         120000 non-null  int64  \n",
      " 3   pickup_longitude   120000 non-null  float64\n",
      " 4   pickup_latitude    120000 non-null  float64\n",
      " 5   dropoff_longitude  120000 non-null  float64\n",
      " 6   dropoff_latitude   120000 non-null  float64\n",
      " 7   passenger_count    120000 non-null  int64  \n",
      "dtypes: float64(5), int64(2), object(1)\n",
      "memory usage: 7.3+ MB\n"
     ]
    }
   ],
   "source": [
    "df.info()"
   ]
  },
  {
   "cell_type": "code",
   "execution_count": 222,
   "id": "55958d22",
   "metadata": {},
   "outputs": [
    {
     "data": {
      "text/html": [
       "<div>\n",
       "<style scoped>\n",
       "    .dataframe tbody tr th:only-of-type {\n",
       "        vertical-align: middle;\n",
       "    }\n",
       "\n",
       "    .dataframe tbody tr th {\n",
       "        vertical-align: top;\n",
       "    }\n",
       "\n",
       "    .dataframe thead th {\n",
       "        text-align: right;\n",
       "    }\n",
       "</style>\n",
       "<table border=\"1\" class=\"dataframe\">\n",
       "  <thead>\n",
       "    <tr style=\"text-align: right;\">\n",
       "      <th></th>\n",
       "      <th>pickup_datetime</th>\n",
       "      <th>fare_amount</th>\n",
       "      <th>fare_class</th>\n",
       "      <th>pickup_longitude</th>\n",
       "      <th>pickup_latitude</th>\n",
       "      <th>dropoff_longitude</th>\n",
       "      <th>dropoff_latitude</th>\n",
       "      <th>passenger_count</th>\n",
       "    </tr>\n",
       "  </thead>\n",
       "  <tbody>\n",
       "    <tr>\n",
       "      <th>0</th>\n",
       "      <td>2010-04-19 08:17:56 UTC</td>\n",
       "      <td>6.5</td>\n",
       "      <td>0</td>\n",
       "      <td>-73.992365</td>\n",
       "      <td>40.730521</td>\n",
       "      <td>-73.975499</td>\n",
       "      <td>40.744746</td>\n",
       "      <td>1</td>\n",
       "    </tr>\n",
       "    <tr>\n",
       "      <th>1</th>\n",
       "      <td>2010-04-17 15:43:53 UTC</td>\n",
       "      <td>6.9</td>\n",
       "      <td>0</td>\n",
       "      <td>-73.990078</td>\n",
       "      <td>40.740558</td>\n",
       "      <td>-73.974232</td>\n",
       "      <td>40.744114</td>\n",
       "      <td>1</td>\n",
       "    </tr>\n",
       "    <tr>\n",
       "      <th>2</th>\n",
       "      <td>2010-04-17 11:23:26 UTC</td>\n",
       "      <td>10.1</td>\n",
       "      <td>1</td>\n",
       "      <td>-73.994149</td>\n",
       "      <td>40.751118</td>\n",
       "      <td>-73.960064</td>\n",
       "      <td>40.766235</td>\n",
       "      <td>2</td>\n",
       "    </tr>\n",
       "    <tr>\n",
       "      <th>3</th>\n",
       "      <td>2010-04-11 21:25:03 UTC</td>\n",
       "      <td>8.9</td>\n",
       "      <td>0</td>\n",
       "      <td>-73.990485</td>\n",
       "      <td>40.756422</td>\n",
       "      <td>-73.971205</td>\n",
       "      <td>40.748192</td>\n",
       "      <td>1</td>\n",
       "    </tr>\n",
       "    <tr>\n",
       "      <th>4</th>\n",
       "      <td>2010-04-17 02:19:01 UTC</td>\n",
       "      <td>19.7</td>\n",
       "      <td>1</td>\n",
       "      <td>-73.990976</td>\n",
       "      <td>40.734202</td>\n",
       "      <td>-73.905956</td>\n",
       "      <td>40.743115</td>\n",
       "      <td>1</td>\n",
       "    </tr>\n",
       "  </tbody>\n",
       "</table>\n",
       "</div>"
      ],
      "text/plain": [
       "           pickup_datetime  fare_amount  fare_class  pickup_longitude  \\\n",
       "0  2010-04-19 08:17:56 UTC          6.5           0        -73.992365   \n",
       "1  2010-04-17 15:43:53 UTC          6.9           0        -73.990078   \n",
       "2  2010-04-17 11:23:26 UTC         10.1           1        -73.994149   \n",
       "3  2010-04-11 21:25:03 UTC          8.9           0        -73.990485   \n",
       "4  2010-04-17 02:19:01 UTC         19.7           1        -73.990976   \n",
       "\n",
       "   pickup_latitude  dropoff_longitude  dropoff_latitude  passenger_count  \n",
       "0        40.730521         -73.975499         40.744746                1  \n",
       "1        40.740558         -73.974232         40.744114                1  \n",
       "2        40.751118         -73.960064         40.766235                2  \n",
       "3        40.756422         -73.971205         40.748192                1  \n",
       "4        40.734202         -73.905956         40.743115                1  "
      ]
     },
     "execution_count": 222,
     "metadata": {},
     "output_type": "execute_result"
    }
   ],
   "source": [
    "df.head()"
   ]
  },
  {
   "cell_type": "code",
   "execution_count": 223,
   "id": "3f938805",
   "metadata": {},
   "outputs": [
    {
     "data": {
      "text/html": [
       "<div>\n",
       "<style scoped>\n",
       "    .dataframe tbody tr th:only-of-type {\n",
       "        vertical-align: middle;\n",
       "    }\n",
       "\n",
       "    .dataframe tbody tr th {\n",
       "        vertical-align: top;\n",
       "    }\n",
       "\n",
       "    .dataframe thead th {\n",
       "        text-align: right;\n",
       "    }\n",
       "</style>\n",
       "<table border=\"1\" class=\"dataframe\">\n",
       "  <thead>\n",
       "    <tr style=\"text-align: right;\">\n",
       "      <th></th>\n",
       "      <th>fare_amount</th>\n",
       "      <th>fare_class</th>\n",
       "      <th>pickup_longitude</th>\n",
       "      <th>pickup_latitude</th>\n",
       "      <th>dropoff_longitude</th>\n",
       "      <th>dropoff_latitude</th>\n",
       "      <th>passenger_count</th>\n",
       "    </tr>\n",
       "  </thead>\n",
       "  <tbody>\n",
       "    <tr>\n",
       "      <th>count</th>\n",
       "      <td>120000.000000</td>\n",
       "      <td>120000.000000</td>\n",
       "      <td>120000.000000</td>\n",
       "      <td>120000.000000</td>\n",
       "      <td>120000.000000</td>\n",
       "      <td>120000.000000</td>\n",
       "      <td>120000.000000</td>\n",
       "    </tr>\n",
       "    <tr>\n",
       "      <th>mean</th>\n",
       "      <td>10.040326</td>\n",
       "      <td>0.333333</td>\n",
       "      <td>-73.976626</td>\n",
       "      <td>40.751443</td>\n",
       "      <td>-73.974501</td>\n",
       "      <td>40.751695</td>\n",
       "      <td>1.347167</td>\n",
       "    </tr>\n",
       "    <tr>\n",
       "      <th>std</th>\n",
       "      <td>7.500134</td>\n",
       "      <td>0.471406</td>\n",
       "      <td>0.031497</td>\n",
       "      <td>0.025821</td>\n",
       "      <td>0.032419</td>\n",
       "      <td>0.030279</td>\n",
       "      <td>0.759263</td>\n",
       "    </tr>\n",
       "    <tr>\n",
       "      <th>min</th>\n",
       "      <td>2.500000</td>\n",
       "      <td>0.000000</td>\n",
       "      <td>-74.465447</td>\n",
       "      <td>40.121653</td>\n",
       "      <td>-74.443323</td>\n",
       "      <td>40.164927</td>\n",
       "      <td>1.000000</td>\n",
       "    </tr>\n",
       "    <tr>\n",
       "      <th>25%</th>\n",
       "      <td>5.700000</td>\n",
       "      <td>0.000000</td>\n",
       "      <td>-73.992386</td>\n",
       "      <td>40.736594</td>\n",
       "      <td>-73.991478</td>\n",
       "      <td>40.735914</td>\n",
       "      <td>1.000000</td>\n",
       "    </tr>\n",
       "    <tr>\n",
       "      <th>50%</th>\n",
       "      <td>7.700000</td>\n",
       "      <td>0.000000</td>\n",
       "      <td>-73.982084</td>\n",
       "      <td>40.753661</td>\n",
       "      <td>-73.980411</td>\n",
       "      <td>40.754441</td>\n",
       "      <td>1.000000</td>\n",
       "    </tr>\n",
       "    <tr>\n",
       "      <th>75%</th>\n",
       "      <td>11.300000</td>\n",
       "      <td>1.000000</td>\n",
       "      <td>-73.968710</td>\n",
       "      <td>40.768020</td>\n",
       "      <td>-73.965500</td>\n",
       "      <td>40.768880</td>\n",
       "      <td>1.000000</td>\n",
       "    </tr>\n",
       "    <tr>\n",
       "      <th>max</th>\n",
       "      <td>49.900000</td>\n",
       "      <td>1.000000</td>\n",
       "      <td>-73.311845</td>\n",
       "      <td>40.981292</td>\n",
       "      <td>-73.496140</td>\n",
       "      <td>40.993498</td>\n",
       "      <td>5.000000</td>\n",
       "    </tr>\n",
       "  </tbody>\n",
       "</table>\n",
       "</div>"
      ],
      "text/plain": [
       "         fare_amount     fare_class  pickup_longitude  pickup_latitude  \\\n",
       "count  120000.000000  120000.000000     120000.000000    120000.000000   \n",
       "mean       10.040326       0.333333        -73.976626        40.751443   \n",
       "std         7.500134       0.471406          0.031497         0.025821   \n",
       "min         2.500000       0.000000        -74.465447        40.121653   \n",
       "25%         5.700000       0.000000        -73.992386        40.736594   \n",
       "50%         7.700000       0.000000        -73.982084        40.753661   \n",
       "75%        11.300000       1.000000        -73.968710        40.768020   \n",
       "max        49.900000       1.000000        -73.311845        40.981292   \n",
       "\n",
       "       dropoff_longitude  dropoff_latitude  passenger_count  \n",
       "count      120000.000000     120000.000000    120000.000000  \n",
       "mean          -73.974501         40.751695         1.347167  \n",
       "std             0.032419          0.030279         0.759263  \n",
       "min           -74.443323         40.164927         1.000000  \n",
       "25%           -73.991478         40.735914         1.000000  \n",
       "50%           -73.980411         40.754441         1.000000  \n",
       "75%           -73.965500         40.768880         1.000000  \n",
       "max           -73.496140         40.993498         5.000000  "
      ]
     },
     "execution_count": 223,
     "metadata": {},
     "output_type": "execute_result"
    }
   ],
   "source": [
    "df.describe()"
   ]
  },
  {
   "cell_type": "markdown",
   "id": "daa006c8",
   "metadata": {},
   "source": [
    "The max fare is almost 50 dollars, the minimum 2.5 dollars and the mean around 10 dollars"
   ]
  },
  {
   "cell_type": "markdown",
   "id": "0339048b",
   "metadata": {},
   "source": [
    "### Longitude and Latitude to get distance measure"
   ]
  },
  {
   "cell_type": "markdown",
   "id": "4206863c",
   "metadata": {},
   "source": [
    "Need to use feature engineering to convert the longitude and latitude data to get useful information out of the data and feed into the neural network. "
   ]
  },
  {
   "cell_type": "code",
   "execution_count": 224,
   "id": "e8786d9a",
   "metadata": {},
   "outputs": [],
   "source": [
    "# Function to calculate distance and apply to the dropoff and pickup latitudes and longitudes (uses the Haversine formula\n",
    "# based on the earth being assumed to be a sphere)\n",
    "def distancer(row):\n",
    "    coords_1 = (row['pickup_longitude'], row['pickup_latitude'])\n",
    "    coords_2 = (row['dropoff_longitude'], row['dropoff_latitude'])\n",
    "    return geopy.distance.geodesic(coords_1, coords_2).km\n",
    "\n",
    "df['distance'] = df.apply(distancer, axis=1)"
   ]
  },
  {
   "cell_type": "code",
   "execution_count": 225,
   "id": "cc38db55",
   "metadata": {},
   "outputs": [
    {
     "data": {
      "text/html": [
       "<div>\n",
       "<style scoped>\n",
       "    .dataframe tbody tr th:only-of-type {\n",
       "        vertical-align: middle;\n",
       "    }\n",
       "\n",
       "    .dataframe tbody tr th {\n",
       "        vertical-align: top;\n",
       "    }\n",
       "\n",
       "    .dataframe thead th {\n",
       "        text-align: right;\n",
       "    }\n",
       "</style>\n",
       "<table border=\"1\" class=\"dataframe\">\n",
       "  <thead>\n",
       "    <tr style=\"text-align: right;\">\n",
       "      <th></th>\n",
       "      <th>pickup_datetime</th>\n",
       "      <th>fare_amount</th>\n",
       "      <th>fare_class</th>\n",
       "      <th>pickup_longitude</th>\n",
       "      <th>pickup_latitude</th>\n",
       "      <th>dropoff_longitude</th>\n",
       "      <th>dropoff_latitude</th>\n",
       "      <th>passenger_count</th>\n",
       "      <th>distance</th>\n",
       "    </tr>\n",
       "  </thead>\n",
       "  <tbody>\n",
       "    <tr>\n",
       "      <th>0</th>\n",
       "      <td>2010-04-19 08:17:56 UTC</td>\n",
       "      <td>6.5</td>\n",
       "      <td>0</td>\n",
       "      <td>-73.992365</td>\n",
       "      <td>40.730521</td>\n",
       "      <td>-73.975499</td>\n",
       "      <td>40.744746</td>\n",
       "      <td>1</td>\n",
       "      <td>1.932727</td>\n",
       "    </tr>\n",
       "    <tr>\n",
       "      <th>1</th>\n",
       "      <td>2010-04-17 15:43:53 UTC</td>\n",
       "      <td>6.9</td>\n",
       "      <td>0</td>\n",
       "      <td>-73.990078</td>\n",
       "      <td>40.740558</td>\n",
       "      <td>-73.974232</td>\n",
       "      <td>40.744114</td>\n",
       "      <td>1</td>\n",
       "      <td>1.771932</td>\n",
       "    </tr>\n",
       "    <tr>\n",
       "      <th>2</th>\n",
       "      <td>2010-04-17 11:23:26 UTC</td>\n",
       "      <td>10.1</td>\n",
       "      <td>1</td>\n",
       "      <td>-73.994149</td>\n",
       "      <td>40.751118</td>\n",
       "      <td>-73.960064</td>\n",
       "      <td>40.766235</td>\n",
       "      <td>2</td>\n",
       "      <td>3.832587</td>\n",
       "    </tr>\n",
       "    <tr>\n",
       "      <th>3</th>\n",
       "      <td>2010-04-11 21:25:03 UTC</td>\n",
       "      <td>8.9</td>\n",
       "      <td>0</td>\n",
       "      <td>-73.990485</td>\n",
       "      <td>40.756422</td>\n",
       "      <td>-73.971205</td>\n",
       "      <td>40.748192</td>\n",
       "      <td>1</td>\n",
       "      <td>2.166696</td>\n",
       "    </tr>\n",
       "    <tr>\n",
       "      <th>4</th>\n",
       "      <td>2010-04-17 02:19:01 UTC</td>\n",
       "      <td>19.7</td>\n",
       "      <td>1</td>\n",
       "      <td>-73.990976</td>\n",
       "      <td>40.734202</td>\n",
       "      <td>-73.905956</td>\n",
       "      <td>40.743115</td>\n",
       "      <td>1</td>\n",
       "      <td>9.492877</td>\n",
       "    </tr>\n",
       "  </tbody>\n",
       "</table>\n",
       "</div>"
      ],
      "text/plain": [
       "           pickup_datetime  fare_amount  fare_class  pickup_longitude  \\\n",
       "0  2010-04-19 08:17:56 UTC          6.5           0        -73.992365   \n",
       "1  2010-04-17 15:43:53 UTC          6.9           0        -73.990078   \n",
       "2  2010-04-17 11:23:26 UTC         10.1           1        -73.994149   \n",
       "3  2010-04-11 21:25:03 UTC          8.9           0        -73.990485   \n",
       "4  2010-04-17 02:19:01 UTC         19.7           1        -73.990976   \n",
       "\n",
       "   pickup_latitude  dropoff_longitude  dropoff_latitude  passenger_count  \\\n",
       "0        40.730521         -73.975499         40.744746                1   \n",
       "1        40.740558         -73.974232         40.744114                1   \n",
       "2        40.751118         -73.960064         40.766235                2   \n",
       "3        40.756422         -73.971205         40.748192                1   \n",
       "4        40.734202         -73.905956         40.743115                1   \n",
       "\n",
       "   distance  \n",
       "0  1.932727  \n",
       "1  1.771932  \n",
       "2  3.832587  \n",
       "3  2.166696  \n",
       "4  9.492877  "
      ]
     },
     "execution_count": 225,
     "metadata": {},
     "output_type": "execute_result"
    }
   ],
   "source": [
    "df.head()"
   ]
  },
  {
   "cell_type": "code",
   "execution_count": 226,
   "id": "355f8d5e",
   "metadata": {},
   "outputs": [
    {
     "data": {
      "text/plain": [
       "count    120000.000000\n",
       "mean          2.652620\n",
       "std           3.472919\n",
       "min           0.003143\n",
       "25%           0.901845\n",
       "50%           1.610695\n",
       "75%           2.892851\n",
       "max          31.642037\n",
       "Name: distance, dtype: float64"
      ]
     },
     "execution_count": 226,
     "metadata": {},
     "output_type": "execute_result"
    }
   ],
   "source": [
    "df[\"distance\"].describe()"
   ]
  },
  {
   "cell_type": "markdown",
   "id": "dc6be995",
   "metadata": {},
   "source": [
    "The mean distance travelled is just under 3 km, with the maximum of 31 and minimum of 3 metres!"
   ]
  },
  {
   "cell_type": "code",
   "execution_count": 227,
   "id": "cf67ef54",
   "metadata": {},
   "outputs": [
    {
     "data": {
      "text/html": [
       "<div>\n",
       "<style scoped>\n",
       "    .dataframe tbody tr th:only-of-type {\n",
       "        vertical-align: middle;\n",
       "    }\n",
       "\n",
       "    .dataframe tbody tr th {\n",
       "        vertical-align: top;\n",
       "    }\n",
       "\n",
       "    .dataframe thead th {\n",
       "        text-align: right;\n",
       "    }\n",
       "</style>\n",
       "<table border=\"1\" class=\"dataframe\">\n",
       "  <thead>\n",
       "    <tr style=\"text-align: right;\">\n",
       "      <th></th>\n",
       "      <th>pickup_datetime</th>\n",
       "      <th>fare_amount</th>\n",
       "      <th>fare_class</th>\n",
       "      <th>pickup_longitude</th>\n",
       "      <th>pickup_latitude</th>\n",
       "      <th>dropoff_longitude</th>\n",
       "      <th>dropoff_latitude</th>\n",
       "      <th>passenger_count</th>\n",
       "      <th>distance</th>\n",
       "    </tr>\n",
       "  </thead>\n",
       "  <tbody>\n",
       "    <tr>\n",
       "      <th>15376</th>\n",
       "      <td>2010-04-24 23:39:01 UTC</td>\n",
       "      <td>2.50</td>\n",
       "      <td>0</td>\n",
       "      <td>-74.005279</td>\n",
       "      <td>40.721473</td>\n",
       "      <td>-74.005307</td>\n",
       "      <td>40.721580</td>\n",
       "      <td>1</td>\n",
       "      <td>0.004539</td>\n",
       "    </tr>\n",
       "    <tr>\n",
       "      <th>33527</th>\n",
       "      <td>2010-04-15 20:38:41 UTC</td>\n",
       "      <td>2.50</td>\n",
       "      <td>0</td>\n",
       "      <td>-74.002357</td>\n",
       "      <td>40.726479</td>\n",
       "      <td>-74.002368</td>\n",
       "      <td>40.726573</td>\n",
       "      <td>1</td>\n",
       "      <td>0.003143</td>\n",
       "    </tr>\n",
       "    <tr>\n",
       "      <th>46019</th>\n",
       "      <td>2010-04-15 06:38:22 UTC</td>\n",
       "      <td>49.57</td>\n",
       "      <td>1</td>\n",
       "      <td>-73.980163</td>\n",
       "      <td>40.776280</td>\n",
       "      <td>-73.980179</td>\n",
       "      <td>40.776189</td>\n",
       "      <td>1</td>\n",
       "      <td>0.003325</td>\n",
       "    </tr>\n",
       "    <tr>\n",
       "      <th>46535</th>\n",
       "      <td>2010-04-22 07:49:32 UTC</td>\n",
       "      <td>14.90</td>\n",
       "      <td>1</td>\n",
       "      <td>-73.965577</td>\n",
       "      <td>40.755685</td>\n",
       "      <td>-73.965601</td>\n",
       "      <td>40.755786</td>\n",
       "      <td>2</td>\n",
       "      <td>0.004108</td>\n",
       "    </tr>\n",
       "    <tr>\n",
       "      <th>62056</th>\n",
       "      <td>2010-04-14 10:56:47 UTC</td>\n",
       "      <td>14.00</td>\n",
       "      <td>1</td>\n",
       "      <td>-73.993123</td>\n",
       "      <td>40.736208</td>\n",
       "      <td>-73.993147</td>\n",
       "      <td>40.736118</td>\n",
       "      <td>1</td>\n",
       "      <td>0.003854</td>\n",
       "    </tr>\n",
       "    <tr>\n",
       "      <th>88598</th>\n",
       "      <td>2010-04-22 21:57:57 UTC</td>\n",
       "      <td>5.70</td>\n",
       "      <td>0</td>\n",
       "      <td>-73.958604</td>\n",
       "      <td>40.773224</td>\n",
       "      <td>-73.958605</td>\n",
       "      <td>40.773083</td>\n",
       "      <td>1</td>\n",
       "      <td>0.004352</td>\n",
       "    </tr>\n",
       "  </tbody>\n",
       "</table>\n",
       "</div>"
      ],
      "text/plain": [
       "               pickup_datetime  fare_amount  fare_class  pickup_longitude  \\\n",
       "15376  2010-04-24 23:39:01 UTC         2.50           0        -74.005279   \n",
       "33527  2010-04-15 20:38:41 UTC         2.50           0        -74.002357   \n",
       "46019  2010-04-15 06:38:22 UTC        49.57           1        -73.980163   \n",
       "46535  2010-04-22 07:49:32 UTC        14.90           1        -73.965577   \n",
       "62056  2010-04-14 10:56:47 UTC        14.00           1        -73.993123   \n",
       "88598  2010-04-22 21:57:57 UTC         5.70           0        -73.958604   \n",
       "\n",
       "       pickup_latitude  dropoff_longitude  dropoff_latitude  passenger_count  \\\n",
       "15376        40.721473         -74.005307         40.721580                1   \n",
       "33527        40.726479         -74.002368         40.726573                1   \n",
       "46019        40.776280         -73.980179         40.776189                1   \n",
       "46535        40.755685         -73.965601         40.755786                2   \n",
       "62056        40.736208         -73.993147         40.736118                1   \n",
       "88598        40.773224         -73.958605         40.773083                1   \n",
       "\n",
       "       distance  \n",
       "15376  0.004539  \n",
       "33527  0.003143  \n",
       "46019  0.003325  \n",
       "46535  0.004108  \n",
       "62056  0.003854  \n",
       "88598  0.004352  "
      ]
     },
     "execution_count": 227,
     "metadata": {},
     "output_type": "execute_result"
    }
   ],
   "source": [
    "# Journeys less than 5 metres\n",
    "df[df[\"distance\"] < 0.005]"
   ]
  },
  {
   "cell_type": "code",
   "execution_count": 228,
   "id": "5fe1a0eb",
   "metadata": {},
   "outputs": [],
   "source": [
    "#df.drop(columns = [\"pickup_longitude\", \"pickup_latitude\", \"dropoff_longitude\", \"dropoff_latitude\"], axis = 1, inplace = True)"
   ]
  },
  {
   "cell_type": "code",
   "execution_count": 229,
   "id": "0527a2d8",
   "metadata": {},
   "outputs": [
    {
     "data": {
      "text/html": [
       "<div>\n",
       "<style scoped>\n",
       "    .dataframe tbody tr th:only-of-type {\n",
       "        vertical-align: middle;\n",
       "    }\n",
       "\n",
       "    .dataframe tbody tr th {\n",
       "        vertical-align: top;\n",
       "    }\n",
       "\n",
       "    .dataframe thead th {\n",
       "        text-align: right;\n",
       "    }\n",
       "</style>\n",
       "<table border=\"1\" class=\"dataframe\">\n",
       "  <thead>\n",
       "    <tr style=\"text-align: right;\">\n",
       "      <th></th>\n",
       "      <th>pickup_datetime</th>\n",
       "      <th>fare_amount</th>\n",
       "      <th>fare_class</th>\n",
       "      <th>pickup_longitude</th>\n",
       "      <th>pickup_latitude</th>\n",
       "      <th>dropoff_longitude</th>\n",
       "      <th>dropoff_latitude</th>\n",
       "      <th>passenger_count</th>\n",
       "      <th>distance</th>\n",
       "      <th>EDTdate</th>\n",
       "      <th>Hour</th>\n",
       "      <th>AMorPM</th>\n",
       "      <th>Weekday</th>\n",
       "    </tr>\n",
       "  </thead>\n",
       "  <tbody>\n",
       "    <tr>\n",
       "      <th>0</th>\n",
       "      <td>2010-04-19 08:17:56 UTC</td>\n",
       "      <td>6.5</td>\n",
       "      <td>0</td>\n",
       "      <td>-73.992365</td>\n",
       "      <td>40.730521</td>\n",
       "      <td>-73.975499</td>\n",
       "      <td>40.744746</td>\n",
       "      <td>1</td>\n",
       "      <td>1.932727</td>\n",
       "      <td>2010-04-19 04:17:56</td>\n",
       "      <td>4</td>\n",
       "      <td>am</td>\n",
       "      <td>Mon</td>\n",
       "    </tr>\n",
       "    <tr>\n",
       "      <th>1</th>\n",
       "      <td>2010-04-17 15:43:53 UTC</td>\n",
       "      <td>6.9</td>\n",
       "      <td>0</td>\n",
       "      <td>-73.990078</td>\n",
       "      <td>40.740558</td>\n",
       "      <td>-73.974232</td>\n",
       "      <td>40.744114</td>\n",
       "      <td>1</td>\n",
       "      <td>1.771932</td>\n",
       "      <td>2010-04-17 11:43:53</td>\n",
       "      <td>11</td>\n",
       "      <td>am</td>\n",
       "      <td>Sat</td>\n",
       "    </tr>\n",
       "  </tbody>\n",
       "</table>\n",
       "</div>"
      ],
      "text/plain": [
       "           pickup_datetime  fare_amount  fare_class  pickup_longitude  \\\n",
       "0  2010-04-19 08:17:56 UTC          6.5           0        -73.992365   \n",
       "1  2010-04-17 15:43:53 UTC          6.9           0        -73.990078   \n",
       "\n",
       "   pickup_latitude  dropoff_longitude  dropoff_latitude  passenger_count  \\\n",
       "0        40.730521         -73.975499         40.744746                1   \n",
       "1        40.740558         -73.974232         40.744114                1   \n",
       "\n",
       "   distance             EDTdate  Hour AMorPM Weekday  \n",
       "0  1.932727 2010-04-19 04:17:56     4     am     Mon  \n",
       "1  1.771932 2010-04-17 11:43:53    11     am     Sat  "
      ]
     },
     "execution_count": 229,
     "metadata": {},
     "output_type": "execute_result"
    }
   ],
   "source": [
    "# Get the datetime\n",
    "# The data was saved in UTC time and is in April of 2010 during Daylight Savings Time in New York. \n",
    "# EDT is adjusted using UTC-4 (subtracting four hours).\n",
    "df['EDTdate'] = pd.to_datetime(df['pickup_datetime'].str[:19])- pd.Timedelta(hours=4)\n",
    "df['Hour'] = df['EDTdate'].dt.hour\n",
    "df['AMorPM'] = np.where(df['Hour']<12,'am','pm')\n",
    "df['Weekday'] = df['EDTdate'].dt.strftime(\"%a\")\n",
    "df.head(2)"
   ]
  },
  {
   "cell_type": "code",
   "execution_count": 230,
   "id": "6393c4ff",
   "metadata": {},
   "outputs": [
    {
     "name": "stdout",
     "output_type": "stream",
     "text": [
      "2010-04-11 00:00:10\n",
      "2010-04-24 23:59:42\n"
     ]
    }
   ],
   "source": [
    "print(df['EDTdate'].min())\n",
    "print(df['EDTdate'].max())"
   ]
  },
  {
   "cell_type": "markdown",
   "id": "80ed5a0b",
   "metadata": {},
   "source": [
    "### Data Exploration and Visualisation"
   ]
  },
  {
   "cell_type": "code",
   "execution_count": 264,
   "id": "b585357f",
   "metadata": {},
   "outputs": [
    {
     "data": {
      "text/html": [
       "<div>\n",
       "<style scoped>\n",
       "    .dataframe tbody tr th:only-of-type {\n",
       "        vertical-align: middle;\n",
       "    }\n",
       "\n",
       "    .dataframe tbody tr th {\n",
       "        vertical-align: top;\n",
       "    }\n",
       "\n",
       "    .dataframe thead th {\n",
       "        text-align: right;\n",
       "    }\n",
       "</style>\n",
       "<table border=\"1\" class=\"dataframe\">\n",
       "  <thead>\n",
       "    <tr style=\"text-align: right;\">\n",
       "      <th></th>\n",
       "      <th>pickup_datetime</th>\n",
       "      <th>fare_amount</th>\n",
       "      <th>fare_class</th>\n",
       "      <th>pickup_longitude</th>\n",
       "      <th>pickup_latitude</th>\n",
       "      <th>dropoff_longitude</th>\n",
       "      <th>dropoff_latitude</th>\n",
       "      <th>passenger_count</th>\n",
       "      <th>distance</th>\n",
       "      <th>EDTdate</th>\n",
       "      <th>Hour</th>\n",
       "      <th>AMorPM</th>\n",
       "      <th>Weekday</th>\n",
       "    </tr>\n",
       "  </thead>\n",
       "  <tbody>\n",
       "    <tr>\n",
       "      <th>0</th>\n",
       "      <td>2010-04-19 08:17:56 UTC</td>\n",
       "      <td>6.5</td>\n",
       "      <td>0</td>\n",
       "      <td>-73.992365</td>\n",
       "      <td>40.730521</td>\n",
       "      <td>-73.975499</td>\n",
       "      <td>40.744746</td>\n",
       "      <td>1</td>\n",
       "      <td>1.932727</td>\n",
       "      <td>2010-04-19 04:17:56</td>\n",
       "      <td>4</td>\n",
       "      <td>am</td>\n",
       "      <td>Mon</td>\n",
       "    </tr>\n",
       "    <tr>\n",
       "      <th>1</th>\n",
       "      <td>2010-04-17 15:43:53 UTC</td>\n",
       "      <td>6.9</td>\n",
       "      <td>0</td>\n",
       "      <td>-73.990078</td>\n",
       "      <td>40.740558</td>\n",
       "      <td>-73.974232</td>\n",
       "      <td>40.744114</td>\n",
       "      <td>1</td>\n",
       "      <td>1.771932</td>\n",
       "      <td>2010-04-17 11:43:53</td>\n",
       "      <td>11</td>\n",
       "      <td>am</td>\n",
       "      <td>Sat</td>\n",
       "    </tr>\n",
       "  </tbody>\n",
       "</table>\n",
       "</div>"
      ],
      "text/plain": [
       "           pickup_datetime  fare_amount  fare_class  pickup_longitude  \\\n",
       "0  2010-04-19 08:17:56 UTC          6.5           0        -73.992365   \n",
       "1  2010-04-17 15:43:53 UTC          6.9           0        -73.990078   \n",
       "\n",
       "   pickup_latitude  dropoff_longitude  dropoff_latitude  passenger_count  \\\n",
       "0        40.730521         -73.975499         40.744746                1   \n",
       "1        40.740558         -73.974232         40.744114                1   \n",
       "\n",
       "   distance             EDTdate Hour AMorPM Weekday  \n",
       "0  1.932727 2010-04-19 04:17:56    4     am     Mon  \n",
       "1  1.771932 2010-04-17 11:43:53   11     am     Sat  "
      ]
     },
     "execution_count": 264,
     "metadata": {},
     "output_type": "execute_result"
    }
   ],
   "source": [
    "df.head(2)"
   ]
  },
  {
   "cell_type": "code",
   "execution_count": 278,
   "id": "5ee26c0c",
   "metadata": {},
   "outputs": [
    {
     "data": {
      "image/png": "[encoded data removed]",
      "text/plain": [
       "<Figure size 432x288 with 1 Axes>"
      ]
     },
     "metadata": {},
     "output_type": "display_data"
    }
   ],
   "source": [
    "sns.histplot(data=df, x=\"distance\", kde = True)\n",
    "plt.title(\"Distribution of Distance Travelled\");"
   ]
  },
  {
   "cell_type": "code",
   "execution_count": 295,
   "id": "80764463",
   "metadata": {},
   "outputs": [
    {
     "data": {
      "image/png": "[encoded data removed]",
      "text/plain": [
       "<Figure size 432x288 with 1 Axes>"
      ]
     },
     "metadata": {},
     "output_type": "display_data"
    }
   ],
   "source": [
    "sns.boxplot(data = df, y = \"distance\");"
   ]
  },
  {
   "cell_type": "markdown",
   "id": "8f90d28c",
   "metadata": {},
   "source": [
    "Most distances travelled are below 5km. The distribution is positive skewed with a few outliers"
   ]
  },
  {
   "cell_type": "code",
   "execution_count": 277,
   "id": "96c29010",
   "metadata": {},
   "outputs": [
    {
     "data": {
      "image/png": "[encoded data removed]",
      "text/plain": [
       "<Figure size 432x288 with 1 Axes>"
      ]
     },
     "metadata": {},
     "output_type": "display_data"
    }
   ],
   "source": [
    "sns.histplot(df[\"fare_amount\"],kde = True)\n",
    "plt.title(\"Distribution of Fares\");"
   ]
  },
  {
   "cell_type": "code",
   "execution_count": 297,
   "id": "1e909d86",
   "metadata": {},
   "outputs": [
    {
     "data": {
      "image/png": "[encoded data removed]",
      "text/plain": [
       "<Figure size 432x288 with 1 Axes>"
      ]
     },
     "metadata": {},
     "output_type": "display_data"
    }
   ],
   "source": [
    "sns.boxplot(data = df, y = \"fare_amount\");"
   ]
  },
  {
   "cell_type": "markdown",
   "id": "0224eba6",
   "metadata": {},
   "source": [
    "Most fares are below $20. The distribution is positive skewed with outliers"
   ]
  },
  {
   "cell_type": "code",
   "execution_count": 308,
   "id": "0569c3f1",
   "metadata": {},
   "outputs": [
    {
     "data": {
      "image/png": "[encoded data removed]",
      "text/plain": [
       "<Figure size 432x288 with 1 Axes>"
      ]
     },
     "metadata": {},
     "output_type": "display_data"
    }
   ],
   "source": [
    "sns.countplot(data = df, x = \"fare_class\")\n",
    "plt.title(\"Taxi Rides by Fare Class\");"
   ]
  },
  {
   "cell_type": "markdown",
   "id": "9d0a4a93",
   "metadata": {},
   "source": [
    "Fare class 0 is the most used."
   ]
  },
  {
   "cell_type": "code",
   "execution_count": 309,
   "id": "2ffcacee",
   "metadata": {},
   "outputs": [
    {
     "data": {
      "image/png": "[encoded data removed]",
      "text/plain": [
       "<Figure size 432x288 with 1 Axes>"
      ]
     },
     "metadata": {},
     "output_type": "display_data"
    }
   ],
   "source": [
    "sns.countplot(data = df, x = \"passenger_count\")\n",
    "plt.title(\"Taxi Rides by Passenger Count\");"
   ]
  },
  {
   "cell_type": "markdown",
   "id": "06403ea0",
   "metadata": {},
   "source": [
    "Most rides only contain one passenger"
   ]
  },
  {
   "cell_type": "code",
   "execution_count": 300,
   "id": "3f01c001",
   "metadata": {},
   "outputs": [
    {
     "data": {
      "image/png": "[encoded data removed]",
      "text/plain": [
       "<Figure size 432x288 with 1 Axes>"
      ]
     },
     "metadata": {},
     "output_type": "display_data"
    }
   ],
   "source": [
    "sns.countplot(data = df, x = \"Weekday\")\n",
    "plt.title(\"Taxi Rides by Day\");"
   ]
  },
  {
   "cell_type": "markdown",
   "id": "41a32f93",
   "metadata": {},
   "source": [
    "The busiest day for taxis is Friday and Sunday the least busy"
   ]
  },
  {
   "cell_type": "code",
   "execution_count": 301,
   "id": "d076116d",
   "metadata": {},
   "outputs": [
    {
     "data": {
      "image/png": "[encoded data removed]",
      "text/plain": [
       "<Figure size 432x288 with 1 Axes>"
      ]
     },
     "metadata": {},
     "output_type": "display_data"
    }
   ],
   "source": [
    "sns.countplot(data = df, x = \"AMorPM\")\n",
    "plt.title(\"Taxi Rides by Am or Pm\");"
   ]
  },
  {
   "cell_type": "markdown",
   "id": "a61d1829",
   "metadata": {},
   "source": [
    "Most taxi rides are in the afternoon"
   ]
  },
  {
   "cell_type": "code",
   "execution_count": 303,
   "id": "d7bf1a6d",
   "metadata": {},
   "outputs": [
    {
     "data": {
      "image/png": "[encoded data removed]",
      "text/plain": [
       "<Figure size 432x288 with 1 Axes>"
      ]
     },
     "metadata": {},
     "output_type": "display_data"
    }
   ],
   "source": [
    "sns.countplot(data = df, x = \"Hour\")\n",
    "plt.title(\"Taxi Rides by Hour of Day\");"
   ]
  },
  {
   "cell_type": "markdown",
   "id": "37c2076b",
   "metadata": {},
   "source": [
    "The busiest times of day for taxis are 2pm to 3pm and the least busy times are at midnight to 2am"
   ]
  },
  {
   "cell_type": "code",
   "execution_count": 306,
   "id": "c6376157",
   "metadata": {},
   "outputs": [
    {
     "data": {
      "image/png": "[encoded data removed]",
      "text/plain": [
       "<Figure size 432x288 with 2 Axes>"
      ]
     },
     "metadata": {},
     "output_type": "display_data"
    }
   ],
   "source": [
    "sns.heatmap(df.corr(), annot = True);"
   ]
  },
  {
   "cell_type": "markdown",
   "id": "81284aad",
   "metadata": {},
   "source": [
    "As expected the fare amount is most highly correlated with distance but also the fare class"
   ]
  },
  {
   "cell_type": "markdown",
   "id": "c421f4ec",
   "metadata": {},
   "source": [
    "### Categorical variables"
   ]
  },
  {
   "cell_type": "code",
   "execution_count": 231,
   "id": "50aa6210",
   "metadata": {},
   "outputs": [
    {
     "data": {
      "text/plain": [
       "Index(['pickup_datetime', 'fare_amount', 'fare_class', 'pickup_longitude',\n",
       "       'pickup_latitude', 'dropoff_longitude', 'dropoff_latitude',\n",
       "       'passenger_count', 'distance', 'EDTdate', 'Hour', 'AMorPM', 'Weekday'],\n",
       "      dtype='object')"
      ]
     },
     "execution_count": 231,
     "metadata": {},
     "output_type": "execute_result"
    }
   ],
   "source": [
    "df.columns"
   ]
  },
  {
   "cell_type": "code",
   "execution_count": 232,
   "id": "181c6319",
   "metadata": {},
   "outputs": [],
   "source": [
    "# Some variables can be categorical or continuous (eg hour)\n",
    "cat_cols = ['Hour', 'AMorPM', 'Weekday']\n",
    "cont_cols = ['pickup_latitude', 'pickup_longitude', 'dropoff_latitude', 'dropoff_longitude', 'passenger_count', 'distance']\n",
    "y = ['fare_amount'] # the label"
   ]
  },
  {
   "cell_type": "code",
   "execution_count": 233,
   "id": "9ee3cd42",
   "metadata": {},
   "outputs": [],
   "source": [
    "# Convert category columns to category variable type\n",
    "for cat in cat_cols:\n",
    "    df[cat] = df[cat].astype('category')"
   ]
  },
  {
   "cell_type": "code",
   "execution_count": 234,
   "id": "2173dc59",
   "metadata": {},
   "outputs": [
    {
     "name": "stdout",
     "output_type": "stream",
     "text": [
      "<class 'pandas.core.frame.DataFrame'>\n",
      "RangeIndex: 120000 entries, 0 to 119999\n",
      "Data columns (total 13 columns):\n",
      " #   Column             Non-Null Count   Dtype         \n",
      "---  ------             --------------   -----         \n",
      " 0   pickup_datetime    120000 non-null  object        \n",
      " 1   fare_amount        120000 non-null  float64       \n",
      " 2   fare_class         120000 non-null  int64         \n",
      " 3   pickup_longitude   120000 non-null  float64       \n",
      " 4   pickup_latitude    120000 non-null  float64       \n",
      " 5   dropoff_longitude  120000 non-null  float64       \n",
      " 6   dropoff_latitude   120000 non-null  float64       \n",
      " 7   passenger_count    120000 non-null  int64         \n",
      " 8   distance           120000 non-null  float64       \n",
      " 9   EDTdate            120000 non-null  datetime64[ns]\n",
      " 10  Hour               120000 non-null  category      \n",
      " 11  AMorPM             120000 non-null  category      \n",
      " 12  Weekday            120000 non-null  category      \n",
      "dtypes: category(3), datetime64[ns](1), float64(6), int64(2), object(1)\n",
      "memory usage: 9.5+ MB\n"
     ]
    }
   ],
   "source": [
    "df.info()"
   ]
  },
  {
   "cell_type": "code",
   "execution_count": 235,
   "id": "cb0158b0",
   "metadata": {},
   "outputs": [
    {
     "data": {
      "text/plain": [
       "Index(['Fri', 'Mon', 'Sat', 'Sun', 'Thu', 'Tue', 'Wed'], dtype='object')"
      ]
     },
     "execution_count": 235,
     "metadata": {},
     "output_type": "execute_result"
    }
   ],
   "source": [
    "# Check one of the categories - weekday\n",
    "df[\"Weekday\"].cat.categories"
   ]
  },
  {
   "cell_type": "code",
   "execution_count": 236,
   "id": "9366782e",
   "metadata": {},
   "outputs": [
    {
     "data": {
      "text/plain": [
       "0         1\n",
       "1         2\n",
       "2         2\n",
       "3         3\n",
       "4         0\n",
       "         ..\n",
       "119995    3\n",
       "119996    0\n",
       "119997    3\n",
       "119998    5\n",
       "119999    2\n",
       "Length: 120000, dtype: int8"
      ]
     },
     "execution_count": 236,
     "metadata": {},
     "output_type": "execute_result"
    }
   ],
   "source": [
    "# How the data is coded as numerical values\n",
    "df[\"Weekday\"].cat.codes"
   ]
  },
  {
   "cell_type": "code",
   "execution_count": 237,
   "id": "8113e6e1",
   "metadata": {},
   "outputs": [
    {
     "data": {
      "text/plain": [
       "array([1, 2, 2, ..., 3, 5, 2], dtype=int8)"
      ]
     },
     "execution_count": 237,
     "metadata": {},
     "output_type": "execute_result"
    }
   ],
   "source": [
    "# Check format is numpy array which can be transformed into tensors\n",
    "df[\"Weekday\"].cat.codes.values"
   ]
  },
  {
   "cell_type": "code",
   "execution_count": 238,
   "id": "e22132bc",
   "metadata": {},
   "outputs": [
    {
     "data": {
      "text/plain": [
       "array([[ 4,  0,  1],\n",
       "       [11,  0,  2],\n",
       "       [ 7,  0,  2]], dtype=int8)"
      ]
     },
     "execution_count": 238,
     "metadata": {},
     "output_type": "execute_result"
    }
   ],
   "source": [
    "# Convert the data into arrays which can be combined into one array\n",
    "hr = df['Hour'].cat.codes.values\n",
    "ampm = df['AMorPM'].cat.codes.values\n",
    "wkdy = df['Weekday'].cat.codes.values\n",
    "\n",
    "cats = np.stack([hr, ampm, wkdy], 1) # combine the variables into one stacked along columns (axis = 1)\n",
    "\n",
    "cats[:3] # check the first few"
   ]
  },
  {
   "cell_type": "markdown",
   "id": "8179211c",
   "metadata": {},
   "source": [
    "Alternative to do the stacking:\n",
    "\n",
    "* cats = np.stack([df[col].cat.codes.values for col in cat], 1)"
   ]
  },
  {
   "cell_type": "code",
   "execution_count": 239,
   "id": "3c8cd843",
   "metadata": {},
   "outputs": [
    {
     "data": {
      "text/plain": [
       "tensor([[ 4,  0,  1],\n",
       "        [11,  0,  2],\n",
       "        [ 7,  0,  2],\n",
       "        [17,  1,  3],\n",
       "        [22,  1,  0]])"
      ]
     },
     "execution_count": 239,
     "metadata": {},
     "output_type": "execute_result"
    }
   ],
   "source": [
    "# Convert to tensor\n",
    "cats = torch.tensor(cats, dtype=torch.int64) # source data is an array, not an existing tensor so method used\n",
    "cats[:5]"
   ]
  },
  {
   "cell_type": "code",
   "execution_count": 240,
   "id": "2bf9d778",
   "metadata": {},
   "outputs": [
    {
     "data": {
      "text/plain": [
       "tensor([[ 40.7305, -73.9924,  40.7447, -73.9755,   1.0000,   1.9327],\n",
       "        [ 40.7406, -73.9901,  40.7441, -73.9742,   1.0000,   1.7719],\n",
       "        [ 40.7511, -73.9941,  40.7662, -73.9601,   2.0000,   3.8326],\n",
       "        [ 40.7564, -73.9905,  40.7482, -73.9712,   1.0000,   2.1667],\n",
       "        [ 40.7342, -73.9910,  40.7431, -73.9060,   1.0000,   9.4929]])"
      ]
     },
     "execution_count": 240,
     "metadata": {},
     "output_type": "execute_result"
    }
   ],
   "source": [
    "# Convert continuous variables to a combined tensor also\n",
    "conts = np.stack([df[col].values for col in cont_cols], 1)\n",
    "conts = torch.tensor(conts, dtype=torch.float)\n",
    "conts[:5]"
   ]
  },
  {
   "cell_type": "code",
   "execution_count": 241,
   "id": "6e65a61c",
   "metadata": {},
   "outputs": [
    {
     "data": {
      "text/plain": [
       "tensor([[ 6.5000],\n",
       "        [ 6.9000],\n",
       "        [10.1000],\n",
       "        [ 8.9000],\n",
       "        [19.7000]])"
      ]
     },
     "execution_count": 241,
     "metadata": {},
     "output_type": "execute_result"
    }
   ],
   "source": [
    "# Convert labels to tensor\n",
    "y = torch.tensor(df[y].values, dtype=torch.float).reshape(-1,1) # reshape not normally needed\n",
    "y[:5]"
   ]
  },
  {
   "cell_type": "code",
   "execution_count": 242,
   "id": "660ae546",
   "metadata": {},
   "outputs": [
    {
     "name": "stdout",
     "output_type": "stream",
     "text": [
      "torch.Size([120000, 3]) torch.Size([120000, 6]) torch.Size([120000, 1])\n"
     ]
    }
   ],
   "source": [
    "# Check the shapes\n",
    "print(cats.shape, conts.shape, y.shape)"
   ]
  },
  {
   "cell_type": "markdown",
   "id": "625e0e5c",
   "metadata": {},
   "source": [
    "### Set Embedding Sizes for categorical variables"
   ]
  },
  {
   "cell_type": "markdown",
   "id": "ec91cf5b",
   "metadata": {},
   "source": [
    "Need to one-hot encode the categories (similar to text)"
   ]
  },
  {
   "cell_type": "code",
   "execution_count": 243,
   "id": "3ae89a07",
   "metadata": {},
   "outputs": [
    {
     "data": {
      "text/plain": [
       "[24, 2, 7]"
      ]
     },
     "execution_count": 243,
     "metadata": {},
     "output_type": "execute_result"
    }
   ],
   "source": [
    "# Get the size of each category in a list form\n",
    "cat_szs = [len(df[col].cat.categories) for col in cat_cols]\n",
    "cat_szs # returns the sizes of each category"
   ]
  },
  {
   "cell_type": "code",
   "execution_count": 244,
   "id": "b40da923",
   "metadata": {},
   "outputs": [
    {
     "data": {
      "text/plain": [
       "[(24, 12), (2, 1), (7, 4)]"
      ]
     },
     "execution_count": 244,
     "metadata": {},
     "output_type": "execute_result"
    }
   ],
   "source": [
    "# Get embedding sizes and compare to original size\n",
    "emb_szs = [(size, min(50, (size+1)//2)) for size in cat_szs] # divide the number of entries by 2 to a max of 50\n",
    "emb_szs"
   ]
  },
  {
   "cell_type": "markdown",
   "id": "5262e5cb",
   "metadata": {},
   "source": [
    "### Tabular Model for categorical and continuous variables"
   ]
  },
  {
   "cell_type": "code",
   "execution_count": 245,
   "id": "736e0049",
   "metadata": {},
   "outputs": [
    {
     "data": {
      "text/plain": [
       "tensor([[ 4,  0,  1],\n",
       "        [11,  0,  2],\n",
       "        [ 7,  0,  2],\n",
       "        [17,  1,  3]])"
      ]
     },
     "execution_count": 245,
     "metadata": {},
     "output_type": "execute_result"
    }
   ],
   "source": [
    "# Show the first few lines for the combined category tensor\n",
    "cat_s = cats[:4]\n",
    "cat_s"
   ]
  },
  {
   "cell_type": "code",
   "execution_count": 246,
   "id": "8f434a04",
   "metadata": {},
   "outputs": [
    {
     "data": {
      "text/plain": [
       "ModuleList(\n",
       "  (0): Embedding(24, 12)\n",
       "  (1): Embedding(2, 1)\n",
       "  (2): Embedding(7, 4)\n",
       ")"
      ]
     },
     "execution_count": 246,
     "metadata": {},
     "output_type": "execute_result"
    }
   ],
   "source": [
    "# Create a list of the embeddings\n",
    "selfembeds = nn.ModuleList([nn.Embedding(ni, nf) for ni,nf in emb_szs])\n",
    "selfembeds"
   ]
  },
  {
   "cell_type": "code",
   "execution_count": 247,
   "id": "b3282795",
   "metadata": {},
   "outputs": [
    {
     "data": {
      "text/plain": [
       "[(0, Embedding(24, 12)), (1, Embedding(2, 1)), (2, Embedding(7, 4))]"
      ]
     },
     "execution_count": 247,
     "metadata": {},
     "output_type": "execute_result"
    }
   ],
   "source": [
    "# Show the number and embedding tuple\n",
    "list(enumerate(selfembeds))"
   ]
  },
  {
   "cell_type": "code",
   "execution_count": 248,
   "id": "2b3bd9b6",
   "metadata": {},
   "outputs": [
    {
     "data": {
      "text/plain": [
       "[tensor([[-2.1542,  0.4625, -0.5621,  0.0071, -0.5269,  1.5625, -0.0076, -2.0026,\n",
       "          -1.0037, -0.2262, -1.0735,  0.1780],\n",
       "         [ 1.5201, -0.7800, -0.4537, -0.2299, -0.3341, -0.0109, -0.3055, -0.6463,\n",
       "          -0.0596, -0.2988, -0.0036, -2.1355],\n",
       "         [-0.8487,  0.5008, -0.1591,  0.5427,  0.2948, -2.3019,  1.0795,  1.1491,\n",
       "          -0.6258, -0.6934,  0.4639,  0.7618],\n",
       "         [-0.1616, -1.3367,  0.9629,  0.5754, -0.7234,  1.7538, -0.1694, -0.3735,\n",
       "          -0.3570,  0.1229, -0.2899,  0.6967]], grad_fn=<EmbeddingBackward0>),\n",
       " tensor([[-0.5767],\n",
       "         [-0.5767],\n",
       "         [-0.5767],\n",
       "         [ 0.1685]], grad_fn=<EmbeddingBackward0>),\n",
       " tensor([[-0.7358,  0.6393,  0.4692,  0.1078],\n",
       "         [-0.6573, -1.2984, -1.0163, -1.3583],\n",
       "         [-0.6573, -1.2984, -1.0163, -1.3583],\n",
       "         [-0.5922, -0.8466, -0.2559,  0.7167]], grad_fn=<EmbeddingBackward0>)]"
      ]
     },
     "execution_count": 248,
     "metadata": {},
     "output_type": "execute_result"
    }
   ],
   "source": [
    "# Show the forward pass using the sample of cats and show the embeddings\n",
    "embedding_s = []\n",
    "for i,e in enumerate(selfembeds):\n",
    "    embedding_s.append(e(cat_s[:,i]))\n",
    "embedding_s # the first embedding has 12 values, second has 1 and third has 4 for each of the records"
   ]
  },
  {
   "cell_type": "code",
   "execution_count": 249,
   "id": "cdc81a33",
   "metadata": {},
   "outputs": [
    {
     "data": {
      "text/plain": [
       "tensor([[-0.7358,  0.6393,  0.4692,  0.1078],\n",
       "        [-0.6573, -1.2984, -1.0163, -1.3583],\n",
       "        [-0.6573, -1.2984, -1.0163, -1.3583],\n",
       "        [-0.5922, -0.8466, -0.2559,  0.7167]], grad_fn=<EmbeddingBackward0>)"
      ]
     },
     "execution_count": 249,
     "metadata": {},
     "output_type": "execute_result"
    }
   ],
   "source": [
    "# The third embedding has four values as per emb_szs\n",
    "embedding_s[2]"
   ]
  },
  {
   "cell_type": "code",
   "execution_count": 250,
   "id": "32ad8e3f",
   "metadata": {},
   "outputs": [
    {
     "data": {
      "text/plain": [
       "tensor([[-2.1542,  0.4625, -0.5621,  0.0071, -0.5269,  1.5625, -0.0076, -2.0026,\n",
       "         -1.0037, -0.2262, -1.0735,  0.1780, -0.5767, -0.7358,  0.6393,  0.4692,\n",
       "          0.1078],\n",
       "        [ 1.5201, -0.7800, -0.4537, -0.2299, -0.3341, -0.0109, -0.3055, -0.6463,\n",
       "         -0.0596, -0.2988, -0.0036, -2.1355, -0.5767, -0.6573, -1.2984, -1.0163,\n",
       "         -1.3583],\n",
       "        [-0.8487,  0.5008, -0.1591,  0.5427,  0.2948, -2.3019,  1.0795,  1.1491,\n",
       "         -0.6258, -0.6934,  0.4639,  0.7618, -0.5767, -0.6573, -1.2984, -1.0163,\n",
       "         -1.3583],\n",
       "        [-0.1616, -1.3367,  0.9629,  0.5754, -0.7234,  1.7538, -0.1694, -0.3735,\n",
       "         -0.3570,  0.1229, -0.2899,  0.6967,  0.1685, -0.5922, -0.8466, -0.2559,\n",
       "          0.7167]], grad_fn=<CatBackward0>)"
      ]
     },
     "execution_count": 250,
     "metadata": {},
     "output_type": "execute_result"
    }
   ],
   "source": [
    "# Concat the embeddings into one tensor embedding with 17 values\n",
    "comb = torch.cat(embedding_s, 1)\n",
    "comb"
   ]
  },
  {
   "cell_type": "code",
   "execution_count": 251,
   "id": "c47f197f",
   "metadata": {},
   "outputs": [
    {
     "data": {
      "text/plain": [
       "tensor([ 1.5201, -0.7800, -0.4537, -0.2299, -0.3341, -0.0109, -0.3055, -0.6463,\n",
       "        -0.0596, -0.2988, -0.0036, -2.1355, -0.5767, -0.6573, -1.2984, -1.0163,\n",
       "        -1.3583], grad_fn=<SelectBackward0>)"
      ]
     },
     "execution_count": 251,
     "metadata": {},
     "output_type": "execute_result"
    }
   ],
   "source": [
    "# Check example\n",
    "comb[1]"
   ]
  },
  {
   "cell_type": "code",
   "execution_count": 252,
   "id": "15dca6a7",
   "metadata": {},
   "outputs": [
    {
     "data": {
      "text/plain": [
       "tensor([[-0.0000,  0.7708, -0.0000,  0.0119, -0.8782,  2.6042, -0.0000, -3.3376,\n",
       "         -0.0000, -0.3769, -0.0000,  0.0000, -0.9612, -1.2263,  0.0000,  0.7820,\n",
       "          0.1796],\n",
       "        [ 0.0000, -0.0000, -0.7562, -0.3831, -0.0000, -0.0182, -0.0000, -1.0772,\n",
       "         -0.0993, -0.0000, -0.0060, -0.0000, -0.0000, -1.0955, -0.0000, -0.0000,\n",
       "         -0.0000],\n",
       "        [-0.0000,  0.0000, -0.2652,  0.9044,  0.0000, -0.0000,  1.7992,  1.9152,\n",
       "         -0.0000, -1.1557,  0.0000,  1.2697, -0.9612, -0.0000, -2.1640, -1.6939,\n",
       "         -0.0000],\n",
       "        [-0.0000, -2.2278,  1.6048,  0.9590, -1.2056,  0.0000, -0.2823, -0.6226,\n",
       "         -0.5950,  0.0000, -0.4832,  1.1612,  0.2809, -0.9870, -0.0000, -0.4266,\n",
       "          1.1944]], grad_fn=<MulBackward0>)"
      ]
     },
     "execution_count": 252,
     "metadata": {},
     "output_type": "execute_result"
    }
   ],
   "source": [
    "# Now pass through a dropout layer to get the assigned values (randomly zeros some of the elements of the tensor -\n",
    "# 40% neurons switched off)\n",
    "selfembdrop = nn.Dropout(.4)\n",
    "comb = selfembdrop(comb)\n",
    "comb "
   ]
  },
  {
   "cell_type": "code",
   "execution_count": 253,
   "id": "3b5d7950",
   "metadata": {},
   "outputs": [
    {
     "data": {
      "text/plain": [
       "tensor([ 0.0000, -0.0000, -0.7562, -0.3831, -0.0000, -0.0182, -0.0000, -1.0772,\n",
       "        -0.0993, -0.0000, -0.0060, -0.0000, -0.0000, -1.0955, -0.0000, -0.0000,\n",
       "        -0.0000], grad_fn=<SelectBackward0>)"
      ]
     },
     "execution_count": 253,
     "metadata": {},
     "output_type": "execute_result"
    }
   ],
   "source": [
    "# Look at example - note some values are zeroed\n",
    "comb[1]"
   ]
  },
  {
   "cell_type": "markdown",
   "id": "d1b19fd4",
   "metadata": {},
   "source": [
    "### Create the full model"
   ]
  },
  {
   "cell_type": "code",
   "execution_count": 254,
   "id": "66a78183",
   "metadata": {},
   "outputs": [],
   "source": [
    "class TabularModel(nn.Module):\n",
    "\n",
    "    def __init__(self, emb_szs, n_cont, out_sz, layers, p=0.5): # input embedding sizes, number of features, output and droput prob\n",
    "        super().__init__()                                      # instantiate inherited class\n",
    "        self.embeds = nn.ModuleList([nn.Embedding(ni, nf) for ni,nf in emb_szs]) # create the embeddings\n",
    "        self.emb_drop = nn.Dropout(p)                                            # apply dropout\n",
    "        self.bn_cont = nn.BatchNorm1d(n_cont)                                    # normalize data function\n",
    "        \n",
    "        layerlist = []   \n",
    "        n_emb = sum((nf for ni,nf in emb_szs))   # get total number of embeddings\n",
    "        n_in = n_emb + n_cont                    # total number of embeddings and the number of continuous features\n",
    "        \n",
    "        for i in layers:\n",
    "            layerlist.append(nn.Linear(n_in,i))  # set up layers - linear layer with n number of inputs\n",
    "            layerlist.append(nn.ReLU(inplace=True))  # add the activation function RELU\n",
    "            layerlist.append(nn.BatchNorm1d(i))      # append the normalisation process\n",
    "            layerlist.append(nn.Dropout(p))          # append a dropout\n",
    "            n_in = i                                 \n",
    "        layerlist.append(nn.Linear(layers[-1],out_sz))  \n",
    "            \n",
    "        self.layers = nn.Sequential(*layerlist) # combine the layers here\n",
    "    \n",
    "    def forward(self, x_cat, x_cont): # process embeddings and normalize continous. \n",
    "        embeddings = []\n",
    "        for i,e in enumerate(self.embeds): \n",
    "            embeddings.append(e(x_cat[:,i]))\n",
    "        x = torch.cat(embeddings, 1)   \n",
    "        x = self.emb_drop(x)           # apply dropout\n",
    "        \n",
    "        x_cont = self.bn_cont(x_cont)\n",
    "        x = torch.cat([x, x_cont], 1)\n",
    "        x = self.layers(x)\n",
    "        return x"
   ]
  },
  {
   "cell_type": "code",
   "execution_count": 255,
   "id": "87af33c5",
   "metadata": {},
   "outputs": [],
   "source": [
    "# input the embedding sizes, num of continuous variables, neurons in each layer and the dropout \n",
    "torch.manual_seed(33)\n",
    "model = TabularModel(emb_szs, conts.shape[1], 1, [200,100], p=0.4) "
   ]
  },
  {
   "cell_type": "code",
   "execution_count": 256,
   "id": "5d823eea",
   "metadata": {},
   "outputs": [
    {
     "data": {
      "text/plain": [
       "TabularModel(\n",
       "  (embeds): ModuleList(\n",
       "    (0): Embedding(24, 12)\n",
       "    (1): Embedding(2, 1)\n",
       "    (2): Embedding(7, 4)\n",
       "  )\n",
       "  (emb_drop): Dropout(p=0.4, inplace=False)\n",
       "  (bn_cont): BatchNorm1d(6, eps=1e-05, momentum=0.1, affine=True, track_running_stats=True)\n",
       "  (layers): Sequential(\n",
       "    (0): Linear(in_features=23, out_features=200, bias=True)\n",
       "    (1): ReLU(inplace=True)\n",
       "    (2): BatchNorm1d(200, eps=1e-05, momentum=0.1, affine=True, track_running_stats=True)\n",
       "    (3): Dropout(p=0.4, inplace=False)\n",
       "    (4): Linear(in_features=200, out_features=100, bias=True)\n",
       "    (5): ReLU(inplace=True)\n",
       "    (6): BatchNorm1d(100, eps=1e-05, momentum=0.1, affine=True, track_running_stats=True)\n",
       "    (7): Dropout(p=0.4, inplace=False)\n",
       "    (8): Linear(in_features=100, out_features=1, bias=True)\n",
       "  )\n",
       ")"
      ]
     },
     "execution_count": 256,
     "metadata": {},
     "output_type": "execute_result"
    }
   ],
   "source": [
    "model"
   ]
  },
  {
   "cell_type": "markdown",
   "id": "00fa7211",
   "metadata": {},
   "source": [
    "### Loss function and optimizer"
   ]
  },
  {
   "cell_type": "code",
   "execution_count": 257,
   "id": "ed259130",
   "metadata": {},
   "outputs": [],
   "source": [
    "criterion = nn.MSELoss()  # mean-squared loss \n",
    "optimizer = torch.optim.Adam(model.parameters(), lr=0.001) #optimizer Adam and learning rate"
   ]
  },
  {
   "cell_type": "code",
   "execution_count": 258,
   "id": "a7fe4211",
   "metadata": {},
   "outputs": [],
   "source": [
    "# Set batch size and train test seizes\n",
    "batch_size = 60000 # two batches of 60000 = 120000 total\n",
    "test_size = int(batch_size * .2) \n",
    "\n",
    "cat_train = cats[:batch_size-test_size] # split the categorical and continuous training and tests as they are separate\n",
    "cat_test = cats[batch_size-test_size:batch_size]\n",
    "con_train = conts[:batch_size-test_size]\n",
    "con_test = conts[batch_size-test_size:batch_size]\n",
    "y_train = y[:batch_size-test_size]\n",
    "y_test = y[batch_size-test_size:batch_size]"
   ]
  },
  {
   "cell_type": "code",
   "execution_count": 259,
   "id": "1f0726b6",
   "metadata": {},
   "outputs": [
    {
     "name": "stdout",
     "output_type": "stream",
     "text": [
      "48000 12000 48000 12000\n"
     ]
    }
   ],
   "source": [
    "print(len(cat_train),len(cat_test), len(y_train), len(y_test))"
   ]
  },
  {
   "cell_type": "markdown",
   "id": "61207505",
   "metadata": {},
   "source": [
    "### Train the model"
   ]
  },
  {
   "cell_type": "code",
   "execution_count": 260,
   "id": "2ebcc93e",
   "metadata": {},
   "outputs": [
    {
     "name": "stdout",
     "output_type": "stream",
     "text": [
      "epoch:   1  loss: 12.57388973\n",
      "epoch:  26  loss: 11.04904270\n",
      "epoch:  51  loss: 10.38323307\n",
      "epoch:  76  loss: 9.84527588\n",
      "epoch: 101  loss: 9.20498657\n",
      "epoch: 126  loss: 8.37561798\n",
      "epoch: 151  loss: 7.31317806\n",
      "epoch: 176  loss: 6.12122822\n",
      "epoch: 201  loss: 4.94194603\n",
      "epoch: 226  loss: 4.16422510\n",
      "epoch: 251  loss: 3.85492158\n",
      "epoch: 276  loss: 3.74076605\n",
      "epoch: 300  loss: 3.70495343\n",
      "\n",
      "Duration: 44 seconds\n"
     ]
    }
   ],
   "source": [
    "import time\n",
    "start_time = time.time()\n",
    "\n",
    "epochs = 300\n",
    "losses = []\n",
    "\n",
    "for i in range(epochs):\n",
    "    i+=1\n",
    "    y_pred = model(cat_train, con_train)\n",
    "    loss = torch.sqrt(criterion(y_pred, y_train)) # RMSE\n",
    "    losses.append(loss.item())\n",
    "    \n",
    "    # report results every 25 epochs\n",
    "    if i%25 == 1:\n",
    "        print(f'epoch: {i:3}  loss: {loss.item():10.8f}')\n",
    "\n",
    "    optimizer.zero_grad()\n",
    "    loss.backward()\n",
    "    optimizer.step()\n",
    "\n",
    "print(f'epoch: {i:3}  loss: {loss.item():10.8f}') # print the last line\n",
    "print(f'\\nDuration: {time.time() - start_time:.0f} seconds') # print the time elapsed"
   ]
  },
  {
   "cell_type": "code",
   "execution_count": 261,
   "id": "2f71118d",
   "metadata": {},
   "outputs": [
    {
     "data": {
      "image/png": "[encoded data removed]",
      "text/plain": [
       "<Figure size 432x288 with 1 Axes>"
      ]
     },
     "metadata": {
      "needs_background": "light"
     },
     "output_type": "display_data"
    }
   ],
   "source": [
    "plt.plot(range(epochs), losses)\n",
    "plt.ylabel('RMSE Loss')\n",
    "plt.xlabel('epoch');"
   ]
  },
  {
   "cell_type": "code",
   "execution_count": 262,
   "id": "e1b16e69",
   "metadata": {},
   "outputs": [
    {
     "name": "stdout",
     "output_type": "stream",
     "text": [
      "RMSE: 3.63235283\n"
     ]
    }
   ],
   "source": [
    "# TO EVALUATE THE ENTIRE TEST SET\n",
    "with torch.no_grad():\n",
    "    y_val = model(cat_test, con_test)\n",
    "    loss = torch.sqrt(criterion(y_val, y_test))\n",
    "print(f'RMSE: {loss:.8f}')"
   ]
  },
  {
   "cell_type": "code",
   "execution_count": 263,
   "id": "59b6fc1a",
   "metadata": {},
   "outputs": [
    {
     "name": "stdout",
     "output_type": "stream",
     "text": [
      "   PREDICTED   ACTUAL     DIFF\n",
      " 1.     4.37     2.90     1.47\n",
      " 2.    14.28     5.70     8.58\n",
      " 3.     6.08     7.70     1.62\n",
      " 4.    16.08    12.50     3.58\n",
      " 5.     6.33     4.10     2.23\n",
      " 6.     5.02     5.30     0.28\n",
      " 7.     3.35     3.70     0.35\n",
      " 8.    20.58    14.50     6.08\n",
      " 9.     8.52     5.70     2.82\n",
      "10.    12.93    10.10     2.83\n",
      "11.     8.08     4.50     3.58\n",
      "12.     2.94     6.10     3.16\n",
      "13.     6.58     6.90     0.32\n",
      "14.     8.76    14.10     5.34\n",
      "15.     4.88     4.50     0.38\n",
      "16.    29.19    34.10     4.91\n",
      "17.     3.23    12.50     9.27\n",
      "18.     5.80     4.10     1.70\n",
      "19.     8.08     8.50     0.42\n",
      "20.     6.62     5.30     1.32\n",
      "21.    13.44    11.30     2.14\n",
      "22.    11.36    10.50     0.86\n",
      "23.    15.38    15.30     0.08\n",
      "24.    16.51    14.90     1.61\n",
      "25.    48.54    49.57     1.03\n",
      "26.     1.62     5.30     3.68\n",
      "27.     4.63     3.70     0.93\n",
      "28.     5.28     6.50     1.22\n",
      "29.    13.47    14.10     0.63\n",
      "30.     5.66     4.90     0.76\n",
      "31.     3.83     3.70     0.13\n",
      "32.    39.89    38.67     1.22\n",
      "33.    15.89    12.50     3.39\n",
      "34.    19.24    16.50     2.74\n",
      "35.     4.50     5.70     1.20\n",
      "36.     8.87     8.90     0.03\n",
      "37.    18.83    22.10     3.27\n",
      "38.     8.98    12.10     3.12\n",
      "39.     9.82    10.10     0.28\n",
      "40.     4.48     3.30     1.18\n",
      "41.    11.45     8.50     2.95\n",
      "42.     6.86     8.10     1.24\n",
      "43.    10.14    14.50     4.36\n",
      "44.     5.69     4.90     0.79\n",
      "45.     5.29     8.50     3.21\n",
      "46.    13.02    12.10     0.92\n",
      "47.    24.07    23.70     0.37\n",
      "48.     3.83     3.70     0.13\n",
      "49.     8.42     9.30     0.88\n",
      "50.     8.43     8.10     0.33\n"
     ]
    }
   ],
   "source": [
    "print(f'{\"PREDICTED\":>12} {\"ACTUAL\":>8} {\"DIFF\":>8}')\n",
    "for i in range(50):\n",
    "    diff = np.abs(y_val[i].item()-y_test[i].item())\n",
    "    print(f'{i+1:2}. {y_val[i].item():8.2f} {y_test[i].item():8.2f} {diff:8.2f}')"
   ]
  },
  {
   "cell_type": "markdown",
   "id": "65fd7e1e",
   "metadata": {},
   "source": [
    "Model analysis - the model performed fairly well on many of the test data items but in some cases the prediction was very different from the actual fare. There may be many reasons for this so further work would be needed to refine the model to see if the predictions could be improved."
   ]
  }
 ],
 "metadata": {
  "kernelspec": {
   "display_name": "Python 3 (ipykernel)",
   "language": "python",
   "name": "python3"
  },
  "language_info": {
   "codemirror_mode": {
    "name": "ipython",
    "version": 3
   },
   "file_extension": ".py",
   "mimetype": "text/x-python",
   "name": "python",
   "nbconvert_exporter": "python",
   "pygments_lexer": "ipython3",
   "version": "3.8.12"
  }
 },
 "nbformat": 4,
 "nbformat_minor": 5
}
