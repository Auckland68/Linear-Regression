{
 "cells": [
  {
   "cell_type": "markdown",
   "id": "e5fd5cae",
   "metadata": {},
   "source": [
    "# Analysis of World Economic Indicators - Corruption Index\n",
    "\n",
    "[Data Source: World Country Data](https://www.kaggle.com/datasets/madhurpant/world-economic-data?resource=download)"
   ]
  },
  {
   "cell_type": "markdown",
   "id": "a7e5aa22",
   "metadata": {},
   "source": [
    "This explores the world country data available from Kaggle on the link. Each of the datasets are explored including:\n",
    "\n",
    "- corruption\n",
    "- unemployment\n",
    "- cost of living\n",
    "- richest countries\n",
    "- tourism\n",
    "\n",
    "This notebook focusses on the corruption index and builds a linear regression model to predict the index based on a country's annual income"
   ]
  },
  {
   "cell_type": "code",
   "execution_count": 240,
   "id": "edcdf327",
   "metadata": {},
   "outputs": [],
   "source": [
    "# Import libraries\n",
    "import pandas as pd\n",
    "import numpy as np\n",
    "import matplotlib.pyplot as plt\n",
    "import seaborn as sns\n",
    "plt.style.use('ggplot')\n",
    "import scipy as sp\n",
    "\n",
    "from sklearn.model_selection import train_test_split\n",
    "from sklearn.linear_model import LinearRegression\n",
    "from sklearn.metrics import r2_score, mean_absolute_error, mean_squared_error"
   ]
  },
  {
   "cell_type": "code",
   "execution_count": 342,
   "id": "ddd3ce27",
   "metadata": {},
   "outputs": [],
   "source": [
    "# Import data\n",
    "cor = pd.read_csv('C:/Users/imoge/Downloads/archive/corruption.csv')\n",
    "#un = pd.read_csv('C:/Users/imoge/Downloads/archive/unemployment.csv')\n",
    "#cost = pd.read_csv('C:/Users/imoge/Downloads/archive/cost_of_living.csv')\n",
    "#rich = pd.read_csv('C:/Users/imoge/Downloads/archive/richest_countries.csv')\n",
    "#tour = pd.read_csv('C:/Users/imoge/Downloads/archive/tourism.csv')"
   ]
  },
  {
   "cell_type": "code",
   "execution_count": 113,
   "id": "01fb0a36",
   "metadata": {},
   "outputs": [
    {
     "name": "stdout",
     "output_type": "stream",
     "text": [
      "(110, 3) (64, 2) (107, 4) (50, 2) (41, 5)\n"
     ]
    }
   ],
   "source": [
    "# Shape of dataframes\n",
    "print(cor.shape, un.shape, cost.shape, rich.shape, tour.shape)"
   ]
  },
  {
   "cell_type": "code",
   "execution_count": 114,
   "id": "29f9a908",
   "metadata": {},
   "outputs": [
    {
     "data": {
      "text/html": [
       "<div>\n",
       "<style scoped>\n",
       "    .dataframe tbody tr th:only-of-type {\n",
       "        vertical-align: middle;\n",
       "    }\n",
       "\n",
       "    .dataframe tbody tr th {\n",
       "        vertical-align: top;\n",
       "    }\n",
       "\n",
       "    .dataframe thead th {\n",
       "        text-align: right;\n",
       "    }\n",
       "</style>\n",
       "<table border=\"1\" class=\"dataframe\">\n",
       "  <thead>\n",
       "    <tr style=\"text-align: right;\">\n",
       "      <th></th>\n",
       "      <th>country</th>\n",
       "      <th>unemployment_rate</th>\n",
       "    </tr>\n",
       "  </thead>\n",
       "  <tbody>\n",
       "    <tr>\n",
       "      <th>0</th>\n",
       "      <td>Marshall Islands</td>\n",
       "      <td>36.0</td>\n",
       "    </tr>\n",
       "    <tr>\n",
       "      <th>1</th>\n",
       "      <td>South Africa</td>\n",
       "      <td>33.6</td>\n",
       "    </tr>\n",
       "    <tr>\n",
       "      <th>2</th>\n",
       "      <td>Kiribati</td>\n",
       "      <td>30.6</td>\n",
       "    </tr>\n",
       "    <tr>\n",
       "      <th>3</th>\n",
       "      <td>Kosovo</td>\n",
       "      <td>30.5</td>\n",
       "    </tr>\n",
       "    <tr>\n",
       "      <th>4</th>\n",
       "      <td>American Samoa</td>\n",
       "      <td>29.8</td>\n",
       "    </tr>\n",
       "  </tbody>\n",
       "</table>\n",
       "</div>"
      ],
      "text/plain": [
       "            country  unemployment_rate\n",
       "0  Marshall Islands               36.0\n",
       "1      South Africa               33.6\n",
       "2          Kiribati               30.6\n",
       "3            Kosovo               30.5\n",
       "4    American Samoa               29.8"
      ]
     },
     "execution_count": 114,
     "metadata": {},
     "output_type": "execute_result"
    }
   ],
   "source": [
    "un.head()"
   ]
  },
  {
   "cell_type": "code",
   "execution_count": 115,
   "id": "52b8efbc",
   "metadata": {},
   "outputs": [
    {
     "data": {
      "text/html": [
       "<div>\n",
       "<style scoped>\n",
       "    .dataframe tbody tr th:only-of-type {\n",
       "        vertical-align: middle;\n",
       "    }\n",
       "\n",
       "    .dataframe tbody tr th {\n",
       "        vertical-align: top;\n",
       "    }\n",
       "\n",
       "    .dataframe thead th {\n",
       "        text-align: right;\n",
       "    }\n",
       "</style>\n",
       "<table border=\"1\" class=\"dataframe\">\n",
       "  <thead>\n",
       "    <tr style=\"text-align: right;\">\n",
       "      <th></th>\n",
       "      <th>country</th>\n",
       "      <th>cost_index</th>\n",
       "      <th>monthly_income</th>\n",
       "      <th>purchasing_power_index</th>\n",
       "    </tr>\n",
       "  </thead>\n",
       "  <tbody>\n",
       "    <tr>\n",
       "      <th>0</th>\n",
       "      <td>Bermuda</td>\n",
       "      <td>157.6</td>\n",
       "      <td>9712</td>\n",
       "      <td>105.0</td>\n",
       "    </tr>\n",
       "    <tr>\n",
       "      <th>1</th>\n",
       "      <td>Switzerland</td>\n",
       "      <td>142.4</td>\n",
       "      <td>7530</td>\n",
       "      <td>90.1</td>\n",
       "    </tr>\n",
       "    <tr>\n",
       "      <th>2</th>\n",
       "      <td>Cayman Islands</td>\n",
       "      <td>137.9</td>\n",
       "      <td>5281</td>\n",
       "      <td>65.2</td>\n",
       "    </tr>\n",
       "    <tr>\n",
       "      <th>3</th>\n",
       "      <td>Israel</td>\n",
       "      <td>130.2</td>\n",
       "      <td>4130</td>\n",
       "      <td>54.1</td>\n",
       "    </tr>\n",
       "    <tr>\n",
       "      <th>4</th>\n",
       "      <td>Iceland</td>\n",
       "      <td>128.0</td>\n",
       "      <td>5368</td>\n",
       "      <td>71.5</td>\n",
       "    </tr>\n",
       "  </tbody>\n",
       "</table>\n",
       "</div>"
      ],
      "text/plain": [
       "          country  cost_index  monthly_income  purchasing_power_index\n",
       "0         Bermuda       157.6            9712                   105.0\n",
       "1     Switzerland       142.4            7530                    90.1\n",
       "2  Cayman Islands       137.9            5281                    65.2\n",
       "3          Israel       130.2            4130                    54.1\n",
       "4         Iceland       128.0            5368                    71.5"
      ]
     },
     "execution_count": 115,
     "metadata": {},
     "output_type": "execute_result"
    }
   ],
   "source": [
    "cost.head()"
   ]
  },
  {
   "cell_type": "code",
   "execution_count": 116,
   "id": "6ce05f24",
   "metadata": {},
   "outputs": [
    {
     "data": {
      "text/html": [
       "<div>\n",
       "<style scoped>\n",
       "    .dataframe tbody tr th:only-of-type {\n",
       "        vertical-align: middle;\n",
       "    }\n",
       "\n",
       "    .dataframe tbody tr th {\n",
       "        vertical-align: top;\n",
       "    }\n",
       "\n",
       "    .dataframe thead th {\n",
       "        text-align: right;\n",
       "    }\n",
       "</style>\n",
       "<table border=\"1\" class=\"dataframe\">\n",
       "  <thead>\n",
       "    <tr style=\"text-align: right;\">\n",
       "      <th></th>\n",
       "      <th>country</th>\n",
       "      <th>gdp_per_capita</th>\n",
       "    </tr>\n",
       "  </thead>\n",
       "  <tbody>\n",
       "    <tr>\n",
       "      <th>0</th>\n",
       "      <td>Luxembourg</td>\n",
       "      <td>134754</td>\n",
       "    </tr>\n",
       "    <tr>\n",
       "      <th>1</th>\n",
       "      <td>Singapore</td>\n",
       "      <td>116486</td>\n",
       "    </tr>\n",
       "    <tr>\n",
       "      <th>2</th>\n",
       "      <td>Ireland</td>\n",
       "      <td>106456</td>\n",
       "    </tr>\n",
       "    <tr>\n",
       "      <th>3</th>\n",
       "      <td>Qatar</td>\n",
       "      <td>93521</td>\n",
       "    </tr>\n",
       "    <tr>\n",
       "      <th>4</th>\n",
       "      <td>Bermuda</td>\n",
       "      <td>85192</td>\n",
       "    </tr>\n",
       "  </tbody>\n",
       "</table>\n",
       "</div>"
      ],
      "text/plain": [
       "      country  gdp_per_capita\n",
       "0  Luxembourg          134754\n",
       "1   Singapore          116486\n",
       "2     Ireland          106456\n",
       "3       Qatar           93521\n",
       "4     Bermuda           85192"
      ]
     },
     "execution_count": 116,
     "metadata": {},
     "output_type": "execute_result"
    }
   ],
   "source": [
    "rich.head()"
   ]
  },
  {
   "cell_type": "code",
   "execution_count": 117,
   "id": "20923ba0",
   "metadata": {},
   "outputs": [
    {
     "data": {
      "text/html": [
       "<div>\n",
       "<style scoped>\n",
       "    .dataframe tbody tr th:only-of-type {\n",
       "        vertical-align: middle;\n",
       "    }\n",
       "\n",
       "    .dataframe tbody tr th {\n",
       "        vertical-align: top;\n",
       "    }\n",
       "\n",
       "    .dataframe thead th {\n",
       "        text-align: right;\n",
       "    }\n",
       "</style>\n",
       "<table border=\"1\" class=\"dataframe\">\n",
       "  <thead>\n",
       "    <tr style=\"text-align: right;\">\n",
       "      <th></th>\n",
       "      <th>country</th>\n",
       "      <th>tourists_in_millions</th>\n",
       "      <th>receipts_in_billions</th>\n",
       "      <th>receipts_per_tourist</th>\n",
       "      <th>percentage_of_gdp</th>\n",
       "    </tr>\n",
       "  </thead>\n",
       "  <tbody>\n",
       "    <tr>\n",
       "      <th>0</th>\n",
       "      <td>France</td>\n",
       "      <td>117.1</td>\n",
       "      <td>35.96</td>\n",
       "      <td>307</td>\n",
       "      <td>1.2</td>\n",
       "    </tr>\n",
       "    <tr>\n",
       "      <th>1</th>\n",
       "      <td>Mexico</td>\n",
       "      <td>51.1</td>\n",
       "      <td>11.45</td>\n",
       "      <td>224</td>\n",
       "      <td>0.9</td>\n",
       "    </tr>\n",
       "    <tr>\n",
       "      <th>2</th>\n",
       "      <td>United States</td>\n",
       "      <td>45.0</td>\n",
       "      <td>84.21</td>\n",
       "      <td>1870</td>\n",
       "      <td>0.4</td>\n",
       "    </tr>\n",
       "    <tr>\n",
       "      <th>3</th>\n",
       "      <td>Italy</td>\n",
       "      <td>38.4</td>\n",
       "      <td>20.46</td>\n",
       "      <td>533</td>\n",
       "      <td>1.0</td>\n",
       "    </tr>\n",
       "    <tr>\n",
       "      <th>4</th>\n",
       "      <td>Hungary</td>\n",
       "      <td>31.6</td>\n",
       "      <td>4.22</td>\n",
       "      <td>133</td>\n",
       "      <td>2.3</td>\n",
       "    </tr>\n",
       "  </tbody>\n",
       "</table>\n",
       "</div>"
      ],
      "text/plain": [
       "         country  tourists_in_millions  receipts_in_billions  \\\n",
       "0         France                 117.1                 35.96   \n",
       "1         Mexico                  51.1                 11.45   \n",
       "2  United States                  45.0                 84.21   \n",
       "3          Italy                  38.4                 20.46   \n",
       "4        Hungary                  31.6                  4.22   \n",
       "\n",
       "   receipts_per_tourist  percentage_of_gdp  \n",
       "0                   307                1.2  \n",
       "1                   224                0.9  \n",
       "2                  1870                0.4  \n",
       "3                   533                1.0  \n",
       "4                   133                2.3  "
      ]
     },
     "execution_count": 117,
     "metadata": {},
     "output_type": "execute_result"
    }
   ],
   "source": [
    "tour.head()"
   ]
  },
  {
   "cell_type": "markdown",
   "id": "26fbcb58",
   "metadata": {},
   "source": [
    "# A) Corruption Index and Annual Income"
   ]
  },
  {
   "cell_type": "code",
   "execution_count": 118,
   "id": "e9c9cfc1",
   "metadata": {},
   "outputs": [
    {
     "data": {
      "text/html": [
       "<div>\n",
       "<style scoped>\n",
       "    .dataframe tbody tr th:only-of-type {\n",
       "        vertical-align: middle;\n",
       "    }\n",
       "\n",
       "    .dataframe tbody tr th {\n",
       "        vertical-align: top;\n",
       "    }\n",
       "\n",
       "    .dataframe thead th {\n",
       "        text-align: right;\n",
       "    }\n",
       "</style>\n",
       "<table border=\"1\" class=\"dataframe\">\n",
       "  <thead>\n",
       "    <tr style=\"text-align: right;\">\n",
       "      <th></th>\n",
       "      <th>country</th>\n",
       "      <th>annual_income</th>\n",
       "      <th>corruption_index</th>\n",
       "    </tr>\n",
       "  </thead>\n",
       "  <tbody>\n",
       "    <tr>\n",
       "      <th>0</th>\n",
       "      <td>Denmark</td>\n",
       "      <td>68110</td>\n",
       "      <td>12</td>\n",
       "    </tr>\n",
       "    <tr>\n",
       "      <th>1</th>\n",
       "      <td>Finland</td>\n",
       "      <td>53660</td>\n",
       "      <td>12</td>\n",
       "    </tr>\n",
       "    <tr>\n",
       "      <th>2</th>\n",
       "      <td>New Zealand</td>\n",
       "      <td>45340</td>\n",
       "      <td>12</td>\n",
       "    </tr>\n",
       "    <tr>\n",
       "      <th>3</th>\n",
       "      <td>Norway</td>\n",
       "      <td>84090</td>\n",
       "      <td>15</td>\n",
       "    </tr>\n",
       "    <tr>\n",
       "      <th>4</th>\n",
       "      <td>Singapore</td>\n",
       "      <td>64010</td>\n",
       "      <td>15</td>\n",
       "    </tr>\n",
       "  </tbody>\n",
       "</table>\n",
       "</div>"
      ],
      "text/plain": [
       "       country  annual_income  corruption_index\n",
       "0      Denmark          68110                12\n",
       "1      Finland          53660                12\n",
       "2  New Zealand          45340                12\n",
       "3       Norway          84090                15\n",
       "4    Singapore          64010                15"
      ]
     },
     "execution_count": 118,
     "metadata": {},
     "output_type": "execute_result"
    }
   ],
   "source": [
    "cor.head()"
   ]
  },
  {
   "cell_type": "markdown",
   "id": "88369189",
   "metadata": {},
   "source": [
    "### Exploratory Data Analysis"
   ]
  },
  {
   "cell_type": "code",
   "execution_count": 119,
   "id": "6bfbf2b5",
   "metadata": {},
   "outputs": [
    {
     "data": {
      "text/html": [
       "<div>\n",
       "<style scoped>\n",
       "    .dataframe tbody tr th:only-of-type {\n",
       "        vertical-align: middle;\n",
       "    }\n",
       "\n",
       "    .dataframe tbody tr th {\n",
       "        vertical-align: top;\n",
       "    }\n",
       "\n",
       "    .dataframe thead th {\n",
       "        text-align: right;\n",
       "    }\n",
       "</style>\n",
       "<table border=\"1\" class=\"dataframe\">\n",
       "  <thead>\n",
       "    <tr style=\"text-align: right;\">\n",
       "      <th></th>\n",
       "      <th>country</th>\n",
       "      <th>annual_income</th>\n",
       "      <th>corruption_index</th>\n",
       "    </tr>\n",
       "  </thead>\n",
       "  <tbody>\n",
       "    <tr>\n",
       "      <th>6</th>\n",
       "      <td>Switzerland</td>\n",
       "      <td>90360</td>\n",
       "      <td>16</td>\n",
       "    </tr>\n",
       "    <tr>\n",
       "      <th>3</th>\n",
       "      <td>Norway</td>\n",
       "      <td>84090</td>\n",
       "      <td>15</td>\n",
       "    </tr>\n",
       "    <tr>\n",
       "      <th>8</th>\n",
       "      <td>Luxembourg</td>\n",
       "      <td>81110</td>\n",
       "      <td>19</td>\n",
       "    </tr>\n",
       "    <tr>\n",
       "      <th>16</th>\n",
       "      <td>Ireland</td>\n",
       "      <td>74520</td>\n",
       "      <td>26</td>\n",
       "    </tr>\n",
       "    <tr>\n",
       "      <th>22</th>\n",
       "      <td>United States</td>\n",
       "      <td>70430</td>\n",
       "      <td>33</td>\n",
       "    </tr>\n",
       "  </tbody>\n",
       "</table>\n",
       "</div>"
      ],
      "text/plain": [
       "          country  annual_income  corruption_index\n",
       "6     Switzerland          90360                16\n",
       "3          Norway          84090                15\n",
       "8      Luxembourg          81110                19\n",
       "16        Ireland          74520                26\n",
       "22  United States          70430                33"
      ]
     },
     "execution_count": 119,
     "metadata": {},
     "output_type": "execute_result"
    }
   ],
   "source": [
    "cor.sort_values(by = 'annual_income', ascending = False).head()"
   ]
  },
  {
   "cell_type": "code",
   "execution_count": 120,
   "id": "69157887",
   "metadata": {},
   "outputs": [
    {
     "data": {
      "text/html": [
       "<div>\n",
       "<style scoped>\n",
       "    .dataframe tbody tr th:only-of-type {\n",
       "        vertical-align: middle;\n",
       "    }\n",
       "\n",
       "    .dataframe tbody tr th {\n",
       "        vertical-align: top;\n",
       "    }\n",
       "\n",
       "    .dataframe thead th {\n",
       "        text-align: right;\n",
       "    }\n",
       "</style>\n",
       "<table border=\"1\" class=\"dataframe\">\n",
       "  <thead>\n",
       "    <tr style=\"text-align: right;\">\n",
       "      <th></th>\n",
       "      <th>country</th>\n",
       "      <th>annual_income</th>\n",
       "      <th>corruption_index</th>\n",
       "    </tr>\n",
       "  </thead>\n",
       "  <tbody>\n",
       "    <tr>\n",
       "      <th>99</th>\n",
       "      <td>Burundi</td>\n",
       "      <td>240</td>\n",
       "      <td>81</td>\n",
       "    </tr>\n",
       "    <tr>\n",
       "      <th>107</th>\n",
       "      <td>Somalia</td>\n",
       "      <td>450</td>\n",
       "      <td>87</td>\n",
       "    </tr>\n",
       "    <tr>\n",
       "      <th>109</th>\n",
       "      <td>South Sudan</td>\n",
       "      <td>460</td>\n",
       "      <td>89</td>\n",
       "    </tr>\n",
       "    <tr>\n",
       "      <th>79</th>\n",
       "      <td>Mozambique</td>\n",
       "      <td>480</td>\n",
       "      <td>74</td>\n",
       "    </tr>\n",
       "    <tr>\n",
       "      <th>78</th>\n",
       "      <td>Madagascar</td>\n",
       "      <td>500</td>\n",
       "      <td>74</td>\n",
       "    </tr>\n",
       "  </tbody>\n",
       "</table>\n",
       "</div>"
      ],
      "text/plain": [
       "         country  annual_income  corruption_index\n",
       "99       Burundi            240                81\n",
       "107      Somalia            450                87\n",
       "109  South Sudan            460                89\n",
       "79    Mozambique            480                74\n",
       "78    Madagascar            500                74"
      ]
     },
     "execution_count": 120,
     "metadata": {},
     "output_type": "execute_result"
    }
   ],
   "source": [
    "cor.sort_values(by = 'annual_income').head()"
   ]
  },
  {
   "cell_type": "markdown",
   "id": "3a2e11c4",
   "metadata": {},
   "source": [
    "* Switzerland has the highest annual income and Burundi the lowest"
   ]
  },
  {
   "cell_type": "code",
   "execution_count": 133,
   "id": "c9747d72",
   "metadata": {},
   "outputs": [
    {
     "data": {
      "image/png": "[encoded data removed]",
      "text/plain": [
       "<Figure size 432x288 with 1 Axes>"
      ]
     },
     "metadata": {},
     "output_type": "display_data"
    }
   ],
   "source": [
    "# Annual income distribution\n",
    "sns.histplot(cor.annual_income, ec = 'k', bins = 10)\n",
    "plt.title(\"Annual Income Distribution\");"
   ]
  },
  {
   "cell_type": "code",
   "execution_count": 122,
   "id": "3fbad688",
   "metadata": {},
   "outputs": [
    {
     "data": {
      "text/plain": [
       "1.4311134518660098"
      ]
     },
     "execution_count": 122,
     "metadata": {},
     "output_type": "execute_result"
    }
   ],
   "source": [
    "cor.annual_income.skew()"
   ]
  },
  {
   "cell_type": "code",
   "execution_count": 134,
   "id": "5237babf",
   "metadata": {},
   "outputs": [
    {
     "data": {
      "image/png": "[encoded data removed]",
      "text/plain": [
       "<Figure size 432x288 with 1 Axes>"
      ]
     },
     "metadata": {},
     "output_type": "display_data"
    }
   ],
   "source": [
    "# Boxplot\n",
    "cor.boxplot(column=['annual_income']);"
   ]
  },
  {
   "cell_type": "code",
   "execution_count": 124,
   "id": "7a733d50",
   "metadata": {},
   "outputs": [
    {
     "data": {
      "text/html": [
       "<div>\n",
       "<style scoped>\n",
       "    .dataframe tbody tr th:only-of-type {\n",
       "        vertical-align: middle;\n",
       "    }\n",
       "\n",
       "    .dataframe tbody tr th {\n",
       "        vertical-align: top;\n",
       "    }\n",
       "\n",
       "    .dataframe thead th {\n",
       "        text-align: right;\n",
       "    }\n",
       "</style>\n",
       "<table border=\"1\" class=\"dataframe\">\n",
       "  <thead>\n",
       "    <tr style=\"text-align: right;\">\n",
       "      <th></th>\n",
       "      <th>count</th>\n",
       "      <th>mean</th>\n",
       "      <th>std</th>\n",
       "      <th>min</th>\n",
       "      <th>25%</th>\n",
       "      <th>50%</th>\n",
       "      <th>75%</th>\n",
       "      <th>max</th>\n",
       "    </tr>\n",
       "  </thead>\n",
       "  <tbody>\n",
       "    <tr>\n",
       "      <th>annual_income</th>\n",
       "      <td>110.0</td>\n",
       "      <td>17195.727273</td>\n",
       "      <td>23741.147397</td>\n",
       "      <td>240.0</td>\n",
       "      <td>1470.00</td>\n",
       "      <td>4130.0</td>\n",
       "      <td>25410.0</td>\n",
       "      <td>90360.0</td>\n",
       "    </tr>\n",
       "    <tr>\n",
       "      <th>corruption_index</th>\n",
       "      <td>110.0</td>\n",
       "      <td>59.200000</td>\n",
       "      <td>22.170234</td>\n",
       "      <td>12.0</td>\n",
       "      <td>41.75</td>\n",
       "      <td>69.0</td>\n",
       "      <td>75.0</td>\n",
       "      <td>89.0</td>\n",
       "    </tr>\n",
       "  </tbody>\n",
       "</table>\n",
       "</div>"
      ],
      "text/plain": [
       "                  count          mean           std    min      25%     50%  \\\n",
       "annual_income     110.0  17195.727273  23741.147397  240.0  1470.00  4130.0   \n",
       "corruption_index  110.0     59.200000     22.170234   12.0    41.75    69.0   \n",
       "\n",
       "                      75%      max  \n",
       "annual_income     25410.0  90360.0  \n",
       "corruption_index     75.0     89.0  "
      ]
     },
     "execution_count": 124,
     "metadata": {},
     "output_type": "execute_result"
    }
   ],
   "source": [
    "cor.describe().T"
   ]
  },
  {
   "cell_type": "markdown",
   "id": "5b3db52e",
   "metadata": {},
   "source": [
    "* Annual income is positively skewed so there are a number of outliers with high annual income\n",
    "* The median income is low at just over 4000 US dollars and most countries have annual income under 20000 dollars"
   ]
  },
  {
   "cell_type": "code",
   "execution_count": 276,
   "id": "f57d2a74",
   "metadata": {},
   "outputs": [
    {
     "data": {
      "image/png": "[encoded data removed]",
      "text/plain": [
       "<Figure size 432x288 with 1 Axes>"
      ]
     },
     "metadata": {},
     "output_type": "display_data"
    }
   ],
   "source": [
    "# Corruption Index distribution\n",
    "sns.histplot(cor.corruption_index, ec = 'k', bins = 10)\n",
    "plt.title(\"Corruption Index Distribution\");"
   ]
  },
  {
   "cell_type": "code",
   "execution_count": 277,
   "id": "34b83d70",
   "metadata": {},
   "outputs": [
    {
     "data": {
      "text/plain": [
       "-0.8596166822213626"
      ]
     },
     "execution_count": 277,
     "metadata": {},
     "output_type": "execute_result"
    }
   ],
   "source": [
    "# Skew\n",
    "cor.corruption_index.skew()"
   ]
  },
  {
   "cell_type": "code",
   "execution_count": 278,
   "id": "22ecdfd5",
   "metadata": {},
   "outputs": [
    {
     "data": {
      "image/png": "[encoded data removed]",
      "text/plain": [
       "<Figure size 432x288 with 1 Axes>"
      ]
     },
     "metadata": {},
     "output_type": "display_data"
    }
   ],
   "source": [
    "# Boxplot\n",
    "cor.boxplot(column=['corruption_index']);"
   ]
  },
  {
   "cell_type": "markdown",
   "id": "4e429b0a",
   "metadata": {},
   "source": [
    "* Corruption index is slightly negatively skewed based on the skew statistic and histogram\n",
    "* The boxplot shows no outliers and median corruption index of 70 "
   ]
  },
  {
   "cell_type": "code",
   "execution_count": 125,
   "id": "ea35c863",
   "metadata": {},
   "outputs": [
    {
     "data": {
      "text/html": [
       "<div>\n",
       "<style scoped>\n",
       "    .dataframe tbody tr th:only-of-type {\n",
       "        vertical-align: middle;\n",
       "    }\n",
       "\n",
       "    .dataframe tbody tr th {\n",
       "        vertical-align: top;\n",
       "    }\n",
       "\n",
       "    .dataframe thead th {\n",
       "        text-align: right;\n",
       "    }\n",
       "</style>\n",
       "<table border=\"1\" class=\"dataframe\">\n",
       "  <thead>\n",
       "    <tr style=\"text-align: right;\">\n",
       "      <th></th>\n",
       "      <th>annual_income</th>\n",
       "      <th>corruption_index</th>\n",
       "    </tr>\n",
       "    <tr>\n",
       "      <th>country</th>\n",
       "      <th></th>\n",
       "      <th></th>\n",
       "    </tr>\n",
       "  </thead>\n",
       "  <tbody>\n",
       "    <tr>\n",
       "      <th>South Sudan</th>\n",
       "      <td>460</td>\n",
       "      <td>89</td>\n",
       "    </tr>\n",
       "    <tr>\n",
       "      <th>Syria</th>\n",
       "      <td>1170</td>\n",
       "      <td>87</td>\n",
       "    </tr>\n",
       "    <tr>\n",
       "      <th>Somalia</th>\n",
       "      <td>450</td>\n",
       "      <td>87</td>\n",
       "    </tr>\n",
       "    <tr>\n",
       "      <th>Venezuela</th>\n",
       "      <td>13080</td>\n",
       "      <td>86</td>\n",
       "    </tr>\n",
       "    <tr>\n",
       "      <th>Yemen</th>\n",
       "      <td>670</td>\n",
       "      <td>84</td>\n",
       "    </tr>\n",
       "    <tr>\n",
       "      <th>Afghanistan</th>\n",
       "      <td>500</td>\n",
       "      <td>84</td>\n",
       "    </tr>\n",
       "    <tr>\n",
       "      <th>Libya</th>\n",
       "      <td>8430</td>\n",
       "      <td>83</td>\n",
       "    </tr>\n",
       "    <tr>\n",
       "      <th>Equatorial Guinea</th>\n",
       "      <td>5810</td>\n",
       "      <td>83</td>\n",
       "    </tr>\n",
       "    <tr>\n",
       "      <th>Turkmenistan</th>\n",
       "      <td>7220</td>\n",
       "      <td>81</td>\n",
       "    </tr>\n",
       "    <tr>\n",
       "      <th>Congo (Dem. Republic)</th>\n",
       "      <td>580</td>\n",
       "      <td>81</td>\n",
       "    </tr>\n",
       "  </tbody>\n",
       "</table>\n",
       "</div>"
      ],
      "text/plain": [
       "                       annual_income  corruption_index\n",
       "country                                               \n",
       "South Sudan                      460                89\n",
       "Syria                           1170                87\n",
       "Somalia                          450                87\n",
       "Venezuela                      13080                86\n",
       "Yemen                            670                84\n",
       "Afghanistan                      500                84\n",
       "Libya                           8430                83\n",
       "Equatorial Guinea               5810                83\n",
       "Turkmenistan                    7220                81\n",
       "Congo (Dem. Republic)            580                81"
      ]
     },
     "execution_count": 125,
     "metadata": {},
     "output_type": "execute_result"
    }
   ],
   "source": [
    "# Countries with the highest corruption index\n",
    "high_cor = cor.sort_values(by = \"corruption_index\", ascending = False).head(10).set_index('country')\n",
    "high_cor"
   ]
  },
  {
   "cell_type": "code",
   "execution_count": 180,
   "id": "7a55b956",
   "metadata": {},
   "outputs": [
    {
     "data": {
      "image/png": "[encoded data removed]",
      "text/plain": [
       "<Figure size 432x288 with 1 Axes>"
      ]
     },
     "metadata": {},
     "output_type": "display_data"
    }
   ],
   "source": [
    "plt.barh(y = high_cor.index, width = high_cor.corruption_index)\n",
    "plt.title(\"Countries with Highest Corruption Index\");"
   ]
  },
  {
   "cell_type": "markdown",
   "id": "5bee88e1",
   "metadata": {},
   "source": [
    "* South Sudan tops the table with highest corruption values"
   ]
  },
  {
   "cell_type": "code",
   "execution_count": 187,
   "id": "e1763871",
   "metadata": {},
   "outputs": [
    {
     "data": {
      "image/png": "[encoded data removed]",
      "text/plain": [
       "<Figure size 432x288 with 1 Axes>"
      ]
     },
     "metadata": {},
     "output_type": "display_data"
    }
   ],
   "source": [
    "# Relationship between income and corruption index\n",
    "plt.scatter(x = cor.annual_income, y = cor.corruption_index)\n",
    "plt.title('Scatter Plot of Corruption Index Against Income')\n",
    "plt.xlabel(\"Annual Income $\")\n",
    "plt.ylabel(\"Corruption Index\");"
   ]
  },
  {
   "cell_type": "code",
   "execution_count": 181,
   "id": "8cf28bd4",
   "metadata": {},
   "outputs": [
    {
     "data": {
      "image/png": "[encoded data removed]",
      "text/plain": [
       "<Figure size 432x288 with 2 Axes>"
      ]
     },
     "metadata": {},
     "output_type": "display_data"
    }
   ],
   "source": [
    "sns.heatmap(cor.corr(), annot = True)\n",
    "plt.title(\"Correlation Between Annual Income and Corruption Index\", fontsize = 10);"
   ]
  },
  {
   "cell_type": "markdown",
   "id": "663f43bb",
   "metadata": {},
   "source": [
    "* There appears to be a strong negative linear relationship between annual income and corruption\n",
    "* Lower incomes are correlated with higher corruption indices and higher incomes with lower corruption indices as we might expect\n",
    "* We can try to build a predictive model based on the data but the presence of outliers might undermine the validity of any model so we need to have a look at the residuals to check for normality and constant variance."
   ]
  },
  {
   "cell_type": "markdown",
   "id": "fde4ec32",
   "metadata": {},
   "source": [
    "### Build Linear Model"
   ]
  },
  {
   "cell_type": "code",
   "execution_count": 140,
   "id": "e9ca2675",
   "metadata": {},
   "outputs": [
    {
     "data": {
      "text/plain": [
       "(110, 3)"
      ]
     },
     "execution_count": 140,
     "metadata": {},
     "output_type": "execute_result"
    }
   ],
   "source": [
    "cor.shape"
   ]
  },
  {
   "cell_type": "code",
   "execution_count": 146,
   "id": "8b89b76c",
   "metadata": {},
   "outputs": [],
   "source": [
    "# Set dependent and independent variables\n",
    "X = cor.annual_income\n",
    "y = cor.corruption_index"
   ]
  },
  {
   "cell_type": "code",
   "execution_count": 147,
   "id": "1533db70",
   "metadata": {},
   "outputs": [
    {
     "name": "stdout",
     "output_type": "stream",
     "text": [
      "(88,) (22,) (88,) (22,)\n"
     ]
    }
   ],
   "source": [
    "# Train and test sets\n",
    "X_train, X_test, y_train, y_test = train_test_split(X,y, test_size = 0.2)\n",
    "print(X_train.shape, X_test.shape, y_train.shape, y_test.shape)"
   ]
  },
  {
   "cell_type": "markdown",
   "id": "fae3ee61",
   "metadata": {},
   "source": [
    "Note: in this case we will use a train test split as we are just seeking to do an initial exploration. Cross-validation is the gold-standard and should be used if the results are to be relied upon."
   ]
  },
  {
   "cell_type": "code",
   "execution_count": 163,
   "id": "04198290",
   "metadata": {},
   "outputs": [],
   "source": [
    "# Reshape data\n",
    "X_train = pd.DataFrame(X_train)\n",
    "y_train = pd.DataFrame(y_train)\n",
    "\n",
    "X_test = pd.DataFrame(X_test)\n",
    "y_test = pd.DataFrame(y_test)"
   ]
  },
  {
   "cell_type": "code",
   "execution_count": 154,
   "id": "ebb3c485",
   "metadata": {},
   "outputs": [
    {
     "data": {
      "text/plain": [
       "LinearRegression()"
      ]
     },
     "execution_count": 154,
     "metadata": {},
     "output_type": "execute_result"
    }
   ],
   "source": [
    "# Fit model\n",
    "lm = LinearRegression()\n",
    "lm.fit(X_train, y_train)"
   ]
  },
  {
   "cell_type": "code",
   "execution_count": 162,
   "id": "bee857e1",
   "metadata": {},
   "outputs": [
    {
     "name": "stdout",
     "output_type": "stream",
     "text": [
      "Coefficient of Determination: 0.8359904118792435\n",
      "Coefficient: [[-0.00087993]] Intercept: [74.62930282]\n"
     ]
    }
   ],
   "source": [
    "# Get the coefficient and intercept\n",
    "print('Coefficient of Determination:',lm.score(X_train, y_train))\n",
    "print('Coefficient:',lm.coef_, 'Intercept:',lm.intercept_)"
   ]
  },
  {
   "cell_type": "code",
   "execution_count": 172,
   "id": "49056668",
   "metadata": {},
   "outputs": [
    {
     "data": {
      "text/html": [
       "<div>\n",
       "<style scoped>\n",
       "    .dataframe tbody tr th:only-of-type {\n",
       "        vertical-align: middle;\n",
       "    }\n",
       "\n",
       "    .dataframe tbody tr th {\n",
       "        vertical-align: top;\n",
       "    }\n",
       "\n",
       "    .dataframe thead th {\n",
       "        text-align: right;\n",
       "    }\n",
       "</style>\n",
       "<table border=\"1\" class=\"dataframe\">\n",
       "  <thead>\n",
       "    <tr style=\"text-align: right;\">\n",
       "      <th></th>\n",
       "      <th>0</th>\n",
       "    </tr>\n",
       "  </thead>\n",
       "  <tbody>\n",
       "    <tr>\n",
       "      <th>0</th>\n",
       "      <td>73.590981</td>\n",
       "    </tr>\n",
       "    <tr>\n",
       "      <th>1</th>\n",
       "      <td>74.180536</td>\n",
       "    </tr>\n",
       "    <tr>\n",
       "      <th>2</th>\n",
       "      <td>28.687949</td>\n",
       "    </tr>\n",
       "    <tr>\n",
       "      <th>3</th>\n",
       "      <td>73.309402</td>\n",
       "    </tr>\n",
       "    <tr>\n",
       "      <th>4</th>\n",
       "      <td>55.033173</td>\n",
       "    </tr>\n",
       "  </tbody>\n",
       "</table>\n",
       "</div>"
      ],
      "text/plain": [
       "           0\n",
       "0  73.590981\n",
       "1  74.180536\n",
       "2  28.687949\n",
       "3  73.309402\n",
       "4  55.033173"
      ]
     },
     "execution_count": 172,
     "metadata": {},
     "output_type": "execute_result"
    }
   ],
   "source": [
    "# Predict on test data\n",
    "y_pred = pd.DataFrame(lm.predict(X_test))\n",
    "y_pred.head()"
   ]
  },
  {
   "cell_type": "code",
   "execution_count": 175,
   "id": "04898ec4",
   "metadata": {},
   "outputs": [
    {
     "data": {
      "text/html": [
       "<div>\n",
       "<style scoped>\n",
       "    .dataframe tbody tr th:only-of-type {\n",
       "        vertical-align: middle;\n",
       "    }\n",
       "\n",
       "    .dataframe tbody tr th {\n",
       "        vertical-align: top;\n",
       "    }\n",
       "\n",
       "    .dataframe thead th {\n",
       "        text-align: right;\n",
       "    }\n",
       "</style>\n",
       "<table border=\"1\" class=\"dataframe\">\n",
       "  <thead>\n",
       "    <tr style=\"text-align: right;\">\n",
       "      <th></th>\n",
       "      <th>Predicted</th>\n",
       "      <th>Actual</th>\n",
       "    </tr>\n",
       "  </thead>\n",
       "  <tbody>\n",
       "    <tr>\n",
       "      <th>0</th>\n",
       "      <td>74.0</td>\n",
       "      <td>73</td>\n",
       "    </tr>\n",
       "    <tr>\n",
       "      <th>1</th>\n",
       "      <td>74.0</td>\n",
       "      <td>66</td>\n",
       "    </tr>\n",
       "    <tr>\n",
       "      <th>2</th>\n",
       "      <td>29.0</td>\n",
       "      <td>26</td>\n",
       "    </tr>\n",
       "    <tr>\n",
       "      <th>3</th>\n",
       "      <td>73.0</td>\n",
       "      <td>72</td>\n",
       "    </tr>\n",
       "    <tr>\n",
       "      <th>4</th>\n",
       "      <td>55.0</td>\n",
       "      <td>47</td>\n",
       "    </tr>\n",
       "  </tbody>\n",
       "</table>\n",
       "</div>"
      ],
      "text/plain": [
       "   Predicted  Actual\n",
       "0       74.0      73\n",
       "1       74.0      66\n",
       "2       29.0      26\n",
       "3       73.0      72\n",
       "4       55.0      47"
      ]
     },
     "execution_count": 175,
     "metadata": {},
     "output_type": "execute_result"
    }
   ],
   "source": [
    "compare_corr = pd.concat([y_pred.reset_index(drop = True), y_test.reset_index(drop = True)], axis = 1)\n",
    "compare_corr.columns = [\"Predicted\",\"Actual\"]\n",
    "compare_corr['Predicted'] = round(compare_corr['Predicted'],0)\n",
    "compare_corr.head()"
   ]
  },
  {
   "cell_type": "markdown",
   "id": "ad0fca02",
   "metadata": {},
   "source": [
    "The predicted values look pretty good"
   ]
  },
  {
   "cell_type": "markdown",
   "id": "e2251177",
   "metadata": {},
   "source": [
    "### Model Evaluation"
   ]
  },
  {
   "cell_type": "code",
   "execution_count": 275,
   "id": "d09dbc77",
   "metadata": {},
   "outputs": [
    {
     "name": "stdout",
     "output_type": "stream",
     "text": [
      "R2 Score: 0.8252752499613624\n"
     ]
    }
   ],
   "source": [
    "# Evaluate the predicted values\n",
    "print(\"R2 Score:\",r2_score(y_test, y_pred))"
   ]
  },
  {
   "cell_type": "code",
   "execution_count": 242,
   "id": "1400056d",
   "metadata": {},
   "outputs": [
    {
     "name": "stdout",
     "output_type": "stream",
     "text": [
      "Mean Absolute Error:  6.971110294317\n",
      "Root Mean Squared Error:  8.960065492439607\n"
     ]
    }
   ],
   "source": [
    "print(\"Mean Absolute Error: \",mean_absolute_error(y_test, y_pred))\n",
    "print(\"Root Mean Squared Error: \",np.sqrt(mean_squared_error(y_test, y_pred)))"
   ]
  },
  {
   "cell_type": "markdown",
   "id": "d898edff",
   "metadata": {},
   "source": [
    "* Based on the predicted values we can say that approx 83% of the variation in corruption index can be explained by the model\n",
    "* Therefore 83% of the variation in corruption index is explained by annual income and some 17% residual is due to other factors\n",
    "* Other factors that may explain corruption might include education levels, civil unrest, lower levels of democracy etc\n",
    "* This model appears to be a good one showing a linear relationship between a country's annual income and the corruption index but we need to have a look at the residuals to see if the other assumptions of a linear model are met, i.e. residuals that are normally distributed with constant variance."
   ]
  },
  {
   "cell_type": "code",
   "execution_count": 243,
   "id": "a8ba9b98",
   "metadata": {},
   "outputs": [
    {
     "data": {
      "image/png": "[encoded data removed]",
      "text/plain": [
       "<Figure size 432x288 with 1 Axes>"
      ]
     },
     "metadata": {},
     "output_type": "display_data"
    }
   ],
   "source": [
    "# Draw a plot of the data plus the linear regression line\n",
    "plt.scatter(X, y,color='g', s = 12) \n",
    "m, b = np.polyfit(X, y, 1)\n",
    "plt.plot(X, m*X+b)\n",
    "plt.title(\"Model Regression Line\")\n",
    "plt.xlabel(\"Annual Income\")\n",
    "plt.ylabel(\"Corruption Index\");"
   ]
  },
  {
   "cell_type": "markdown",
   "id": "ea1a9f0e",
   "metadata": {},
   "source": [
    "The regression line goes through most of the points but there might be some curve to the data indicating there may be some non-linearity"
   ]
  },
  {
   "cell_type": "code",
   "execution_count": 189,
   "id": "05b31320",
   "metadata": {},
   "outputs": [
    {
     "data": {
      "image/png": "[encoded data removed]",
      "text/plain": [
       "<Figure size 720x432 with 1 Axes>"
      ]
     },
     "metadata": {},
     "output_type": "display_data"
    }
   ],
   "source": [
    "# Plot the predicted versus actual test values\n",
    "plt.subplots(figsize=(10,6))\n",
    "plt.plot(y_pred, label=\"Prediction\")\n",
    "plt.plot(y_test.values, label=\"Actual\")\n",
    "plt.legend()\n",
    "plt.title(\"Predicted Versus Actual Values on Test Set\")\n",
    "plt.show()"
   ]
  },
  {
   "cell_type": "markdown",
   "id": "eb4688e6",
   "metadata": {},
   "source": [
    "The predicted values match fairly well to the actual test values"
   ]
  },
  {
   "cell_type": "code",
   "execution_count": 266,
   "id": "88fc05a7",
   "metadata": {},
   "outputs": [
    {
     "name": "stdout",
     "output_type": "stream",
     "text": [
      "Mean of Residuals:  1.5\n"
     ]
    }
   ],
   "source": [
    "# Find the residual values and check the mean value\n",
    "residuals = compare_corr['Predicted']-compare_corr['Actual']\n",
    "print(\"Mean of Residuals: \",residuals.mean())"
   ]
  },
  {
   "cell_type": "markdown",
   "id": "57bd6cc4",
   "metadata": {},
   "source": [
    "The mean is above zero"
   ]
  },
  {
   "cell_type": "code",
   "execution_count": 325,
   "id": "54564370",
   "metadata": {},
   "outputs": [
    {
     "data": {
      "image/png": "[encoded data removed]",
      "text/plain": [
       "<Figure size 432x288 with 1 Axes>"
      ]
     },
     "metadata": {},
     "output_type": "display_data"
    }
   ],
   "source": [
    "# Distribution of residuals\n",
    "sns.histplot(x = residuals, kde = True, bins = 20)\n",
    "plt.title(\"Distribution of Residuals\");"
   ]
  },
  {
   "cell_type": "markdown",
   "id": "c2dfc340",
   "metadata": {},
   "source": [
    "The residuals are not normally distributed"
   ]
  },
  {
   "cell_type": "code",
   "execution_count": 264,
   "id": "0d84a0cd",
   "metadata": {},
   "outputs": [
    {
     "data": {
      "text/plain": [
       "ShapiroResult(statistic=0.8053125739097595, pvalue=0.0006066241185180843)"
      ]
     },
     "execution_count": 264,
     "metadata": {},
     "output_type": "execute_result"
    }
   ],
   "source": [
    "# Shapiro Wilks test for normality\n",
    "sp.stats.shapiro(residuals)"
   ]
  },
  {
   "cell_type": "markdown",
   "id": "f5609e2c",
   "metadata": {},
   "source": [
    "We reject the null value for Shapiro Wilks with a p-value below 0.05"
   ]
  },
  {
   "cell_type": "code",
   "execution_count": 265,
   "id": "63869607",
   "metadata": {},
   "outputs": [
    {
     "data": {
      "image/png": "[encoded data removed]",
      "text/plain": [
       "<Figure size 576x432 with 1 Axes>"
      ]
     },
     "metadata": {},
     "output_type": "display_data"
    }
   ],
   "source": [
    "# Probability plot (points should fit along the line)\n",
    "fig, ax = plt.subplots(figsize = (8,6))\n",
    "ax = sp.stats.probplot(residuals, plot = ax)"
   ]
  },
  {
   "cell_type": "markdown",
   "id": "3b7794ed",
   "metadata": {},
   "source": [
    "The qq plot shows some variation around the normal line"
   ]
  },
  {
   "cell_type": "markdown",
   "id": "6791ffba",
   "metadata": {},
   "source": [
    "* Check for homoscedasticity - residuals have equal or almost equal variance across the regression line. \n",
    "* Plotting residuals with predicted values to check there are no patterns"
   ]
  },
  {
   "cell_type": "code",
   "execution_count": 270,
   "id": "4e1a4f1d",
   "metadata": {},
   "outputs": [
    {
     "data": {
      "image/png": "[encoded data removed]",
      "text/plain": [
       "<Figure size 432x288 with 1 Axes>"
      ]
     },
     "metadata": {},
     "output_type": "display_data"
    }
   ],
   "source": [
    "# Plot the Residuals against predicted values\n",
    "plt.scatter(y_pred, y = residuals)\n",
    "plt.axhline(y = 0, color = \"blue\",linestyle = \":\")\n",
    "plt.title(\"'Residuals vs Fitted Values\");"
   ]
  },
  {
   "cell_type": "markdown",
   "id": "4df48a35",
   "metadata": {},
   "source": [
    "* The points may be fanning out so we will try a statistical test"
   ]
  },
  {
   "cell_type": "code",
   "execution_count": 274,
   "id": "6af7cbd0",
   "metadata": {},
   "outputs": [
    {
     "name": "stdout",
     "output_type": "stream",
     "text": [
      "BartlettResult(statistic=298.94565902043865, pvalue=5.590853137815046e-67)\n"
     ]
    }
   ],
   "source": [
    "# Bartlett test - null hypothesis that samples are from populations with equal variances\n",
    "from scipy.stats import bartlett\n",
    "test = bartlett( X_test.annual_income,residuals)\n",
    "print(test)"
   ]
  },
  {
   "cell_type": "markdown",
   "id": "d3d156dd",
   "metadata": {},
   "source": [
    "### Improvements to the Model"
   ]
  },
  {
   "cell_type": "markdown",
   "id": "02971310",
   "metadata": {},
   "source": [
    "* One method would be to try a log transformation of the annual income feature which has a significant skew with outliers"
   ]
  },
  {
   "cell_type": "code",
   "execution_count": 280,
   "id": "2e827ffa",
   "metadata": {},
   "outputs": [],
   "source": [
    "# Set dependent and independent variables\n",
    "X = np.log(cor.annual_income)\n",
    "y = cor.corruption_index"
   ]
  },
  {
   "cell_type": "code",
   "execution_count": 312,
   "id": "12b4d870",
   "metadata": {},
   "outputs": [
    {
     "data": {
      "image/png": "[encoded data removed]",
      "text/plain": [
       "<Figure size 432x288 with 1 Axes>"
      ]
     },
     "metadata": {},
     "output_type": "display_data"
    }
   ],
   "source": [
    "plt.hist(X)\n",
    "plt.title(\"Distribution of Log Annual Income\");"
   ]
  },
  {
   "cell_type": "code",
   "execution_count": 313,
   "id": "b09aca43",
   "metadata": {},
   "outputs": [
    {
     "data": {
      "text/plain": [
       "0.17566103580619052"
      ]
     },
     "execution_count": 313,
     "metadata": {},
     "output_type": "execute_result"
    }
   ],
   "source": [
    "X.skew()"
   ]
  },
  {
   "cell_type": "code",
   "execution_count": 314,
   "id": "c5ac1e7b",
   "metadata": {},
   "outputs": [],
   "source": [
    "# Train and test sets\n",
    "X_train, X_test, y_train, y_test = train_test_split(X,y, test_size = 0.2)"
   ]
  },
  {
   "cell_type": "code",
   "execution_count": 315,
   "id": "7f97eed9",
   "metadata": {},
   "outputs": [],
   "source": [
    "# Reshape data\n",
    "X_train = pd.DataFrame(X_train)\n",
    "X_test = pd.DataFrame(X_test)\n",
    "\n",
    "y_train = pd.DataFrame(y_train)\n",
    "y_test = pd.DataFrame(y_test)"
   ]
  },
  {
   "cell_type": "code",
   "execution_count": 317,
   "id": "11183808",
   "metadata": {},
   "outputs": [
    {
     "data": {
      "text/html": [
       "<div>\n",
       "<style scoped>\n",
       "    .dataframe tbody tr th:only-of-type {\n",
       "        vertical-align: middle;\n",
       "    }\n",
       "\n",
       "    .dataframe tbody tr th {\n",
       "        vertical-align: top;\n",
       "    }\n",
       "\n",
       "    .dataframe thead th {\n",
       "        text-align: right;\n",
       "    }\n",
       "</style>\n",
       "<table border=\"1\" class=\"dataframe\">\n",
       "  <thead>\n",
       "    <tr style=\"text-align: right;\">\n",
       "      <th></th>\n",
       "      <th>annual_income</th>\n",
       "    </tr>\n",
       "  </thead>\n",
       "  <tbody>\n",
       "    <tr>\n",
       "      <th>27</th>\n",
       "      <td>10.810939</td>\n",
       "    </tr>\n",
       "    <tr>\n",
       "      <th>16</th>\n",
       "      <td>11.218823</td>\n",
       "    </tr>\n",
       "    <tr>\n",
       "      <th>84</th>\n",
       "      <td>6.272877</td>\n",
       "    </tr>\n",
       "    <tr>\n",
       "      <th>100</th>\n",
       "      <td>6.363028</td>\n",
       "    </tr>\n",
       "    <tr>\n",
       "      <th>65</th>\n",
       "      <td>6.887553</td>\n",
       "    </tr>\n",
       "  </tbody>\n",
       "</table>\n",
       "</div>"
      ],
      "text/plain": [
       "     annual_income\n",
       "27       10.810939\n",
       "16       11.218823\n",
       "84        6.272877\n",
       "100       6.363028\n",
       "65        6.887553"
      ]
     },
     "execution_count": 317,
     "metadata": {},
     "output_type": "execute_result"
    }
   ],
   "source": [
    "# Look at X values (log of annual income)\n",
    "X_train.head()"
   ]
  },
  {
   "cell_type": "code",
   "execution_count": 318,
   "id": "6abda3ef",
   "metadata": {},
   "outputs": [
    {
     "data": {
      "text/plain": [
       "LinearRegression()"
      ]
     },
     "execution_count": 318,
     "metadata": {},
     "output_type": "execute_result"
    }
   ],
   "source": [
    "# Fit model\n",
    "lm = LinearRegression()\n",
    "lm.fit(X_train, y_train)"
   ]
  },
  {
   "cell_type": "code",
   "execution_count": 337,
   "id": "aa11214d",
   "metadata": {},
   "outputs": [],
   "source": [
    "# Predict on test data\n",
    "y_pred = pd.DataFrame(lm.predict(X_test))"
   ]
  },
  {
   "cell_type": "code",
   "execution_count": 333,
   "id": "90414fad",
   "metadata": {},
   "outputs": [
    {
     "name": "stdout",
     "output_type": "stream",
     "text": [
      "R2 Score: 0.7499891645791408\n"
     ]
    }
   ],
   "source": [
    "# Evaluate the predicted values\n",
    "print(\"R2 Score:\",r2_score(y_test, y_pred))"
   ]
  },
  {
   "cell_type": "markdown",
   "id": "bec2d7e0",
   "metadata": {},
   "source": [
    "The value of r2 has fallen considerably in this revised model from 0.83 to 0.75."
   ]
  },
  {
   "cell_type": "code",
   "execution_count": 340,
   "id": "26cd4b49",
   "metadata": {},
   "outputs": [
    {
     "name": "stdout",
     "output_type": "stream",
     "text": [
      "Mean Absolute Error:  7.521226871289565\n",
      "Root Mean Squared Error:  9.370125919551596\n"
     ]
    }
   ],
   "source": [
    "print(\"Mean Absolute Error: \",mean_absolute_error(y_test, y_pred))\n",
    "print(\"Root Mean Squared Error: \",np.sqrt(mean_squared_error(y_test, y_pred)))"
   ]
  },
  {
   "cell_type": "markdown",
   "id": "166d3892",
   "metadata": {},
   "source": [
    "The root mean squared error has increased compared to the first model"
   ]
  },
  {
   "cell_type": "code",
   "execution_count": 341,
   "id": "c0144442",
   "metadata": {},
   "outputs": [
    {
     "name": "stdout",
     "output_type": "stream",
     "text": [
      "Coefficient of Determination: 0.7695703239107646\n",
      "Coefficient: [[-12.06876725]] Intercept: [163.12854412]\n"
     ]
    }
   ],
   "source": [
    "# Get the coefficient and intercept\n",
    "print('Coefficient of Determination:',lm.score(X_train, y_train))\n",
    "print('Coefficient:',lm.coef_, 'Intercept:',lm.intercept_)"
   ]
  },
  {
   "cell_type": "code",
   "execution_count": 339,
   "id": "c1e0b357",
   "metadata": {},
   "outputs": [
    {
     "data": {
      "image/png": "[encoded data removed]",
      "text/plain": [
       "<Figure size 432x288 with 1 Axes>"
      ]
     },
     "metadata": {},
     "output_type": "display_data"
    }
   ],
   "source": [
    "# Draw a plot of the data plus the linear regression line\n",
    "plt.scatter(X, y,color='g', s = 12) \n",
    "m, b = np.polyfit(X, y, 1)\n",
    "plt.plot(X, m*X+b)\n",
    "plt.title(\"Model Regression Line After Log Transform\")\n",
    "plt.xlabel(\"Annual Income\")\n",
    "plt.ylabel(\"Corruption Index\");"
   ]
  },
  {
   "cell_type": "code",
   "execution_count": 322,
   "id": "de67f144",
   "metadata": {},
   "outputs": [
    {
     "data": {
      "text/html": [
       "<div>\n",
       "<style scoped>\n",
       "    .dataframe tbody tr th:only-of-type {\n",
       "        vertical-align: middle;\n",
       "    }\n",
       "\n",
       "    .dataframe tbody tr th {\n",
       "        vertical-align: top;\n",
       "    }\n",
       "\n",
       "    .dataframe thead th {\n",
       "        text-align: right;\n",
       "    }\n",
       "</style>\n",
       "<table border=\"1\" class=\"dataframe\">\n",
       "  <thead>\n",
       "    <tr style=\"text-align: right;\">\n",
       "      <th></th>\n",
       "      <th>Predicted</th>\n",
       "      <th>Actual</th>\n",
       "    </tr>\n",
       "  </thead>\n",
       "  <tbody>\n",
       "    <tr>\n",
       "      <th>0</th>\n",
       "      <td>33.0</td>\n",
       "      <td>26</td>\n",
       "    </tr>\n",
       "    <tr>\n",
       "      <th>1</th>\n",
       "      <td>52.0</td>\n",
       "      <td>62</td>\n",
       "    </tr>\n",
       "    <tr>\n",
       "      <th>2</th>\n",
       "      <td>86.0</td>\n",
       "      <td>71</td>\n",
       "    </tr>\n",
       "    <tr>\n",
       "      <th>3</th>\n",
       "      <td>72.0</td>\n",
       "      <td>72</td>\n",
       "    </tr>\n",
       "    <tr>\n",
       "      <th>4</th>\n",
       "      <td>63.0</td>\n",
       "      <td>68</td>\n",
       "    </tr>\n",
       "  </tbody>\n",
       "</table>\n",
       "</div>"
      ],
      "text/plain": [
       "   Predicted  Actual\n",
       "0       33.0      26\n",
       "1       52.0      62\n",
       "2       86.0      71\n",
       "3       72.0      72\n",
       "4       63.0      68"
      ]
     },
     "execution_count": 322,
     "metadata": {},
     "output_type": "execute_result"
    }
   ],
   "source": [
    "compare_corr = pd.concat([y_pred.reset_index(drop = True), y_test.reset_index(drop = True)], axis = 1)\n",
    "compare_corr.columns = [\"Predicted\",\"Actual\"]\n",
    "compare_corr['Predicted'] = round(compare_corr['Predicted'],0)\n",
    "compare_corr.head()"
   ]
  },
  {
   "cell_type": "code",
   "execution_count": 323,
   "id": "bb0afd33",
   "metadata": {},
   "outputs": [
    {
     "name": "stdout",
     "output_type": "stream",
     "text": [
      "Mean of Residuals:  0.45454545454545453\n"
     ]
    }
   ],
   "source": [
    "# Find the residual values and check the mean value\n",
    "residuals = compare_corr['Predicted']-compare_corr['Actual']\n",
    "print(\"Mean of Residuals: \",residuals.mean())"
   ]
  },
  {
   "cell_type": "markdown",
   "id": "63787bcd",
   "metadata": {},
   "source": [
    "The mean of residuals is much closer to zero"
   ]
  },
  {
   "cell_type": "code",
   "execution_count": 326,
   "id": "09a7fa61",
   "metadata": {},
   "outputs": [
    {
     "data": {
      "image/png": "[encoded data removed]",
      "text/plain": [
       "<Figure size 432x288 with 1 Axes>"
      ]
     },
     "metadata": {},
     "output_type": "display_data"
    }
   ],
   "source": [
    "# Distribution of residuals\n",
    "sns.histplot(x = residuals, kde = True, bins = 20)\n",
    "plt.title(\"Distribution of Residuals After Log Transformation\");"
   ]
  },
  {
   "cell_type": "code",
   "execution_count": 327,
   "id": "19f73c19",
   "metadata": {},
   "outputs": [
    {
     "data": {
      "text/plain": [
       "ShapiroResult(statistic=0.9812657237052917, pvalue=0.9346292018890381)"
      ]
     },
     "execution_count": 327,
     "metadata": {},
     "output_type": "execute_result"
    }
   ],
   "source": [
    "# Shapiro Wilks test for normality\n",
    "sp.stats.shapiro(residuals)"
   ]
  },
  {
   "cell_type": "markdown",
   "id": "c137d622",
   "metadata": {},
   "source": [
    "The Shapiro Wilks test results show we fail to reject the null hypothesis of normality"
   ]
  },
  {
   "cell_type": "code",
   "execution_count": 328,
   "id": "3bf83639",
   "metadata": {},
   "outputs": [
    {
     "data": {
      "image/png": "[encoded data removed]",
      "text/plain": [
       "<Figure size 576x432 with 1 Axes>"
      ]
     },
     "metadata": {},
     "output_type": "display_data"
    }
   ],
   "source": [
    "# Probability plot (points should fit along the line)\n",
    "fig, ax = plt.subplots(figsize = (8,6))\n",
    "ax = sp.stats.probplot(residuals, plot = ax)"
   ]
  },
  {
   "cell_type": "markdown",
   "id": "7ee7f8ea",
   "metadata": {},
   "source": [
    "The qq plot shows the residuals more closely fitting to the normal line"
   ]
  },
  {
   "cell_type": "code",
   "execution_count": 335,
   "id": "23eb7ebf",
   "metadata": {},
   "outputs": [
    {
     "data": {
      "image/png": "[encoded data removed]",
      "text/plain": [
       "<Figure size 432x288 with 1 Axes>"
      ]
     },
     "metadata": {},
     "output_type": "display_data"
    }
   ],
   "source": [
    "# Plot the Residuals against predicted values\n",
    "plt.scatter(y_pred, y = residuals)\n",
    "plt.axhline(y = 0, color = \"blue\",linestyle = \":\")\n",
    "plt.title(\"'Residuals vs Fitted Values After Log Transform\");"
   ]
  },
  {
   "cell_type": "code",
   "execution_count": 334,
   "id": "c8fc2eaa",
   "metadata": {},
   "outputs": [
    {
     "data": {
      "image/png": "[encoded data removed]",
      "text/plain": [
       "<Figure size 720x432 with 1 Axes>"
      ]
     },
     "metadata": {},
     "output_type": "display_data"
    }
   ],
   "source": [
    "# Plot the predicted versus actual test values\n",
    "plt.subplots(figsize=(10,6))\n",
    "plt.plot(y_pred, label=\"Prediction\")\n",
    "plt.plot(y_test.values, label=\"Actual\")\n",
    "plt.legend()\n",
    "plt.title(\"Predicted Versus Actual Values on Test Set After Log Transform\")\n",
    "plt.show()"
   ]
  },
  {
   "cell_type": "markdown",
   "id": "fafc90b7",
   "metadata": {},
   "source": [
    "* The predicted values are not matching up to the actual values as well in this model\n",
    "* The r2 score fell after we performed a log transformation on the annual income to account for the non-constant variance\n",
    "* Based on the predicted values we can say that approx 75% of the variation in corruption index can be explained by the model\n",
    "* Therefore 75% of the variation in corruption index is explained by annual income and some 25% is due to other factors indicating our model is a little too simplistic"
   ]
  }
 ],
 "metadata": {
  "kernelspec": {
   "display_name": "Python 3",
   "language": "python",
   "name": "python3"
  },
  "language_info": {
   "codemirror_mode": {
    "name": "ipython",
    "version": 3
   },
   "file_extension": ".py",
   "mimetype": "text/x-python",
   "name": "python",
   "nbconvert_exporter": "python",
   "pygments_lexer": "ipython3",
   "version": "3.7.10"
  }
 },
 "nbformat": 4,
 "nbformat_minor": 5
}
